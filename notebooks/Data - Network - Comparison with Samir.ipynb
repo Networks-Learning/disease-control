{
 "cells": [
  {
   "cell_type": "code",
   "execution_count": null,
   "metadata": {},
   "outputs": [],
   "source": [
    "from matplotlib import pyplot as plt\n",
    "%matplotlib inline\n",
    "\n",
    "import json\n",
    "\n",
    "import numpy as np\n",
    "import pandas as pd\n",
    "import networkx as nx"
   ]
  },
  {
   "cell_type": "markdown",
   "metadata": {},
   "source": [
    "### Graph 1 (William's)"
   ]
  },
  {
   "cell_type": "markdown",
   "metadata": {},
   "source": [
    "Load graph"
   ]
  },
  {
   "cell_type": "code",
   "execution_count": null,
   "metadata": {},
   "outputs": [],
   "source": [
    "graph1 = nx.read_edgelist('../data/ebola/ebola_edge_list_simple.tsv', delimiter='\\t', \n",
    "                          create_using=nx.Graph).to_directed()\n",
    "graph1.number_of_nodes(), graph1.number_of_edges()"
   ]
  },
  {
   "cell_type": "markdown",
   "metadata": {},
   "source": [
    "Rename nodes to match Samir's notation"
   ]
  },
  {
   "cell_type": "code",
   "execution_count": null,
   "metadata": {},
   "outputs": [],
   "source": [
    "node_name_map = {}\n",
    "for node in graph1.nodes():\n",
    "    node_name_map[node] = eval(node)[0].replace(' ', '_').replace(\"'\", '')\n",
    "    \n",
    "graph1 = nx.relabel_nodes(graph1, node_name_map)"
   ]
  },
  {
   "cell_type": "code",
   "execution_count": null,
   "metadata": {
    "scrolled": true
   },
   "outputs": [],
   "source": [
    "set(graph1.nodes())"
   ]
  },
  {
   "cell_type": "markdown",
   "metadata": {},
   "source": [
    "Check if the graph is undirected (i.e., all edges exist in both directions)"
   ]
  },
  {
   "cell_type": "code",
   "execution_count": null,
   "metadata": {},
   "outputs": [],
   "source": [
    "assert np.allclose(nx.adjacency_matrix(graph1).toarray(), nx.adjacency_matrix(graph1).toarray().T)"
   ]
  },
  {
   "cell_type": "code",
   "execution_count": null,
   "metadata": {},
   "outputs": [],
   "source": [
    "graph1 = graph1.to_undirected()\n",
    "graph1.number_of_nodes(), graph1.number_of_edges()"
   ]
  },
  {
   "cell_type": "markdown",
   "metadata": {},
   "source": [
    "### Graph 2 (Samir's)"
   ]
  },
  {
   "cell_type": "markdown",
   "metadata": {},
   "source": [
    "Load graph"
   ]
  },
  {
   "cell_type": "code",
   "execution_count": null,
   "metadata": {},
   "outputs": [],
   "source": [
    "graph2 = nx.DiGraph()\n",
    "\n",
    "with open('../data/ebola/samir/Adjacency.txt', 'r') as f:\n",
    "    f.readline() # Pass first line\n",
    "    while True:\n",
    "        line = f.readline()\n",
    "        if not line:\n",
    "            break\n",
    "        node, degree = line.rstrip('\\n').split(' ')\n",
    "        degree = int(degree)\n",
    "        neighbors = f.readline().rstrip('\\n').split(' ')\n",
    "        if (degree == 0) and neighbors == ['']:\n",
    "            continue\n",
    "        assert len(neighbors) == degree\n",
    "        graph2.add_node(node)\n",
    "        graph2.add_edges_from([(node, neigh) for neigh in neighbors])\n",
    "        \n",
    "graph2.number_of_nodes(), graph2.number_of_edges()"
   ]
  },
  {
   "cell_type": "markdown",
   "metadata": {},
   "source": [
    "Check if the graph is undirected (i.e., all edges exist in both directions)"
   ]
  },
  {
   "cell_type": "code",
   "execution_count": null,
   "metadata": {},
   "outputs": [],
   "source": [
    "assert np.allclose(nx.adjacency_matrix(graph2).toarray(), nx.adjacency_matrix(graph2).toarray().T)"
   ]
  },
  {
   "cell_type": "code",
   "execution_count": null,
   "metadata": {},
   "outputs": [],
   "source": [
    "graph2 = graph2.to_undirected()\n",
    "graph2.number_of_nodes(), graph2.number_of_edges()"
   ]
  },
  {
   "cell_type": "markdown",
   "metadata": {},
   "source": [
    "Nodes missing in `graph2`"
   ]
  },
  {
   "cell_type": "code",
   "execution_count": null,
   "metadata": {},
   "outputs": [],
   "source": [
    "set(graph1.nodes()) - set(graph2.nodes())"
   ]
  },
  {
   "cell_type": "markdown",
   "metadata": {},
   "source": [
    "Nodes missing in `graph1`"
   ]
  },
  {
   "cell_type": "code",
   "execution_count": null,
   "metadata": {},
   "outputs": [],
   "source": [
    "set(graph2.nodes()) - set(graph1.nodes())"
   ]
  },
  {
   "cell_type": "code",
   "execution_count": null,
   "metadata": {
    "scrolled": true
   },
   "outputs": [],
   "source": [
    "graph2.add_node('MALI')\n",
    "for node in sorted(graph1.nodes()):\n",
    "    neigh_list_1 = sorted(list(graph1.neighbors(node)))\n",
    "    neigh_list_2 = sorted(list(graph2.neighbors(node)))\n",
    "    if not neigh_list_1 == neigh_list_2:\n",
    "        print('---')\n",
    "        print(node)\n",
    "        print('me:', neigh_list_1)\n",
    "        print('sa:', neigh_list_2)\n",
    "        print('me-sa:', set(neigh_list_1) - set(neigh_list_2))\n",
    "        print('sa-me:', set(neigh_list_2) - set(neigh_list_1))"
   ]
  },
  {
   "cell_type": "code",
   "execution_count": null,
   "metadata": {},
   "outputs": [],
   "source": []
  },
  {
   "cell_type": "markdown",
   "metadata": {},
   "source": [
    "### Make the best of both graph\n",
    "\n",
    "Start from Samir's graph and add a few missing edges."
   ]
  },
  {
   "cell_type": "code",
   "execution_count": null,
   "metadata": {},
   "outputs": [],
   "source": [
    "graph3 = graph2.copy()\n",
    "graph3.add_edges_from([('MALI', 'TOUGUE'), ('MALI', 'PITA')]) # Connect MALI\n",
    "graph3.add_edges_from([('DALABA', 'DABOLA'), ('DALABA', 'FARANAH')]) # Connect missing edges to DALABA\n",
    "# Make the capital districts equivalent\n",
    "# capital_districts = ['CONAKRY', 'COYAH', 'DUBREKA']\n",
    "# capital_neighbors = set()\n",
    "# for u in capital_districts:\n",
    "#     capital_neighbors.update(list(graph2.neighbors(u)))\n",
    "# for u in capital_districts:\n",
    "#     graph3.add_edges_from([(u, v) for v in capital_neighbors])\n",
    "# graph3.remove_edges_from(graph3.selfloop_edges())  # Remove self loops in capital disctricts"
   ]
  },
  {
   "cell_type": "code",
   "execution_count": null,
   "metadata": {},
   "outputs": [],
   "source": [
    "import folium\n",
    "\n",
    "pos_dict = {\n",
    "    ('BEYLA', 'Guinea'): [-8.633333, 8.683333],\n",
    "    ('BO', 'Sierra Leone'): [-11.471, 7.9552],\n",
    "    ('BOFFA', 'Guinea'): [-14.039161, 10.180825],\n",
    "    ('BOKE', 'Guinea'): [-14.100133, 11.186467],\n",
    "    ('BOMBALI', 'Sierra Leone'): [-12.163272, 9.247584],\n",
    "    ('BOMI', 'Liberia'): [-10.845147, 6.756293],\n",
    "    ('BONG', 'Liberia'): [-9.367308, 6.829502],\n",
    "    ('BONTHE', 'Sierra Leone'): [-12.503992, 7.525703],\n",
    "    ('CONAKRY', 'Guinea'): [-13.578401, 9.641185],\n",
    "    ('COYAH', 'Guinea'): [-13.387612, 9.708636],\n",
    "    ('DABOLA', 'Guinea'): [-11.110785, 10.729781],\n",
    "    ('DALABA', 'Guinea'): [-12.249070, 10.686818],\n",
    "    ('DINGUIRAYE', 'Guinea'): [-10.715423, 11.289951],\n",
    "    ('DUBREKA', 'Guinea'): [-13.514774, 9.790735],\n",
    "    ('FARANAH', 'Guinea'): [-10.749247, 10.045102],\n",
    "    ('FORECARIAH', 'Guinea'): [-13.090435, 9.434471],\n",
    "    ('FRIA', 'Guinea'): [-13.584187, 10.367454],\n",
    "    ('GBARPOLU', 'Liberia'): [-10.080730, 7.495264],\n",
    "    ('GRAND BASSA', 'Liberia'): [-9.812493, 6.230845],\n",
    "    ('GRAND CAPE MOUNT', 'Liberia'): [-11.071176, 7.046776],\n",
    "    ('GRAND GEDEH', 'Liberia'): [-8.221298, 5.922208],\n",
    "    ('GRAND KRU', 'Liberia'): [-8.221298, 4.761386],\n",
    "    ('GUECKEDOU', 'Guinea'): [-10.131116, 8.564969],\n",
    "    ('KAILAHUN', 'Sierra Leone'): [-10.571809, 8.280220],\n",
    "    ('KAMBIA', 'Sierra Leone'): [-12.917652, 9.126166],\n",
    "    ('KANKAN', 'Guinea'): [-9.311828, 10.382789],\n",
    "    ('KENEMA', 'Sierra Leone'): [-11.195717, 7.863215],\n",
    "    ('KEROUANE', 'Guinea'): [-9.007367, 9.270260],\n",
    "    ('KINDIA', 'Guinea'): [-12.862989, 10.040672],\n",
    "    ('KISSIDOUGO', 'Guinea'): [-10.114318, 9.191454],\n",
    "    ('KOINADUGU', 'Sierra Leone'): [-11.524805, 9.530862],\n",
    "    ('KONO', 'Sierra Leone'): [-10.890310, 8.766329],\n",
    "    ('KOUROUSSA', 'Guinea'): [-9.885059, 10.648923],\n",
    "    ('LOFA', 'Liberia'): [-9.723267, 8.191118],\n",
    "    ('LOLA', 'Guinea'): [-8.533653, 7.802235],\n",
    "    ('MACENTA', 'Guinea'): [-9.472824, 8.538294],\n",
    "    ('MALI', 'Guinea'): [-12.297718, 12.074294],\n",
    "    ('MARGIBI', 'Liberia'): [-10.304890, 6.515187],\n",
    "    ('MARYLAND', 'Liberia'): [-7.741670, 4.725888],\n",
    "    ('MONTSERRADO', 'Liberia'): [-10.529611, 6.552581],\n",
    "    ('MOYAMBA', 'Sierra Leone'): [-12.435192, 8.162051],\n",
    "    (\"N'ZEREKORE\", 'Guinea'): [-8.825250, 7.747836],\n",
    "    ('NIMBA', 'Liberia'): [-8.660059, 6.842761],\n",
    "    ('PITA', 'Guinea'): [-12.397943, 11.057462],\n",
    "    ('PORT LOKO', 'Sierra Leone'): [-12.785352, 8.768689],\n",
    "    ('PUJEHUN', 'Sierra Leone'): [-11.721064, 7.356299],\n",
    "    ('RIVER GEE', 'Liberia'): [-7.872160, 5.260489],\n",
    "    ('RIVERCESS', 'Liberia'): [-9.456155, 5.902533],\n",
    "    ('SIGUIRI', 'Guinea'): [-9.178830, 11.414811],\n",
    "    ('SINOE', 'Liberia'): [-8.660059, 5.498710],\n",
    "    ('TELIMELE', 'Guinea'): [-13.029933, 10.908936],\n",
    "    ('TONKOLILI', 'Sierra Leone'): [-11.797961, 8.738942],\n",
    "    ('TOUGUE', 'Guinea'): [-11.664139, 11.446422],\n",
    "    ('WESTERN', 'Sierra Leone'): [-13.035694, 8.311498],\n",
    "    ('YOMOU', 'Guinea'): [-9.259157, 7.569628],\n",
    "}\n",
    "pos_dict = list(pos_dict.items())\n",
    "pos_dict = [(k[0].replace(' ', '_').replace(\"'\", ''),v) for k,v in pos_dict]\n",
    "pos_dict = dict(pos_dict)\n",
    "\n",
    "graph = graph3\n",
    "\n",
    "m = folium.Map(location=[9.442303, -10.843602], tiles='Mapbox Bright', zoom_start=7)\n",
    "\n",
    "for x, y in graph.edges():\n",
    "    edge = folium.PolyLine(locations=[pos_dict[y][::-1], pos_dict[x][::-1]], weight=2, color='black')\n",
    "    edge.add_to(m)\n",
    "\n",
    "labels = {u: u.capitalize() for u in graph.nodes()}\n",
    "for n, label in labels.items():\n",
    "    folium.map.Marker(\n",
    "        pos_dict[n][::-1],\n",
    "        icon=folium.features.DivIcon(\n",
    "            icon_size=(30,15),\n",
    "            icon_anchor=(0,0),\n",
    "            html=f'<div style=\"font-size: 10pt\">{label}</div>',\n",
    "            )\n",
    "    ).add_to(m)\n",
    "    \n",
    "m.save('../data/ebola_map_samir.html')\n",
    "    \n",
    "m"
   ]
  },
  {
   "cell_type": "code",
   "execution_count": null,
   "metadata": {},
   "outputs": [],
   "source": [
    "nx.write_edgelist(graph3, '../data/ebola/ebola_net_edge_list.csv', data=False)"
   ]
  },
  {
   "cell_type": "code",
   "execution_count": null,
   "metadata": {},
   "outputs": [],
   "source": []
  }
 ],
 "metadata": {
  "kernelspec": {
   "display_name": "Python 3",
   "language": "python",
   "name": "python3"
  },
  "language_info": {
   "codemirror_mode": {
    "name": "ipython",
    "version": 3
   },
   "file_extension": ".py",
   "mimetype": "text/x-python",
   "name": "python",
   "nbconvert_exporter": "python",
   "pygments_lexer": "ipython3",
   "version": "3.6.3"
  }
 },
 "nbformat": 4,
 "nbformat_minor": 2
}
