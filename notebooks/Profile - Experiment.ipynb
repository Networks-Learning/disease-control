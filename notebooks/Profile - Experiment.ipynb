{
 "cells": [
  {
   "cell_type": "code",
   "execution_count": 1,
   "metadata": {},
   "outputs": [],
   "source": [
    "%load_ext autoreload\n",
    "%autoreload 2\n",
    "\n",
    "%load_ext line_profiler\n",
    "\n",
    "import sys\n",
    "if '../' not in sys.path:\n",
    "    sys.path.append('../')"
   ]
  },
  {
   "cell_type": "code",
   "execution_count": 2,
   "metadata": {
    "scrolled": true
   },
   "outputs": [],
   "source": [
    "import networkx as nx\n",
    "import numpy as np\n",
    "import argparse\n",
    "import joblib\n",
    "import os\n",
    "\n",
    "from experiment import Experiment"
   ]
  },
  {
   "cell_type": "code",
   "execution_count": 3,
   "metadata": {},
   "outputs": [
    {
     "name": "stdout",
     "output_type": "stream",
     "text": [
      "Network: 500 nodes, 10761 edges\n",
      "\n",
      "Choose set of initial infected seeds\n",
      "\n"
     ]
    }
   ],
   "source": [
    "# Construct the adjacency  matrix A of the propagation network\n",
    "net = nx.read_edgelist('../data/ebola/ebola_augmented_net_edge_list.csv')\n",
    "A = nx.adjacency_matrix(net).toarray().astype(float)\n",
    "n_nodes = net.number_of_nodes()\n",
    "n_edges = net.number_of_edges()\n",
    "print(f\"Network: {n_nodes:d} nodes, {n_edges:d} edges\")\n",
    "print()\n",
    "\n",
    "# Initial infections\n",
    "print('Choose set of initial infected seeds')\n",
    "infected = 10\n",
    "X_init = np.hstack(((np.ones(infected), np.zeros(n_nodes - infected))))\n",
    "X_init = np.random.permutation(X_init)\n",
    "print()"
   ]
  },
  {
   "cell_type": "code",
   "execution_count": 4,
   "metadata": {},
   "outputs": [],
   "source": [
    "exp = Experiment(\n",
    "    name='test_all',\n",
    "    sim_dict={\n",
    "        'total_time': 10.00,\n",
    "        'trials_per_setting': 1\n",
    "    },\n",
    "    param_dict={\n",
    "        'beta':  6.0,\n",
    "        'gamma': 5.0,\n",
    "        'delta': 1.0,\n",
    "        'rho':   5.0,\n",
    "        'eta':   1.0\n",
    "    },\n",
    "    cost_dict={\n",
    "        'Qlam': 1.0,\n",
    "        'Qx': 400.0\n",
    "    },\n",
    "    policy_list=[\n",
    "        'SOC',\n",
    "    ],\n",
    "    baselines_dict={\n",
    "        'TR': 0.003,\n",
    "        'MN': 0.0007,\n",
    "        'LN': 0.0008,\n",
    "        'LRSR': 22.807,\n",
    "        'MCM': 22.807,\n",
    "        'FL_info': {'N': None, 'max_u': None},\n",
    "    }\n",
    ")"
   ]
  },
  {
   "cell_type": "code",
   "execution_count": 5,
   "metadata": {},
   "outputs": [],
   "source": [
    "from dynamics import SISDynamicalSystem"
   ]
  },
  {
   "cell_type": "code",
   "execution_count": 6,
   "metadata": {
    "scrolled": true
   },
   "outputs": [
    {
     "name": "stdout",
     "output_type": "stream",
     "text": [
      "=== Policy: SOC...\n",
      "  - Trial 1/1\n"
     ]
    },
    {
     "name": "stderr",
     "output_type": "stream",
     "text": [
      "                                          "
     ]
    },
    {
     "name": "stdout",
     "output_type": "stream",
     "text": [
      "*** KeyboardInterrupt exception caught in code being profiled."
     ]
    },
    {
     "name": "stderr",
     "output_type": "stream",
     "text": [
      "\r"
     ]
    }
   ],
   "source": [
    "%lprun -f SISDynamicalSystem._getOptPolicy exp.run(A, X_init)"
   ]
  },
  {
   "cell_type": "code",
   "execution_count": null,
   "metadata": {},
   "outputs": [],
   "source": []
  }
 ],
 "metadata": {
  "kernelspec": {
   "display_name": "Python 3",
   "language": "python",
   "name": "python3"
  },
  "language_info": {
   "codemirror_mode": {
    "name": "ipython",
    "version": 3
   },
   "file_extension": ".py",
   "mimetype": "text/x-python",
   "name": "python",
   "nbconvert_exporter": "python",
   "pygments_lexer": "ipython3",
   "version": "3.6.3"
  }
 },
 "nbformat": 4,
 "nbformat_minor": 2
}
