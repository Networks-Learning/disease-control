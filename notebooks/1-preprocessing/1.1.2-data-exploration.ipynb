{
 "cells": [
  {
   "cell_type": "markdown",
   "metadata": {},
   "source": [
    "# Explore the data\n",
    "\n",
    "Explore the Ebola dataset and preprocess according to the study [rstb20160308](https://www.ncbi.nlm.nih.gov/pmc/articles/PMC5394646/pdf/rstb20160308.pdf)."
   ]
  },
  {
   "cell_type": "code",
   "execution_count": 2,
   "metadata": {},
   "outputs": [],
   "source": [
    "import numpy as np\n",
    "import pandas as pd\n",
    "import networkx as nx\n",
    "import json\n",
    "import os\n",
    "\n",
    "from matplotlib import pyplot as plt\n",
    "%matplotlib inline\n",
    "\n",
    "from lib.settings import DATA_DIR"
   ]
  },
  {
   "cell_type": "markdown",
   "metadata": {},
   "source": [
    "Load the clean dataset"
   ]
  },
  {
   "cell_type": "code",
   "execution_count": 4,
   "metadata": {},
   "outputs": [
    {
     "name": "stdout",
     "output_type": "stream",
     "text": [
      "(27531, 3)\n"
     ]
    },
    {
     "data": {
      "text/html": [
       "<div>\n",
       "<style scoped>\n",
       "    .dataframe tbody tr th:only-of-type {\n",
       "        vertical-align: middle;\n",
       "    }\n",
       "\n",
       "    .dataframe tbody tr th {\n",
       "        vertical-align: top;\n",
       "    }\n",
       "\n",
       "    .dataframe thead th {\n",
       "        text-align: right;\n",
       "    }\n",
       "</style>\n",
       "<table border=\"1\" class=\"dataframe\">\n",
       "  <thead>\n",
       "    <tr style=\"text-align: right;\">\n",
       "      <th></th>\n",
       "      <th>district</th>\n",
       "      <th>infection_date</th>\n",
       "      <th>infection_timestamp</th>\n",
       "    </tr>\n",
       "  </thead>\n",
       "  <tbody>\n",
       "    <tr>\n",
       "      <th>0</th>\n",
       "      <td>WESTERN</td>\n",
       "      <td>2013-12-26</td>\n",
       "      <td>0.0</td>\n",
       "    </tr>\n",
       "    <tr>\n",
       "      <th>1</th>\n",
       "      <td>PUJEHUN</td>\n",
       "      <td>2013-12-26</td>\n",
       "      <td>0.0</td>\n",
       "    </tr>\n",
       "    <tr>\n",
       "      <th>2</th>\n",
       "      <td>TONKOLILI</td>\n",
       "      <td>2014-01-01</td>\n",
       "      <td>6.0</td>\n",
       "    </tr>\n",
       "    <tr>\n",
       "      <th>3</th>\n",
       "      <td>WESTERN</td>\n",
       "      <td>2014-01-01</td>\n",
       "      <td>6.0</td>\n",
       "    </tr>\n",
       "    <tr>\n",
       "      <th>4</th>\n",
       "      <td>GUECKEDOU</td>\n",
       "      <td>2014-01-01</td>\n",
       "      <td>6.0</td>\n",
       "    </tr>\n",
       "  </tbody>\n",
       "</table>\n",
       "</div>"
      ],
      "text/plain": [
       "    district infection_date  infection_timestamp\n",
       "0    WESTERN     2013-12-26                  0.0\n",
       "1    PUJEHUN     2013-12-26                  0.0\n",
       "2  TONKOLILI     2014-01-01                  6.0\n",
       "3    WESTERN     2014-01-01                  6.0\n",
       "4  GUECKEDOU     2014-01-01                  6.0"
      ]
     },
     "execution_count": 4,
     "metadata": {},
     "output_type": "execute_result"
    }
   ],
   "source": [
    "df_clean = pd.read_csv(os.path.join(DATA_DIR, 'ebola', 'rstb20160308_si_001_cleaned.csv'),\n",
    "                       parse_dates=['infection_date'], \n",
    "                       infer_datetime_format=True)\n",
    "print(df_clean.shape)\n",
    "df_clean.head()"
   ]
  },
  {
   "cell_type": "markdown",
   "metadata": {},
   "source": [
    "---"
   ]
  },
  {
   "cell_type": "markdown",
   "metadata": {},
   "source": [
    "## Plot the number infected over time\n",
    "\n",
    "For the recoveries, we use for each infection the average rate plus/minus standard deviation from the literature."
   ]
  },
  {
   "cell_type": "code",
   "execution_count": 9,
   "metadata": {},
   "outputs": [],
   "source": [
    "rec_avg = 11.4 # in days\n",
    "rec_std = 5.5 # in days"
   ]
  },
  {
   "cell_type": "code",
   "execution_count": 10,
   "metadata": {},
   "outputs": [],
   "source": [
    "df_clean['recovery_timestamp_mean'] = df_clean.infection_timestamp + rec_avg\n",
    "df_clean['recovery_timestamp_min'] = df_clean.infection_timestamp + rec_avg - rec_std\n",
    "df_clean['recovery_timestamp_max'] = df_clean.infection_timestamp + rec_avg + rec_std"
   ]
  },
  {
   "cell_type": "code",
   "execution_count": 12,
   "metadata": {
    "scrolled": true
   },
   "outputs": [
    {
     "data": {
      "text/html": [
       "<div>\n",
       "<style scoped>\n",
       "    .dataframe tbody tr th:only-of-type {\n",
       "        vertical-align: middle;\n",
       "    }\n",
       "\n",
       "    .dataframe tbody tr th {\n",
       "        vertical-align: top;\n",
       "    }\n",
       "\n",
       "    .dataframe thead th {\n",
       "        text-align: right;\n",
       "    }\n",
       "</style>\n",
       "<table border=\"1\" class=\"dataframe\">\n",
       "  <thead>\n",
       "    <tr style=\"text-align: right;\">\n",
       "      <th></th>\n",
       "      <th>district</th>\n",
       "      <th>infection_date</th>\n",
       "      <th>infection_timestamp</th>\n",
       "      <th>recovery_timestamp_mean</th>\n",
       "      <th>recovery_timestamp_min</th>\n",
       "      <th>recovery_timestamp_max</th>\n",
       "    </tr>\n",
       "  </thead>\n",
       "  <tbody>\n",
       "    <tr>\n",
       "      <th>0</th>\n",
       "      <td>WESTERN</td>\n",
       "      <td>2013-12-26</td>\n",
       "      <td>0.0</td>\n",
       "      <td>11.4</td>\n",
       "      <td>5.9</td>\n",
       "      <td>16.9</td>\n",
       "    </tr>\n",
       "    <tr>\n",
       "      <th>1</th>\n",
       "      <td>PUJEHUN</td>\n",
       "      <td>2013-12-26</td>\n",
       "      <td>0.0</td>\n",
       "      <td>11.4</td>\n",
       "      <td>5.9</td>\n",
       "      <td>16.9</td>\n",
       "    </tr>\n",
       "    <tr>\n",
       "      <th>2</th>\n",
       "      <td>TONKOLILI</td>\n",
       "      <td>2014-01-01</td>\n",
       "      <td>6.0</td>\n",
       "      <td>17.4</td>\n",
       "      <td>11.9</td>\n",
       "      <td>22.9</td>\n",
       "    </tr>\n",
       "    <tr>\n",
       "      <th>3</th>\n",
       "      <td>WESTERN</td>\n",
       "      <td>2014-01-01</td>\n",
       "      <td>6.0</td>\n",
       "      <td>17.4</td>\n",
       "      <td>11.9</td>\n",
       "      <td>22.9</td>\n",
       "    </tr>\n",
       "    <tr>\n",
       "      <th>4</th>\n",
       "      <td>GUECKEDOU</td>\n",
       "      <td>2014-01-01</td>\n",
       "      <td>6.0</td>\n",
       "      <td>17.4</td>\n",
       "      <td>11.9</td>\n",
       "      <td>22.9</td>\n",
       "    </tr>\n",
       "  </tbody>\n",
       "</table>\n",
       "</div>"
      ],
      "text/plain": [
       "    district infection_date  infection_timestamp  recovery_timestamp_mean  recovery_timestamp_min  recovery_timestamp_max\n",
       "0    WESTERN     2013-12-26                  0.0                     11.4                     5.9                    16.9\n",
       "1    PUJEHUN     2013-12-26                  0.0                     11.4                     5.9                    16.9\n",
       "2  TONKOLILI     2014-01-01                  6.0                     17.4                    11.9                    22.9\n",
       "3    WESTERN     2014-01-01                  6.0                     17.4                    11.9                    22.9\n",
       "4  GUECKEDOU     2014-01-01                  6.0                     17.4                    11.9                    22.9"
      ]
     },
     "execution_count": 12,
     "metadata": {},
     "output_type": "execute_result"
    }
   ],
   "source": [
    "df_clean.head()"
   ]
  },
  {
   "cell_type": "code",
   "execution_count": 28,
   "metadata": {},
   "outputs": [
    {
     "data": {
      "image/png": "[encoded data removed]",
      "text/plain": [
       "<Figure size 1080x432 with 1 Axes>"
      ]
     },
     "metadata": {
      "needs_background": "light"
     },
     "output_type": "display_data"
    }
   ],
   "source": [
    "tspace = np.arange(min(df_clean.infection_timestamp),max(df_clean.infection_timestamp)+1, 7)[:-1]\n",
    "dspace = pd.date_range(df_clean.infection_date.iloc[0], df_clean.infection_date.iloc[-1], freq='W')\n",
    "\n",
    "y_min = np.zeros_like(tspace)\n",
    "y_max = np.zeros_like(tspace)\n",
    "y_mean = np.zeros_like(tspace)\n",
    "\n",
    "for i, t in enumerate(tspace):\n",
    "    y_min[i] = np.sum((df_clean.infection_timestamp <= t) & (df_clean.recovery_timestamp_min > t))\n",
    "    y_max[i] = np.sum((df_clean.infection_timestamp <= t) & (df_clean.recovery_timestamp_max > t))\n",
    "    y_mean[i] = np.sum((df_clean.infection_timestamp <= t) & (df_clean.recovery_timestamp_mean > t))\n",
    "\n",
    "\n",
    "plt.figure(figsize=(15,6))\n",
    "plt.grid()\n",
    "plt.plot(dspace, y_mean)\n",
    "plt.fill_between(dspace, y_min, y_max, label='avg $\\pm$ std', alpha=0.5)\n",
    "\n",
    "plt.xlabel('Days since first case')\n",
    "plt.ylabel('Number of infected cases');\n",
    "\n",
    "# plt.xlim('2014-05-11', '2014-07-20')\n",
    "# plt.ylim(0, 300)"
   ]
  },
  {
   "cell_type": "code",
   "execution_count": 38,
   "metadata": {},
   "outputs": [
    {
     "data": {
      "image/png": "[encoded data removed]",
      "text/plain": [
       "<Figure size 1080x432 with 1 Axes>"
      ]
     },
     "metadata": {
      "needs_background": "light"
     },
     "output_type": "display_data"
    }
   ],
   "source": [
    "inf_cumsum = df_clean.groupby('infection_date')['infection_timestamp'].count().cumsum()\n",
    "\n",
    "max_val = 30000\n",
    "inf_cumsum = inf_cumsum / max_val * 100\n",
    "\n",
    "plt.figure(figsize=(15,6))\n",
    "inf_cumsum.plot()\n",
    "plt.xlabel('Days since first case')\n",
    "plt.ylabel(f'Cumulative Percentage of cases\\n(with max value: {max_val})');"
   ]
  },
  {
   "cell_type": "markdown",
   "metadata": {},
   "source": [
    "---"
   ]
  },
  {
   "cell_type": "markdown",
   "metadata": {},
   "source": [
    "### Format into infection timeseries per district"
   ]
  },
  {
   "cell_type": "code",
   "execution_count": 80,
   "metadata": {},
   "outputs": [],
   "source": [
    "df_ts = df_clean.groupby('district').infection_timestamp.apply(list)"
   ]
  },
  {
   "cell_type": "code",
   "execution_count": 81,
   "metadata": {},
   "outputs": [
    {
     "data": {
      "text/plain": [
       "district\n",
       "BEYLA               [233.0, 260.0, 266.0, 273.0, 279.0, 284.0, 284...\n",
       "BO                  [176.0, 188.0, 190.0, 190.0, 191.0, 193.0, 194...\n",
       "BOFFA               [127.0, 143.0, 144.0, 144.0, 145.0, 146.0, 147...\n",
       "BOKE                [277.0, 496.0, 497.0, 497.0, 498.0, 513.0, 524...\n",
       "BOMBALI             [162.0, 183.0, 194.0, 203.0, 205.0, 205.0, 207...\n",
       "BOMI                [67.0, 175.0, 194.0, 196.0, 196.0, 198.0, 198....\n",
       "BONG                [60.0, 82.0, 89.0, 93.0, 101.0, 105.0, 187.0, ...\n",
       "BONTHE                     [203.0, 246.0, 288.0, 381.0, 482.0, 555.0]\n",
       "CONAKRY             [69.0, 77.0, 78.0, 80.0, 84.0, 84.0, 85.0, 86....\n",
       "COYAH               [235.0, 235.0, 245.0, 245.0, 254.0, 264.0, 268...\n",
       "DABOLA              [84.0, 85.0, 93.0, 268.0, 283.0, 311.0, 328.0,...\n",
       "DALABA              [254.0, 257.0, 258.0, 266.0, 266.0, 271.0, 279.0]\n",
       "DUBREKA             [157.0, 230.0, 231.0, 235.0, 236.0, 236.0, 237...\n",
       "FARANAH             [287.0, 289.0, 290.0, 308.0, 310.0, 310.0, 310...\n",
       "FORECARIAH          [222.0, 231.0, 231.0, 237.0, 248.0, 253.0, 259...\n",
       "FRIA                [365.0, 438.0, 449.0, 452.0, 454.0, 454.0, 465...\n",
       "GBARPOLU            [221.0, 265.0, 266.0, 279.0, 279.0, 282.0, 284...\n",
       "GRAND_BASSA         [188.0, 193.0, 199.0, 202.0, 203.0, 211.0, 213...\n",
       "GRAND_CAPE_MOUNT    [202.0, 202.0, 214.0, 216.0, 228.0, 243.0, 248...\n",
       "GRAND_GEDEH         [118.0, 261.0, 274.0, 301.0, 307.0, 324.0, 325.0]\n",
       "GRAND_KRU           [221.0, 221.0, 222.0, 250.0, 252.0, 255.0, 255...\n",
       "GUECKEDOU           [6.0, 6.0, 11.0, 20.0, 25.0, 30.0, 34.0, 37.0,...\n",
       "KAILAHUN            [140.0, 145.0, 147.0, 147.0, 149.0, 149.0, 150...\n",
       "KAMBIA              [154.0, 249.0, 252.0, 252.0, 254.0, 254.0, 255...\n",
       "KANKAN              [288.0, 295.0, 307.0, 309.0, 309.0, 317.0, 319...\n",
       "KENEMA              [136.0, 138.0, 157.0, 158.0, 161.0, 164.0, 166...\n",
       "KEROUANE            [232.0, 237.0, 240.0, 242.0, 242.0, 242.0, 242...\n",
       "KINDIA              [267.0, 287.0, 287.0, 289.0, 298.0, 301.0, 304...\n",
       "KISSIDOUGO          [65.0, 73.0, 75.0, 77.0, 82.0, 93.0, 237.0, 24...\n",
       "KOINADUGU           [133.0, 142.0, 221.0, 226.0, 236.0, 240.0, 250...\n",
       "KONO                [125.0, 155.0, 193.0, 201.0, 209.0, 213.0, 215...\n",
       "KOUROUSSA           [77.0, 141.0, 159.0, 209.0, 295.0, 317.0, 320....\n",
       "LOFA                [75.0, 92.0, 92.0, 94.0, 95.0, 132.0, 145.0, 1...\n",
       "LOLA                [257.0, 260.0, 273.0, 278.0, 278.0, 278.0, 278...\n",
       "MACENTA             [53.0, 55.0, 61.0, 65.0, 65.0, 71.0, 71.0, 71....\n",
       "MALI                                            [413.0, 413.0, 415.0]\n",
       "MARGIBI             [81.0, 87.0, 101.0, 177.0, 180.0, 186.0, 200.0...\n",
       "MARYLAND            [233.0, 257.0, 260.0, 260.0, 271.0, 286.0, 293...\n",
       "MONTSERRADO         [64.0, 100.0, 135.0, 140.0, 140.0, 141.0, 147....\n",
       "MOYAMBA             [131.0, 204.0, 213.0, 214.0, 215.0, 218.0, 218...\n",
       "NIMBA               [65.0, 82.0, 92.0, 94.0, 94.0, 97.0, 104.0, 18...\n",
       "NZEREKORE           [216.0, 216.0, 216.0, 224.0, 229.0, 229.0, 229...\n",
       "PITA                       [201.0, 224.0, 224.0, 229.0, 244.0, 278.0]\n",
       "PORT_LOKO           [157.0, 159.0, 162.0, 172.0, 188.0, 192.0, 202...\n",
       "PUJEHUN             [0.0, 99.0, 214.0, 214.0, 216.0, 221.0, 224.0,...\n",
       "RIVERCESS           [194.0, 199.0, 212.0, 212.0, 221.0, 229.0, 231...\n",
       "RIVER_GEE           [212.0, 223.0, 226.0, 226.0, 232.0, 243.0, 243...\n",
       "SIGUIRI             [196.0, 207.0, 208.0, 208.0, 209.0, 214.0, 254...\n",
       "SINOE               [233.0, 241.0, 241.0, 255.0, 256.0, 259.0, 259...\n",
       "TELIMELE            [119.0, 131.0, 131.0, 139.0, 146.0, 147.0, 148...\n",
       "TONKOLILI           [6.0, 201.0, 207.0, 208.0, 218.0, 222.0, 230.0...\n",
       "TOUGUE                                                 [385.0, 401.0]\n",
       "WESTERN             [0.0, 6.0, 31.0, 51.0, 64.0, 65.0, 67.0, 84.0,...\n",
       "YOMOU               [219.0, 227.0, 229.0, 229.0, 232.0, 232.0, 238...\n",
       "Name: infection_timestamp, dtype: object"
      ]
     },
     "execution_count": 81,
     "metadata": {},
     "output_type": "execute_result"
    }
   ],
   "source": [
    "df_ts"
   ]
  },
  {
   "cell_type": "code",
   "execution_count": null,
   "metadata": {},
   "outputs": [],
   "source": []
  }
 ],
 "metadata": {
  "kernelspec": {
   "display_name": "Python 3",
   "language": "python",
   "name": "python3"
  },
  "language_info": {
   "codemirror_mode": {
    "name": "ipython",
    "version": 3
   },
   "file_extension": ".py",
   "mimetype": "text/x-python",
   "name": "python",
   "nbconvert_exporter": "python",
   "pygments_lexer": "ipython3",
   "version": "3.6.8"
  }
 },
 "nbformat": 4,
 "nbformat_minor": 2
}
