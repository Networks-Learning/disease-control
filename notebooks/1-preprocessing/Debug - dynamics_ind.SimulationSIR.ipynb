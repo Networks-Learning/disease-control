{
 "cells": [
  {
   "cell_type": "code",
   "execution_count": 1,
   "metadata": {},
   "outputs": [],
   "source": [
    "%load_ext autoreload\n",
    "%autoreload 2"
   ]
  },
  {
   "cell_type": "code",
   "execution_count": 2,
   "metadata": {},
   "outputs": [],
   "source": [
    "import sys\n",
    "if '..' not in sys.path:\n",
    "    sys.path.append('..')"
   ]
  },
  {
   "cell_type": "code",
   "execution_count": 3,
   "metadata": {},
   "outputs": [],
   "source": [
    "import random as rd\n",
    "import numpy as np\n",
    "import networkx as nx\n",
    "\n",
    "from matplotlib import pyplot as plt\n",
    "%matplotlib inline\n",
    "\n",
    "from dynamics_ind import SimulationSIR, PriorityQueue, sample_seeds"
   ]
  },
  {
   "cell_type": "code",
   "execution_count": 17,
   "metadata": {},
   "outputs": [],
   "source": [
    "n_nodes = 1000\n",
    "graph = nx.complete_graph(n=n_nodes)\n",
    "\n",
    "# graph = nx.from_edgelist([(0, 1), (1,2), (2,3), (3,4), (4,5)], create_using=nx.Graph)\n",
    "# n_nodes = graph.number_of_nodes()\n",
    "\n",
    "A = nx.adjacency_matrix(graph).toarray()\n",
    "\n",
    "\n",
    "beta = 1 / 8.0\n",
    "delta = n_nodes / 12.3\n",
    "\n",
    "gamma = 0.0\n",
    "rho = 0.0\n",
    "eta = 1.0\n",
    "\n",
    "q_x = 300.0\n",
    "q_lam = 1.0\n",
    "\n",
    "max_time = 10.0\n",
    "\n",
    "policy_dict = {\n",
    "    'TR': 0.06,\n",
    "    'MN': 0.012,\n",
    "    'LN': 0.012,\n",
    "    'LRSR': 22.807,\n",
    "    'MCM': 22.807,\n",
    "    'FL_info': {'N': None, 'max_u': None},\n",
    "}\n",
    "\n",
    "policy_name = 'NO'"
   ]
  },
  {
   "cell_type": "code",
   "execution_count": 18,
   "metadata": {},
   "outputs": [
    {
     "name": "stdout",
     "output_type": "stream",
     "text": [
      "[[(0, 'inf', 0), 0.0], [(0, 'rec', None), 0.020955449007606965]]\n"
     ]
    }
   ],
   "source": [
    "init_event_list = [\n",
    "    [(0, 'inf', 0), 0.0],\n",
    "    [(0, 'rec', None), rd.expovariate(delta)],\n",
    "]\n",
    "\n",
    "X_init = np.zeros(n_nodes)\n",
    "X_init[0] = 1\n",
    "\n",
    "print(init_event_list)"
   ]
  },
  {
   "cell_type": "markdown",
   "metadata": {},
   "source": [
    "---"
   ]
  },
  {
   "cell_type": "code",
   "execution_count": 19,
   "metadata": {
    "scrolled": true
   },
   "outputs": [
    {
     "name": "stdout",
     "output_type": "stream",
     "text": [
      "1\n",
      "Epidemic stopped after 0.03 days | 998 sus., 0 inf., 2 rec., 0 tre (nan% of inf) | I(q): 1995 R(q): 0 T(q): 0 |q|: 1995\n",
      "2\n",
      "Epidemic stopped after 0.25 days | 362 sus., 0 inf., 638 rec., 0 tre (nan% of inf) | I(q): 424207 R(q): 0 T(q): 0 |q|: 424207\n",
      "3\n",
      "Epidemic stopped after 0.03 days | 993 sus., 0 inf., 7 rec., 0 tre (nan% of inf) | I(q): 6961 R(q): 0 T(q): 0 |q|: 6961\n",
      "4\n",
      "Epidemic stopped after 0.02 days | 998 sus., 0 inf., 2 rec., 0 tre (nan% of inf) | I(q): 1995 R(q): 0 T(q): 0 |q|: 1995\n",
      "5\n",
      "Epidemic stopped after 0.22 days | 511 sus., 0 inf., 489 rec., 0 tre (nan% of inf) | I(q): 363685 R(q): 0 T(q): 0 |q|: 363685\n",
      "6\n",
      "Epidemic stopped after 0.25 days | 408 sus., 0 inf., 592 rec., 0 tre (nan% of inf) | I(q): 409317 R(q): 0 T(q): 0 |q|: 409317\n",
      "7\n",
      "Epidemic stopped after 0.31 days | 510 sus., 0 inf., 490 rec., 0 tre (nan% of inf) | I(q): 361773 R(q): 0 T(q): 0 |q|: 361773\n",
      "8\n",
      "Epidemic stopped after 0.12 days | 984 sus., 0 inf., 16 rec., 0 tre (nan% of inf) | I(q): 15725 R(q): 0 T(q): 0 |q|: 15725\n",
      "9\n",
      "Epidemic stopped after 0.08 days | 993 sus., 0 inf., 7 rec., 0 tre (nan% of inf) | I(q): 6934 R(q): 0 T(q): 0 |q|: 6934\n",
      "10\n",
      "Epidemic stopped after 0.03 days | 995 sus., 0 inf., 5 rec., 0 tre (nan% of inf) | I(q): 4981 R(q): 0 T(q): 0 |q|: 4981\n",
      "11\n",
      "Epidemic stopped after 0.23 days | 441 sus., 0 inf., 559 rec., 0 tre (nan% of inf) | I(q): 395840 R(q): 0 T(q): 0 |q|: 395840\n",
      "12\n",
      "Epidemic stopped after 0.04 days | 988 sus., 0 inf., 12 rec., 0 tre (nan% of inf) | I(q): 11888 R(q): 0 T(q): 0 |q|: 11888\n",
      "13\n",
      "Epidemic stopped after 0.28 days | 320 sus., 0 inf., 680 rec., 0 tre (nan% of inf) | I(q): 438214 R(q): 0 T(q): 0 |q|: 438214\n",
      "14\n",
      "Epidemic stopped after 0.02 days | 998 sus., 0 inf., 2 rec., 0 tre (nan% of inf) | I(q): 1995 R(q): 0 T(q): 0 |q|: 1995\n",
      "15\n",
      "Epidemic stopped after 0.22 days | 370 sus., 0 inf., 630 rec., 0 tre (nan% of inf) | I(q): 423958 R(q): 0 T(q): 0 |q|: 423958\n",
      "16\n",
      "Epidemic stopped after 0.02 days | 998 sus., 0 inf., 2 rec., 0 tre (nan% of inf) | I(q): 1996 R(q): 0 T(q): 0 |q|: 1996\n",
      "17\n",
      "Epidemic stopped after 0.38 days | 379 sus., 0 inf., 621 rec., 0 tre (nan% of inf) | I(q): 417000 R(q): 0 T(q): 0 |q|: 417000\n",
      "18\n",
      "Epidemic stopped after 0.02 days | 998 sus., 0 inf., 2 rec., 0 tre (nan% of inf) | I(q): 1993 R(q): 0 T(q): 0 |q|: 1993\n",
      "19\n",
      "Epidemic stopped after 0.02 days | 999 sus., 0 inf., 1 rec., 0 tre (nan% of inf) | I(q): 999 R(q): 0 T(q): 0 |q|: 999\n",
      "20\n",
      "Epidemic stopped after 0.03 days | 993 sus., 0 inf., 7 rec., 0 tre (nan% of inf) | I(q): 6952 R(q): 0 T(q): 0 |q|: 6952\n",
      "21\n",
      "Epidemic stopped after 0.04 days | 996 sus., 0 inf., 4 rec., 0 tre (nan% of inf) | I(q): 3983 R(q): 0 T(q): 0 |q|: 3983\n",
      "22\n",
      "Epidemic stopped after 0.06 days | 991 sus., 0 inf., 9 rec., 0 tre (nan% of inf) | I(q): 8927 R(q): 0 T(q): 0 |q|: 8927\n",
      "23\n",
      "Epidemic stopped after 0.26 days | 457 sus., 0 inf., 543 rec., 0 tre (nan% of inf) | I(q): 386871 R(q): 0 T(q): 0 |q|: 386871\n",
      "24\n",
      "Epidemic stopped after 0.25 days | 429 sus., 0 inf., 571 rec., 0 tre (nan% of inf) | I(q): 401595 R(q): 0 T(q): 0 |q|: 401595\n",
      "25\n",
      "Epidemic stopped after 0.24 days | 370 sus., 0 inf., 630 rec., 0 tre (nan% of inf) | I(q): 424967 R(q): 0 T(q): 0 |q|: 424967\n",
      "26\n",
      "Epidemic stopped after 0.27 days | 353 sus., 0 inf., 647 rec., 0 tre (nan% of inf) | I(q): 426785 R(q): 0 T(q): 0 |q|: 426785\n",
      "27\n",
      "Epidemic stopped after 0.28 days | 499 sus., 0 inf., 501 rec., 0 tre (nan% of inf) | I(q): 366174 R(q): 0 T(q): 0 |q|: 366174\n",
      "28\n",
      "Epidemic stopped after 0.02 days | 998 sus., 0 inf., 2 rec., 0 tre (nan% of inf) | I(q): 1996 R(q): 0 T(q): 0 |q|: 1996\n",
      "29\n",
      "Epidemic stopped after 0.05 days | 984 sus., 0 inf., 16 rec., 0 tre (nan% of inf) | I(q): 15819 R(q): 0 T(q): 0 |q|: 15819\n",
      "30\n",
      "Epidemic stopped after 0.27 days | 432 sus., 0 inf., 568 rec., 0 tre (nan% of inf) | I(q): 397265 R(q): 0 T(q): 0 |q|: 397265\n"
     ]
    }
   ],
   "source": [
    "param_dict = {\n",
    "    'beta':  beta,   # Infection rate\n",
    "    'delta': delta,  # Spontaneous recovery rate\n",
    "    \n",
    "    'gamma': gamma,  # Reduction in infection rate from treatement\n",
    "    'rho':   rho,    # Recovery rate from treatement\n",
    "    'eta': eta,      # Not used\n",
    "    'q_x': q_x,      # Not used\n",
    "    'q_lam': q_lam   # Not used\n",
    "}\n",
    "\n",
    "res_1 = {'sus': list(), 'inf': list(), 'rec': list()}\n",
    "\n",
    "for i in range(30):\n",
    "    print(i+1)\n",
    "    sir = SimulationSIR(graph, **param_dict, verbose=True)\n",
    "    sir.launch_epidemic(init_event_list=init_event_list, max_time=max_time, \n",
    "                        policy=policy_name, policy_dict=policy_dict)\n",
    "    \n",
    "    res_1['sus'].append(np.sum(sir.is_sus))\n",
    "    res_1['inf'].append(np.sum(sir.is_inf * (1 - sir.is_rec)))\n",
    "    res_1['rec'].append(np.sum(sir.is_rec))"
   ]
  },
  {
   "cell_type": "code",
   "execution_count": 20,
   "metadata": {},
   "outputs": [
    {
     "name": "stdout",
     "output_type": "stream",
     "text": [
      "sus 724.8333333333334\n",
      "inf 0.0\n",
      "rec 275.1666666666667\n"
     ]
    }
   ],
   "source": [
    "for k in res_1.keys():\n",
    "    print(k, np.mean(res_1[k]))"
   ]
  },
  {
   "cell_type": "code",
   "execution_count": 21,
   "metadata": {},
   "outputs": [
    {
     "data": {
      "text/plain": [
       "(array([ 6.,  4.,  4.,  0.,  0.,  0.,  0.,  0.,  0., 16.]),\n",
       " array([320. , 387.9, 455.8, 523.7, 591.6, 659.5, 727.4, 795.3, 863.2, 931.1, 999. ]),\n",
       " <a list of 10 Patch objects>)"
      ]
     },
     "execution_count": 21,
     "metadata": {},
     "output_type": "execute_result"
    },
    {
     "data": {
      "image/png": "[encoded data removed]",
      "text/plain": [
       "<Figure size 432x288 with 1 Axes>"
      ]
     },
     "metadata": {
      "needs_background": "light"
     },
     "output_type": "display_data"
    }
   ],
   "source": [
    "plt.hist(res_1['sus'])"
   ]
  },
  {
   "cell_type": "markdown",
   "metadata": {},
   "source": [
    "---"
   ]
  },
  {
   "cell_type": "code",
   "execution_count": 22,
   "metadata": {},
   "outputs": [],
   "source": [
    "from helpers import HelperFunc\n",
    "from dynamics_deprecated import SIRDynamicalSystem"
   ]
  },
  {
   "cell_type": "code",
   "execution_count": 23,
   "metadata": {
    "scrolled": true
   },
   "outputs": [
    {
     "name": "stdout",
     "output_type": "stream",
     "text": [
      "1\n",
      "time   0.00/10.00  | S:  999, I:   0, R: 1, H: 0, lY: 0.00, lW: 0.00, lN: 0.00 | 99.46 iter/s               \n",
      "2\n",
      "time   0.19/10.00  | S:  455, I:   0, R: 545, H: 0, lY: 0.00, lW: 0.00, lN: 0.00 | 100.20 iter/s                 \n",
      "3\n",
      "time   0.38/10.00  | S:  466, I:   0, R: 534, H: 0, lY: 0.00, lW: 0.00, lN: 0.00 | 94.57 iter/s                  \n",
      "4\n",
      "time   0.01/10.00  | S:  998, I:   0, R: 2, H: 0, lY: 0.00, lW: 0.00, lN: 0.00 | 108.11 iter/s               \n",
      "5\n",
      "time   0.01/10.00  | S:  998, I:   0, R: 2, H: 0, lY: 0.00, lW: 0.00, lN: 0.00 | 129.85 iter/s               \n",
      "6\n",
      "time   0.34/10.00  | S:  456, I:   0, R: 544, H: 0, lY: 0.00, lW: 0.00, lN: 0.00 | 48.27 iter/s                  \n",
      "7\n",
      "time   0.29/10.00  | S:  307, I:   0, R: 693, H: 0, lY: 0.00, lW: 0.00, lN: 0.00 | 78.68 iter/s                  \n",
      "8\n",
      "time   0.00/10.00  | S:  999, I:   0, R: 1, H: 0, lY: 0.00, lW: 0.00, lN: 0.00 | 93.77 iter/s               \n",
      "9\n",
      "time   0.01/10.00  | S:  999, I:   0, R: 1, H: 0, lY: 0.00, lW: 0.00, lN: 0.00 | 109.71 iter/s              \n",
      "10\n",
      "time   0.04/10.00  | S:  992, I:   0, R: 8, H: 0, lY: 0.00, lW: 0.00, lN: 0.00 | 106.52 iter/s               \n",
      "11\n",
      "time   0.00/10.00  | S:  999, I:   0, R: 1, H: 0, lY: 0.00, lW: 0.00, lN: 0.00 | 82.31 iter/s               \n",
      "12\n",
      "time   0.00/10.00  | S:  999, I:   0, R: 1, H: 0, lY: 0.00, lW: 0.00, lN: 0.00 | 108.44 iter/s              \n",
      "13\n",
      "time   0.00/10.00  | S:  999, I:   0, R: 1, H: 0, lY: 0.00, lW: 0.00, lN: 0.00 | 89.51 iter/s               \n",
      "14\n",
      "time   0.03/10.00  | S:  984, I:   0, R: 16, H: 0, lY: 0.00, lW: 0.00, lN: 0.00 | 99.97 iter/s                \n",
      "15\n",
      "time   0.21/10.00  | S:  334, I:   0, R: 666, H: 0, lY: 0.00, lW: 0.00, lN: 0.00 | 92.17 iter/s                  \n",
      "16\n",
      "time   0.30/10.00  | S:  447, I:   0, R: 553, H: 0, lY: 0.00, lW: 0.00, lN: 0.00 | 88.25 iter/s                  \n",
      "17\n",
      "time   0.01/10.00  | S:  999, I:   0, R: 1, H: 0, lY: 0.00, lW: 0.00, lN: 0.00 | 102.09 iter/s              \n",
      "18\n",
      "time   0.37/10.00  | S:  356, I:   0, R: 644, H: 0, lY: 0.00, lW: 0.00, lN: 0.00 | 86.31 iter/s                  \n",
      "19\n",
      "time   0.28/10.00  | S:  402, I:   0, R: 598, H: 0, lY: 0.00, lW: 0.00, lN: 0.00 | 66.87 iter/s                  \n",
      "20\n",
      "time   0.24/10.00  | S:  325, I:   0, R: 675, H: 0, lY: 0.00, lW: 0.00, lN: 0.00 | 93.26 iter/s                    \n",
      "21\n",
      "time   0.02/10.00  | S:  998, I:   0, R: 2, H: 0, lY: 0.00, lW: 0.00, lN: 0.00 | 129.42 iter/s               \n",
      "22\n",
      "time   0.32/10.00  | S:  422, I:   0, R: 578, H: 0, lY: 0.00, lW: 0.00, lN: 0.00 | 83.24 iter/s                  \n",
      "23\n",
      "time   0.01/10.00  | S:  999, I:   0, R: 1, H: 0, lY: 0.00, lW: 0.00, lN: 0.00 | 80.90 iter/s              \n",
      "24\n",
      "time   0.01/10.00  | S:  999, I:   0, R: 1, H: 0, lY: 0.00, lW: 0.00, lN: 0.00 | 106.21 iter/s              \n",
      "25\n",
      "time   0.42/10.00  | S:  420, I:   0, R: 580, H: 0, lY: 0.00, lW: 0.00, lN: 0.00 | 94.06 iter/s                  \n",
      "26\n",
      "time   0.30/10.00  | S:  431, I:   0, R: 569, H: 0, lY: 0.00, lW: 0.00, lN: 0.00 | 79.85 iter/s                  \n",
      "27\n",
      "time   0.00/10.00  | S:  999, I:   0, R: 1, H: 0, lY: 0.00, lW: 0.00, lN: 0.00 | 127.75 iter/s              \n",
      "28\n",
      "time   0.06/10.00  | S:  988, I:   0, R: 12, H: 0, lY: 0.00, lW: 0.00, lN: 0.00 | 105.63 iter/s              \n",
      "29\n",
      "time   0.25/10.00  | S:  327, I:   0, R: 673, H: 0, lY: 0.00, lW: 0.00, lN: 0.00 | 22.62 iter/s                  \n",
      "30\n",
      "time   0.01/10.00  | S:  999, I:   0, R: 1, H: 0, lY: 0.00, lW: 0.00, lN: 0.00 | 55.94 iter/s              \n"
     ]
    }
   ],
   "source": [
    "sim_dict = {\n",
    "    'total_time': max_time,\n",
    "    'trials_per_setting': 1\n",
    "}\n",
    "param_dict = {\n",
    "    'beta':  beta,   # Infection rate\n",
    "    'delta': delta,  # Spontaneous recovery rate\n",
    "    'gamma': gamma,  # Reduction in infection rate from treatement\n",
    "    'rho':   rho,    # Recovery rate from treatement\n",
    "    'eta': eta,      # Not used\n",
    "}\n",
    "cost_dict = {\n",
    "    'Qlam': q_x,\n",
    "    'Qx': q_lam\n",
    "}\n",
    "\n",
    "\n",
    "res_2 = {'sus': list(), 'inf': list(), 'rec': list()}\n",
    "\n",
    "for i in range(30):\n",
    "    print(i+1)\n",
    "\n",
    "    system = SIRDynamicalSystem(X_init, A, param_dict, cost_dict, min_d0=0.0, verbose=True, notebook=True)\n",
    "    data = system.simulate_policy(policy_name, policy_dict, sim_dict, plot=False)\n",
    "\n",
    "    h = HelperFunc()\n",
    "    n_sus = np.sum(1 - h.sps_values(data['Y'], max_time))\n",
    "    n_inf = np.sum(h.sps_values(data['Y'], max_time) * (1 - h.sps_values(data['W'], max_time)))\n",
    "    n_rec = np.sum(h.sps_values(data['W'], max_time))\n",
    "    res_2['sus'].append(n_sus)\n",
    "    res_2['inf'].append(n_inf)\n",
    "    res_2['rec'].append(n_rec)"
   ]
  },
  {
   "cell_type": "code",
   "execution_count": 24,
   "metadata": {},
   "outputs": [
    {
     "name": "stdout",
     "output_type": "stream",
     "text": [
      "sus 736.5\n",
      "inf 0.0\n",
      "rec 263.5\n"
     ]
    }
   ],
   "source": [
    "for k in res_2.keys():\n",
    "    print(k, np.mean(res_2[k]))"
   ]
  },
  {
   "cell_type": "code",
   "execution_count": 25,
   "metadata": {},
   "outputs": [
    {
     "data": {
      "text/plain": [
       "(array([ 5.,  4.,  4.,  0.,  0.,  0.,  0.,  0.,  0., 17.]),\n",
       " array([307. , 376.2, 445.4, 514.6, 583.8, 653. , 722.2, 791.4, 860.6, 929.8, 999. ]),\n",
       " <a list of 10 Patch objects>)"
      ]
     },
     "execution_count": 25,
     "metadata": {},
     "output_type": "execute_result"
    },
    {
     "data": {
      "image/png": "[encoded data removed]",
      "text/plain": [
       "<Figure size 432x288 with 1 Axes>"
      ]
     },
     "metadata": {
      "needs_background": "light"
     },
     "output_type": "display_data"
    }
   ],
   "source": [
    "plt.hist(res_2['sus'])"
   ]
  },
  {
   "cell_type": "code",
   "execution_count": null,
   "metadata": {},
   "outputs": [],
   "source": []
  }
 ],
 "metadata": {
  "kernelspec": {
   "display_name": "Python 3",
   "language": "python",
   "name": "python3"
  },
  "language_info": {
   "codemirror_mode": {
    "name": "ipython",
    "version": 3
   },
   "file_extension": ".py",
   "mimetype": "text/x-python",
   "name": "python",
   "nbconvert_exporter": "python",
   "pygments_lexer": "ipython3",
   "version": "3.6.8"
  }
 },
 "nbformat": 4,
 "nbformat_minor": 2
}
