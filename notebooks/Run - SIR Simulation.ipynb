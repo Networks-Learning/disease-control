{
 "cells": [
  {
   "cell_type": "code",
   "execution_count": 2,
   "metadata": {},
   "outputs": [
    {
     "name": "stdout",
     "output_type": "stream",
     "text": [
      "The autoreload extension is already loaded. To reload it, use:\n",
      "  %reload_ext autoreload\n"
     ]
    }
   ],
   "source": [
    "%load_ext autoreload\n",
    "%autoreload 2\n",
    "\n",
    "%load_ext line_profiler\n",
    "\n",
    "import sys\n",
    "if '../' not in sys.path:\n",
    "    sys.path.append('../')"
   ]
  },
  {
   "cell_type": "code",
   "execution_count": 12,
   "metadata": {
    "scrolled": true
   },
   "outputs": [],
   "source": [
    "from matplotlib import pyplot as plt\n",
    "%matplotlib inline\n",
    "\n",
    "import networkx as nx\n",
    "import numpy as np\n",
    "import argparse\n",
    "import joblib\n",
    "import os\n",
    "\n",
    "from analysis import Evaluation\n",
    "from dynamics import SIRDynamicalSystem\n",
    "import helpers\n",
    "from graph_generation import make_ebola_network"
   ]
  },
  {
   "cell_type": "markdown",
   "metadata": {},
   "source": [
    "Construct the adjacency  matrix of the propagation network"
   ]
  },
  {
   "cell_type": "code",
   "execution_count": 13,
   "metadata": {},
   "outputs": [],
   "source": [
    "# net = nx.Graph()\n",
    "# net.add_edges_from([\n",
    "#     (0,1), (1,2), (2,3), (3,4), (4,5), (5,6), (6,7), (7,8), (8,9)\n",
    "# ])\n",
    "# A = nx.adjacency_matrix(net).toarray().astype(float)\n",
    "\n",
    "# n_nodes = net.number_of_nodes()\n",
    "# n_edges = net.number_of_edges()\n",
    "# print(f\"Network: {n_nodes:d} nodes, {n_edges:d} edges\")\n",
    "\n",
    "# X_init = np.zeros(n_nodes)\n",
    "# X_init[0] = 1"
   ]
  },
  {
   "cell_type": "code",
   "execution_count": 23,
   "metadata": {},
   "outputs": [
    {
     "name": "stdout",
     "output_type": "stream",
     "text": [
      "Network: 4996 nodes, 46370 edges\n",
      "Choose a random set of 50 initial infected seeds\n",
      "\n"
     ]
    }
   ],
   "source": [
    "n_nodes = 5000\n",
    "p_in = 0.1\n",
    "p_out = p_in / 10\n",
    "\n",
    "net = make_ebola_network(n_nodes=n_nodes, p_in=p_in, p_out=p_out)\n",
    "A = nx.adjacency_matrix(net).toarray().astype(float)\n",
    "\n",
    "n_nodes = net.number_of_nodes()\n",
    "n_edges = net.number_of_edges()\n",
    "print(f\"Network: {n_nodes:d} nodes, {n_edges:d} edges\")\n",
    "\n",
    "n_seeds = 50\n",
    "X_init = np.hstack(((np.ones(n_seeds), np.zeros(n_nodes - n_seeds))))\n",
    "X_init = np.random.permutation(X_init)\n",
    "\n",
    "print(f\"Choose a random set of {X_init.sum():.0f} initial infected seeds\")\n",
    "print()"
   ]
  },
  {
   "cell_type": "code",
   "execution_count": 36,
   "metadata": {},
   "outputs": [],
   "source": [
    "sim_dict = {\n",
    "    'total_time': 7.0,\n",
    "    'trials_per_setting': 5\n",
    "}\n",
    "param_dict = {\n",
    "    'beta':  1.0/15.3,\n",
    "    'gamma': 1.0/15.3,\n",
    "    'delta': 1.0/11.4,\n",
    "    'rho':   1.0/6.0,\n",
    "    'eta':   1.0\n",
    "}\n",
    "cost_dict = {\n",
    "    'Qlam': 1.0,\n",
    "    'Qx': 1.0\n",
    "}\n",
    "policy_list = [\n",
    "    'SOC',\n",
    "]\n",
    "baselines_dict = {\n",
    "    'TR': 0.003,\n",
    "    'MN': 0.0007,\n",
    "    'LN': 0.0008,\n",
    "    'LRSR': 22.807,\n",
    "    'MCM': 22.807,\n",
    "    'FL_info': {'N': None, 'max_u': None},\n",
    "}"
   ]
  },
  {
   "cell_type": "code",
   "execution_count": 37,
   "metadata": {},
   "outputs": [
    {
     "data": {
      "text/plain": [
       "((4996, 4996), (4996,))"
      ]
     },
     "execution_count": 37,
     "metadata": {},
     "output_type": "execute_result"
    }
   ],
   "source": [
    "param_dict\n",
    "A.shape, X_init.shape"
   ]
  },
  {
   "cell_type": "code",
   "execution_count": 38,
   "metadata": {},
   "outputs": [],
   "source": [
    "system = SIRDynamicalSystem(X_init, net, param_dict, cost_dict, debug=False, verbose=True, notebook=True)"
   ]
  },
  {
   "cell_type": "code",
   "execution_count": 39,
   "metadata": {},
   "outputs": [
    {
     "name": "stdout",
     "output_type": "stream",
     "text": [
      "time   7.00/7.00   | S: 1198, I:2940, R: 858, H: 0, lY: 354.38, lW: 257.89, lN: 0.00 | 14.35 iter/s           \n"
     ]
    }
   ],
   "source": [
    "data = system.simulate_policy('NO', baselines_dict, sim_dict, plot=False)"
   ]
  },
  {
   "cell_type": "code",
   "execution_count": 46,
   "metadata": {},
   "outputs": [],
   "source": [
    "X = np.array([system.X[i].value_at(system.ttotal+10) for i in range(system.n_nodes)])\n",
    "Y = np.array([system.Y[i].value_at(system.ttotal+10) for i in range(system.n_nodes)])\n",
    "W = np.array([system.W[i].value_at(system.ttotal+10) for i in range(system.n_nodes)])\n",
    "H = np.array([system.H[i].value_at(system.ttotal+10) for i in range(system.n_nodes)])"
   ]
  },
  {
   "cell_type": "code",
   "execution_count": 41,
   "metadata": {},
   "outputs": [
    {
     "data": {
      "text/plain": [
       "(2941.0, 0.0)"
      ]
     },
     "execution_count": 41,
     "metadata": {},
     "output_type": "execute_result"
    }
   ],
   "source": [
    "X.sum(), H.sum()"
   ]
  },
  {
   "cell_type": "code",
   "execution_count": 42,
   "metadata": {},
   "outputs": [
    {
     "data": {
      "text/plain": [
       "(3799.0, 1.0)"
      ]
     },
     "execution_count": 42,
     "metadata": {},
     "output_type": "execute_result"
    }
   ],
   "source": [
    "Y.sum(), Y.max()"
   ]
  },
  {
   "cell_type": "code",
   "execution_count": 43,
   "metadata": {},
   "outputs": [
    {
     "data": {
      "text/plain": [
       "(858.0, 1.0)"
      ]
     },
     "execution_count": 43,
     "metadata": {},
     "output_type": "execute_result"
    }
   ],
   "source": [
    "W.sum(), W.max()"
   ]
  },
  {
   "cell_type": "code",
   "execution_count": 48,
   "metadata": {},
   "outputs": [],
   "source": [
    "hf = helpers.HelperFunc()\n",
    "\n",
    "tspace = np.arange(0.0, 7.0, 0.01)\n",
    "\n",
    "# Extract the values of the stochastic processes at all times\n",
    "y_values = np.zeros(len(tspace))\n",
    "w_values = np.zeros(len(tspace))\n",
    "for k, t in enumerate(tspace):\n",
    "    y_values[k] = hf.sps_values(system.Y, t, summed=True)\n",
    "    w_values[k] = hf.sps_values(system.W, t, summed=True)"
   ]
  },
  {
   "cell_type": "code",
   "execution_count": 49,
   "metadata": {},
   "outputs": [
    {
     "data": {
      "image/png": "[encoded data removed]",
      "text/plain": [
       "<Figure size 1080x432 with 1 Axes>"
      ]
     },
     "metadata": {
      "needs_background": "light"
     },
     "output_type": "display_data"
    }
   ],
   "source": [
    "plt.figure(figsize=(15,6))\n",
    "plt.grid()\n",
    "plt.plot(tspace, y_values, label='Y')\n",
    "plt.plot(tspace, w_values, label='W')\n",
    "plt.xticks(np.arange(0,tspace[-1]+1.0,1.0))\n",
    "plt.yticks(range(10))\n",
    "plt.legend();"
   ]
  },
  {
   "cell_type": "code",
   "execution_count": null,
   "metadata": {},
   "outputs": [],
   "source": []
  }
 ],
 "metadata": {
  "kernelspec": {
   "display_name": "Python 3",
   "language": "python",
   "name": "python3"
  },
  "language_info": {
   "codemirror_mode": {
    "name": "ipython",
    "version": 3
   },
   "file_extension": ".py",
   "mimetype": "text/x-python",
   "name": "python",
   "nbconvert_exporter": "python",
   "pygments_lexer": "ipython3",
   "version": "3.6.7"
  }
 },
 "nbformat": 4,
 "nbformat_minor": 2
}
