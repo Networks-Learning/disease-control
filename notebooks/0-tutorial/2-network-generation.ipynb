{
 "cells": [
  {
   "cell_type": "markdown",
   "metadata": {},
   "source": [
    "# Network generation (and SIR Simulation)"
   ]
  },
  {
   "cell_type": "code",
   "execution_count": 14,
   "metadata": {},
   "outputs": [],
   "source": [
    "import sys\n",
    "if '../../' not in sys.path:\n",
    "    sys.path.append('../../')\n",
    "\n",
    "import numpy as np\n",
    "import networkx as nx\n",
    "    \n",
    "from lib.graph_generation import make_ebola_network\n",
    "from lib.dynamics import SimulationSIR, sample_seeds"
   ]
  },
  {
   "cell_type": "markdown",
   "metadata": {},
   "source": [
    "Predefined network settings"
   ]
  },
  {
   "cell_type": "code",
   "execution_count": 15,
   "metadata": {},
   "outputs": [],
   "source": [
    "n_nodes = 8000  # Desired number of nodes (we only keep the giant component, so actual number of nodes may be smaller)\n",
    "p_in = 0.01  # Intra-district edge probability\n",
    "p_out = {  # Inter-district edge probability\n",
    "           'Guinea': 0.00215,\n",
    "          'Liberia': 0.00300, \n",
    "     'Sierra Leone': 0.00315, \n",
    "    'inter-country': 0.0019\n",
    "}\n",
    "\n",
    "# Generate scaled graph with settings\n",
    "G = make_ebola_network(n_nodes=n_nodes, p_in=p_in, p_out=p_out, seed=None)"
   ]
  },
  {
   "cell_type": "markdown",
   "metadata": {},
   "source": [
    "Run simulation on graph with predefined settings"
   ]
  },
  {
   "cell_type": "code",
   "execution_count": 17,
   "metadata": {},
   "outputs": [
    {
     "name": "stdout",
     "output_type": "stream",
     "text": [
      "Add seed 7722 from district WESTERN - inf: 0.0, rec: 3.7409395861956174 \n",
      "Add seed 6407 from district PUJEHUN - inf: 0.0, rec: 4.430468186283136 \n",
      "Add seed 7287 from district TONKOLILI - inf: 0.0, rec: 16.144704236934587 \n",
      "Add seed 7901 from district WESTERN - inf: 0.0, rec: 8.80503599378464 \n",
      "Add seed 3574 from district GUECKEDOU - inf: 0.0, rec: 13.951449265672295 \n",
      "Add seed 3515 from district GUECKEDOU - inf: 0.0, rec: 6.234714560266315 \n"
     ]
    }
   ],
   "source": [
    "# Sample seeds from the dataset (random set from infections seen before the given date, taking into account possible random recovery)\n",
    "init_event_list = sample_seeds(graph=G, delta=1.0 / 11.4, method='data', max_date='2014-01-01')\n",
    "\n",
    "# Initialize object\n",
    "sir_obj = SimulationSIR(G, # Graph of individuals\n",
    "                        beta=1.0 / 15.3,  # Infection rate (advised by literature)\n",
    "                        delta=1.0 / 11.4,  # Recovery rate (advised by literature)\n",
    "                        gamma=0.0, rho=0.0,  # Treatement values, should remain zero\n",
    "                        verbose=False)\n",
    "\n",
    "# Run the sumulation\n",
    "sir_obj.launch_epidemic(init_event_list=init_event_list, max_time=90)"
   ]
  },
  {
   "cell_type": "code",
   "execution_count": null,
   "metadata": {},
   "outputs": [],
   "source": []
  }
 ],
 "metadata": {
  "kernelspec": {
   "display_name": "Python 3",
   "language": "python",
   "name": "python3"
  },
  "language_info": {
   "codemirror_mode": {
    "name": "ipython",
    "version": 3
   },
   "file_extension": ".py",
   "mimetype": "text/x-python",
   "name": "python",
   "nbconvert_exporter": "python",
   "pygments_lexer": "ipython3",
   "version": "3.7.11"
  }
 },
 "nbformat": 4,
 "nbformat_minor": 4
}
