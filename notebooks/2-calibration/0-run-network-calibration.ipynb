{
 "cells": [
  {
   "cell_type": "markdown",
   "metadata": {},
   "source": [
    "# Calibration of network parameters\n",
    "\n",
    "Based on a fixed epidemic parameters, we calibrate the network parameters to match the early period of the 2014 Ebola outbreak as reported by WHO."
   ]
  },
  {
   "cell_type": "code",
   "execution_count": 12,
   "metadata": {},
   "outputs": [
    {
     "name": "stdout",
     "output_type": "stream",
     "text": [
      "The autoreload extension is already loaded. To reload it, use:\n",
      "  %reload_ext autoreload\n"
     ]
    }
   ],
   "source": [
    "%load_ext autoreload\n",
    "%autoreload 2"
   ]
  },
  {
   "cell_type": "code",
   "execution_count": 13,
   "metadata": {},
   "outputs": [],
   "source": [
    "from matplotlib import pyplot as plt\n",
    "%matplotlib inline\n",
    "\n",
    "import os\n",
    "import json\n",
    "import itertools\n",
    "from collections import Counter, defaultdict\n",
    "import pandas as pd\n",
    "import networkx as nx\n",
    "import numpy as np\n",
    "from multiprocessing import cpu_count, Pool\n",
    "\n",
    "from lib.graph_generation import make_ebola_network\n",
    "from lib.dynamics import SimulationSIR, PriorityQueue\n",
    "from lib.dynamics import sample_seeds\n",
    "from lib.settings import DATA_DIR\n",
    "from lib import metrics"
   ]
  },
  {
   "cell_type": "code",
   "execution_count": 14,
   "metadata": {},
   "outputs": [],
   "source": [
    "COUNTRY_LIST = ['Guinea', 'Liberia', 'Sierra Leone']"
   ]
  },
  {
   "cell_type": "markdown",
   "metadata": {},
   "source": [
    "---"
   ]
  },
  {
   "cell_type": "markdown",
   "metadata": {},
   "source": [
    "## 1. Set simulation parameters\n",
    "\n",
    "Set simulation period"
   ]
  },
  {
   "cell_type": "code",
   "execution_count": 4,
   "metadata": {},
   "outputs": [],
   "source": [
    "start_day_str = '2014-01-01'\n",
    "end_day_str = '2014-03-01'\n",
    "max_timedelta = pd.to_datetime(end_day_str) - pd.to_datetime(start_day_str)\n",
    "max_days = max_timedelta.days"
   ]
  },
  {
   "cell_type": "markdown",
   "metadata": {},
   "source": [
    "Set SIR infection and recovery rates"
   ]
  },
  {
   "cell_type": "code",
   "execution_count": 5,
   "metadata": {},
   "outputs": [],
   "source": [
    "beta = 1 / 15.3\n",
    "delta = 1 / 11.4"
   ]
  },
  {
   "cell_type": "markdown",
   "metadata": {},
   "source": [
    "Experiment parameters"
   ]
  },
  {
   "cell_type": "code",
   "execution_count": 7,
   "metadata": {},
   "outputs": [],
   "source": [
    "# Number of graphs to sample for each setting\n",
    "n_graphs = 47 * 5\n",
    "# Number simulations to run per graph\n",
    "n_sims = 1000"
   ]
  },
  {
   "cell_type": "markdown",
   "metadata": {},
   "source": [
    "---\n",
    "\n",
    "## 2. Run calibration\n",
    "\n",
    "Define a worker function that performs many SIR simulation over a single graph and returns statistics to compute $R_0$."
   ]
  },
  {
   "cell_type": "code",
   "execution_count": 8,
   "metadata": {},
   "outputs": [],
   "source": [
    "def worker(n_nodes, p_in, p_out, net_idx):\n",
    "    \"\"\"\n",
    "    Perform many SIR simulation over a single graph sampled with the given parameters.\n",
    "    Return a list of dict for summarizing each simulation with the number of secondary \n",
    "    cases split by country.\n",
    "    \n",
    "    Parameters\n",
    "    ----------\n",
    "    n_nodes : int\n",
    "        Number of nodes in the graph\n",
    "    p_in : float\n",
    "        Within-district edge probability\n",
    "    p_out : dict of float\n",
    "        Between-district edge probabilities\n",
    "    net_idx : int\n",
    "        Index of network (used to keep track of experiments and aggregate results)\n",
    "    \"\"\"\n",
    "    \n",
    "    res_list = list()\n",
    "    \n",
    "    graph = make_ebola_network(n_nodes=n_nodes, p_in=p_in, p_out=p_out)\n",
    "\n",
    "    for sim_idx in range(n_sims):\n",
    "\n",
    "        # === Sample initial seeds\n",
    "        init_event_list = sample_seeds(graph, delta=delta, \n",
    "                                       method='random', n_seeds=10, \n",
    "                                       verbose=False)\n",
    "        # Extract the seeds ego-network\n",
    "        seed_node_list = np.array(list(set([event[0] for event,_ in init_event_list])))\n",
    "        seed_neighbors_list = np.hstack([list(graph.neighbors(u)) for u in seed_node_list])\n",
    "        seed_ego_net = nx.subgraph(graph, np.hstack((seed_node_list, seed_neighbors_list)))\n",
    "        # Define the stopping criteria: stop when all seeds are recovered or all\n",
    "        # neighbors are infected (that is all we need to computed R_0)\n",
    "        def stop_criteria(sir_obj):\n",
    "            seed_node_indices = np.array([sir_obj.node_to_idx[u] for u in seed_node_list])\n",
    "            seed_neighbors_indices = np.array([sir_obj.node_to_idx[u] for u in seed_neighbors_list])\n",
    "            return np.all(sir_obj.is_rec[seed_node_indices]) or np.all(sir_obj.is_inf[seed_neighbors_indices])\n",
    "\n",
    "        # === Run an SIR simulation \n",
    "        sir_obj = SimulationSIR(seed_ego_net, beta=beta, delta=delta, gamma=0.0, rho=0.0, verbose=False)\n",
    "        sir_obj.launch_epidemic(\n",
    "            init_event_list=init_event_list,\n",
    "            max_time=max_days, \n",
    "            policy='NO', \n",
    "            stop_criteria=stop_criteria\n",
    "        )\n",
    "\n",
    "        # === Compute R0: \n",
    "        # Compute the number of secondary cases for each seed and aggregate them by country\n",
    "        infector_count = Counter(sir_obj.infector)\n",
    "        country_count = {country: list() for country in COUNTRY_LIST}\n",
    "        for u in seed_node_list:\n",
    "            u_idx = sir_obj.node_to_idx[u]\n",
    "            u_country = sir_obj.G.node[u]['country']\n",
    "            inf_count = infector_count[u_idx]\n",
    "            country_count[u_country].append(inf_count)\n",
    "        \n",
    "        # Build the resulting list of summarizing dict per country for this simulation\n",
    "        for country in COUNTRY_LIST:\n",
    "            res_list.append({\n",
    "                'country': country,\n",
    "                'sim_idx': sim_idx, \n",
    "                'net_idx': net_idx,\n",
    "                'p_out_gn': p_out['Guinea'],\n",
    "                'p_out_lb': p_out['Liberia'], \n",
    "                'p_out_sl': p_out['Sierra Leone'],\n",
    "                'count': country_count[country]\n",
    "            })\n",
    "    \n",
    "    return res_list"
   ]
  },
  {
   "cell_type": "markdown",
   "metadata": {},
   "source": [
    "Define the network parameters."
   ]
  },
  {
   "cell_type": "code",
   "execution_count": 9,
   "metadata": {},
   "outputs": [],
   "source": [
    "n_nodes = 8000\n",
    "p_in = 0.01\n",
    "p_out = {\n",
    "           'Guinea': 0.00215,\n",
    "          'Liberia': 0.00300, \n",
    "     'Sierra Leone': 0.00315, \n",
    "    'inter-country': 0.0019\n",
    "}"
   ]
  },
  {
   "cell_type": "markdown",
   "metadata": {},
   "source": [
    "Run simulations in parallel over many networks and simulations."
   ]
  },
  {
   "cell_type": "code",
   "execution_count": 10,
   "metadata": {
    "scrolled": true
   },
   "outputs": [
    {
     "name": "stdout",
     "output_type": "stream",
     "text": [
      "Run 940 jobs on 47 processes...\n"
     ]
    }
   ],
   "source": [
    "args_list = list()\n",
    "for net_idx in range(n_graphs):\n",
    "    args_list.append((n_nodes, p_in, p_out, net_idx))\n",
    "\n",
    "n_procs = cpu_count()-1\n",
    "pool = Pool(n_procs)\n",
    "\n",
    "print(f\"Run {len(args_list)} jobs on {n_procs} processes...\")\n",
    "res = pool.starmap(worker, args_list)\n",
    "\n",
    "res_list = list()\n",
    "for res_i in res:\n",
    "    res_list.extend(res_i)"
   ]
  },
  {
   "cell_type": "markdown",
   "metadata": {},
   "source": [
    "Estimate $R_0$ from all simulations."
   ]
  },
  {
   "cell_type": "code",
   "execution_count": 11,
   "metadata": {},
   "outputs": [
    {
     "data": {
      "text/html": [
       "<div>\n",
       "<style scoped>\n",
       "    .dataframe tbody tr th:only-of-type {\n",
       "        vertical-align: middle;\n",
       "    }\n",
       "\n",
       "    .dataframe tbody tr th {\n",
       "        vertical-align: top;\n",
       "    }\n",
       "\n",
       "    .dataframe thead th {\n",
       "        text-align: right;\n",
       "    }\n",
       "</style>\n",
       "<table border=\"1\" class=\"dataframe\">\n",
       "  <thead>\n",
       "    <tr style=\"text-align: right;\">\n",
       "      <th></th>\n",
       "      <th>N</th>\n",
       "      <th>R0_mean</th>\n",
       "      <th>R0_std</th>\n",
       "      <th>R0_Q5</th>\n",
       "      <th>R0_Q95</th>\n",
       "      <th>R0_c_net_median</th>\n",
       "    </tr>\n",
       "    <tr>\n",
       "      <th>country</th>\n",
       "      <th></th>\n",
       "      <th></th>\n",
       "      <th></th>\n",
       "      <th></th>\n",
       "      <th></th>\n",
       "      <th></th>\n",
       "    </tr>\n",
       "  </thead>\n",
       "  <tbody>\n",
       "    <tr>\n",
       "      <td>Guinea</td>\n",
       "      <td>940000</td>\n",
       "      <td>1.712507</td>\n",
       "      <td>1.856062</td>\n",
       "      <td>1.661950</td>\n",
       "      <td>1.761235</td>\n",
       "      <td>1.711272</td>\n",
       "    </tr>\n",
       "    <tr>\n",
       "      <td>Liberia</td>\n",
       "      <td>940000</td>\n",
       "      <td>1.836959</td>\n",
       "      <td>1.869197</td>\n",
       "      <td>1.753642</td>\n",
       "      <td>1.917458</td>\n",
       "      <td>1.835825</td>\n",
       "    </tr>\n",
       "    <tr>\n",
       "      <td>Sierra Leone</td>\n",
       "      <td>940000</td>\n",
       "      <td>2.011740</td>\n",
       "      <td>1.933461</td>\n",
       "      <td>1.938050</td>\n",
       "      <td>2.080164</td>\n",
       "      <td>2.012664</td>\n",
       "    </tr>\n",
       "  </tbody>\n",
       "</table>\n",
       "</div>"
      ],
      "text/plain": [
       "                   N   R0_mean    R0_std     R0_Q5    R0_Q95  R0_c_net_median\n",
       "country                                                                      \n",
       "Guinea        940000  1.712507  1.856062  1.661950  1.761235         1.711272\n",
       "Liberia       940000  1.836959  1.869197  1.753642  1.917458         1.835825\n",
       "Sierra Leone  940000  2.011740  1.933461  1.938050  2.080164         2.012664"
      ]
     },
     "execution_count": 11,
     "metadata": {},
     "output_type": "execute_result"
    }
   ],
   "source": [
    "res_df = pd.DataFrame(res_list)\n",
    "\n",
    "# Aggregate results by country and graph to get R0 estimate confidence interval per country (over graphs)\n",
    "res_df_gp = res_df.groupby(['country','net_idx']).agg({'count': list})\n",
    "res_df_gp['N'] = res_df_gp['count'].apply(len)\n",
    "res_df_gp['R0_country_and_net'] = res_df_gp['count'].apply(np.hstack).apply(np.mean)\n",
    "\n",
    "# Aggregate results by country to get R0 estimate per country (keep)\n",
    "res_df_country_gp = res_df_gp.groupby('country').agg(\n",
    "    {'count': list, 'N': sum, 'R0_country_and_net': list})\n",
    "res_df_country_gp['count'] = res_df_country_gp['count'].apply(np.hstack).apply(np.hstack)\n",
    "\n",
    "res_df_country_gp['R0_mean'] = res_df_country_gp['count'].apply(np.mean)\n",
    "\n",
    "res_df_country_gp['R0_std'] = res_df_country_gp['count'].apply(np.std)\n",
    "res_df_country_gp['R0_Q5'] = res_df_country_gp['R0_country_and_net'].apply(lambda a: np.percentile(a, q=5))\n",
    "res_df_country_gp['R0_Q95'] = res_df_country_gp['R0_country_and_net'].apply(lambda a: np.percentile(a, q=95))\n",
    "res_df_country_gp['R0_c_net_mean'] = res_df_country_gp['R0_country_and_net'].apply(np.mean)\n",
    "res_df_country_gp['R0_c_net_median'] = res_df_country_gp['R0_country_and_net'].apply(np.median)\n",
    "\n",
    "\n",
    "res_df_country_gp[['N', 'R0_mean', 'R0_std', 'R0_Q5', 'R0_Q95', 'R0_c_net_median']]"
   ]
  },
  {
   "cell_type": "markdown",
   "metadata": {},
   "source": [
    "---\n",
    "\n",
    "## 3. Make plots summarizing the chosen network parameters"
   ]
  },
  {
   "cell_type": "code",
   "execution_count": 68,
   "metadata": {},
   "outputs": [],
   "source": [
    "deg_seq_list = list()\n",
    "\n",
    "for _ in range(20):\n",
    "    graph = make_ebola_network(n_nodes=n_nodes, p_in=p_in, p_out=p_out)\n",
    "    degree_sequence = [d for n, d in graph.degree()]\n",
    "    \n",
    "    deg_seq_list.append(Counter(degree_sequence))\n",
    "    \n",
    "deg_df = pd.DataFrame(deg_seq_list).T.sort_index()\n",
    "deg_df = deg_df.fillna(0.0)\n",
    "\n",
    "deg_mean = deg_df.mean(axis=1)\n",
    "deg_std = deg_df.std(axis=1)"
   ]
  },
  {
   "cell_type": "code",
   "execution_count": 71,
   "metadata": {},
   "outputs": [
    {
     "name": "stdout",
     "output_type": "stream",
     "text": [
      "Graph generated\n",
      "  - 7450 nodes, 15849 edges\n",
      "Degree distribution statistics:\n",
      "  - Mean: 4.254765100671141, Median: 4.0\n",
      "Cluster size statistics:\n",
      "  - Minimum cluster size is: 1\n",
      "  - Median cluster size is: 111\n",
      "  - Average cluster size is: 135.45\n",
      "  - Max cluster size is: 662\n"
     ]
    },
    {
     "data": {
      "image/png": "[encoded data removed]",
      "text/plain": [
       "<Figure size 1008x288 with 2 Axes>"
      ]
     },
     "metadata": {
      "needs_background": "light"
     },
     "output_type": "display_data"
    }
   ],
   "source": [
    "\n",
    "print('Graph generated')\n",
    "print(f\"  - {graph.number_of_nodes()} nodes, {graph.number_of_edges()} edges\")\n",
    "\n",
    "fig, axs = plt.subplots(1, 2, figsize=(14, 4))\n",
    "\n",
    "plt.sca(axs[0])\n",
    "print(\"Degree distribution statistics:\")\n",
    "print(f'  - Mean: {np.mean(degree_sequence)}, Median: {np.median(degree_sequence)}')\n",
    "deg_x = range(1, len(deg_mean)+1)\n",
    "plt.bar(deg_x, deg_mean, yerr=deg_std, align='center', ecolor='black', capsize=2)\n",
    "plt.xlabel('Node degree')\n",
    "plt.ylabel('Number of nodes')\n",
    "plt.xticks(np.arange(0, max_deg+1, 2));\n",
    "\n",
    "plt.sca(axs[1])\n",
    "cluster_sizes = np.bincount([d['block'] for u,d in graph.nodes(data=True)])\n",
    "plt.boxplot(cluster_sizes);\n",
    "print(\"Cluster size statistics:\")\n",
    "print(f\"  - Minimum cluster size is: {min(cluster_sizes):d}\")\n",
    "print(f\"  - Median cluster size is: {np.median(cluster_sizes):.0f}\")\n",
    "print(f\"  - Average cluster size is: {np.mean(cluster_sizes):.2f}\")\n",
    "print(f\"  - Max cluster size is: {np.max(cluster_sizes):d}\")"
   ]
  },
  {
   "cell_type": "markdown",
   "metadata": {},
   "source": [
    "--- \n",
    "\n",
    "## 4. Run a simulation with the given parameters and estimate the effective reproduction number over time as reported by WHO"
   ]
  },
  {
   "cell_type": "markdown",
   "metadata": {},
   "source": [
    "Run a simulation"
   ]
  },
  {
   "cell_type": "code",
   "execution_count": 24,
   "metadata": {},
   "outputs": [
    {
     "name": "stdout",
     "output_type": "stream",
     "text": [
      "Seeds:\n",
      "Counter({'Sierra Leone': 4, 'Guinea': 2})\n",
      "\n",
      "Epidemic stopped after 210.00 days | 2363 sus., 8 inf., 5042 rec., 0 tre (0.00% of inf) | I(q): 8 R(q): 8 T(q): 0 |q|: 16\n"
     ]
    }
   ],
   "source": [
    "graph = make_ebola_network(n_nodes=n_nodes, p_in=p_in, p_out=p_out)\n",
    "\n",
    "init_event_list = sample_seeds(graph, delta=delta, \n",
    "                               method='data', max_date=start_day_str,\n",
    "                               verbose=False)\n",
    "\n",
    "seed_node_list = np.array(list(set([event[0] for event,_ in init_event_list])))\n",
    "print('Seeds:')\n",
    "print(Counter([graph.node[u]['country'] for u in seed_node_list]))\n",
    "print()\n",
    "\n",
    "sir_obj = SimulationSIR(graph, beta=beta, delta=delta, gamma=0.0, rho=0.0, verbose=True)\n",
    "sir_obj.launch_epidemic(\n",
    "    init_event_list=init_event_list,\n",
    "    max_time=210, \n",
    "    policy='NO'\n",
    ")"
   ]
  },
  {
   "cell_type": "markdown",
   "metadata": {},
   "source": [
    "Aggregate the daily incidence."
   ]
  },
  {
   "cell_type": "code",
   "execution_count": 25,
   "metadata": {},
   "outputs": [
    {
     "data": {
      "image/png": "[encoded data removed]",
      "text/plain": [
       "<Figure size 432x288 with 1 Axes>"
      ]
     },
     "metadata": {
      "needs_background": "light"
     },
     "output_type": "display_data"
    }
   ],
   "source": [
    "daily_count_arr, bins = np.histogram(\n",
    "    sir_obj.inf_occured_at[(sir_obj.inf_occured_at < np.inf) & (sir_obj.inf_occured_at > 0)], \n",
    "    bins=np.arange(0, sir_obj.max_time)\n",
    ")\n",
    "plt.bar(bins[1:], daily_count_arr)\n",
    "plt.xlabel('Days')\n",
    "plt.ylabel('Incidence');"
   ]
  },
  {
   "cell_type": "markdown",
   "metadata": {},
   "source": [
    "Compute $R_0$ using the method reported by WHO."
   ]
  },
  {
   "cell_type": "code",
   "execution_count": 26,
   "metadata": {},
   "outputs": [
    {
     "data": {
      "image/png": "[encoded data removed]",
      "text/plain": [
       "<Figure size 432x288 with 1 Axes>"
      ]
     },
     "metadata": {
      "needs_background": "light"
     },
     "output_type": "display_data"
    }
   ],
   "source": [
    "T = 30\n",
    "rt_list = []\n",
    "for i in range(1, int(sir_obj.max_time) - T):\n",
    "    rt = metrics.estimate_reproduction_number(daily_count_arr[i:i+T], beta, T=T)\n",
    "    rt_list.append(rt)\n",
    "\n",
    "plt.plot(range(T, len(rt_list)+T), rt_list)\n",
    "plt.ylabel('$R_0$')\n",
    "plt.xlabel('Days');"
   ]
  },
  {
   "cell_type": "code",
   "execution_count": null,
   "metadata": {},
   "outputs": [],
   "source": []
  }
 ],
 "metadata": {
  "kernelspec": {
   "display_name": "Python 3",
   "language": "python",
   "name": "python3"
  },
  "language_info": {
   "codemirror_mode": {
    "name": "ipython",
    "version": 3
   },
   "file_extension": ".py",
   "mimetype": "text/x-python",
   "name": "python",
   "nbconvert_exporter": "python",
   "pygments_lexer": "ipython3",
   "version": "3.7.3"
  }
 },
 "nbformat": 4,
 "nbformat_minor": 2
}
