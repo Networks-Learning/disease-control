{
 "cells": [
  {
   "cell_type": "markdown",
   "metadata": {},
   "source": [
    "# Infection Rate Calibration\n",
    "\n",
    "Based on a fixed network model, we sweep over the infection rate parameter $\\beta$ to find the one that minimizes a point process distance between realizations of simulated processes and the real time series.\n",
    "\n",
    "The distance chosen for this task is ..."
   ]
  },
  {
   "cell_type": "code",
   "execution_count": 1,
   "metadata": {},
   "outputs": [],
   "source": [
    "%load_ext autoreload\n",
    "%autoreload 2"
   ]
  },
  {
   "cell_type": "code",
   "execution_count": 230,
   "metadata": {},
   "outputs": [],
   "source": [
    "from matplotlib import pyplot as plt\n",
    "%matplotlib inline\n",
    "\n",
    "import os\n",
    "import json\n",
    "import itertools\n",
    "from collections import Counter, defaultdict\n",
    "import pandas as pd\n",
    "import networkx as nx\n",
    "\n",
    "\n",
    "from lib.graph_generation import make_ebola_network\n",
    "from lib.dynamics import SimulationSIR, PriorityQueue\n",
    "from lib.dynamics import sample_seeds\n",
    "from lib.settings import DATA_DIR\n",
    "from lib import metrics"
   ]
  },
  {
   "cell_type": "markdown",
   "metadata": {},
   "source": [
    "---"
   ]
  },
  {
   "cell_type": "markdown",
   "metadata": {},
   "source": [
    "## Set simulation parameters\n",
    "\n",
    "Set time"
   ]
  },
  {
   "cell_type": "code",
   "execution_count": 381,
   "metadata": {},
   "outputs": [],
   "source": [
    "start_day_str = '2014-01-01'\n",
    "end_day_str = '2014-03-01'\n",
    "max_timedelta = pd.to_datetime(end_day_str) - pd.to_datetime(start_day_str)\n",
    "max_days = max_timedelta.days"
   ]
  },
  {
   "cell_type": "markdown",
   "metadata": {},
   "source": [
    "Set SIR infection and recovery rates"
   ]
  },
  {
   "cell_type": "code",
   "execution_count": 227,
   "metadata": {},
   "outputs": [],
   "source": [
    "beta = 1 / 15.3\n",
    "delta = 1 / 11.4"
   ]
  },
  {
   "cell_type": "markdown",
   "metadata": {},
   "source": [
    "Network parameters"
   ]
  },
  {
   "cell_type": "code",
   "execution_count": 452,
   "metadata": {},
   "outputs": [],
   "source": [
    "n_sims = 100\n",
    "n_graphs = 50\n",
    "\n",
    "res_list = list()\n",
    "\n",
    "n_nodes = 8000\n",
    "p_in = 0.01\n",
    "\n",
    "# Inter-district edge probability to experiment with\n",
    "p_out_range = {\n",
    "           'Guinea': [0.00165, ], \n",
    "          'Liberia': [0.0022, ], \n",
    "     'Sierra Leone': [0.0027, ], \n",
    "    'inter-country': 0.002\n",
    "}"
   ]
  },
  {
   "cell_type": "markdown",
   "metadata": {},
   "source": [
    "---\n",
    "\n",
    "## Run calibration\n"
   ]
  },
  {
   "cell_type": "code",
   "execution_count": 457,
   "metadata": {},
   "outputs": [],
   "source": [
    "def worker(graph):\n",
    "    for i in range(n_sims):\n",
    "\n",
    "        # print(f'\\rExp {p_idx+1}/{n_p_out} - Graph {j+1}/{n_graphs} - Sim {i+1}/{n_sims}', end='    ')\n",
    "\n",
    "        # === Sample initial seeds\n",
    "\n",
    "        init_event_list = sample_seeds(graph, delta=delta, \n",
    "                                       method='random', n_seeds=10, \n",
    "                                       verbose=False)\n",
    "\n",
    "        seed_node_list = np.array(list(set([event[0] for event,_ in init_event_list])))\n",
    "        seed_neighbors_list = np.hstack([list(graph.neighbors(u)) for u in seed_node_list])\n",
    "\n",
    "        seed_ego_net = nx.subgraph(graph, np.hstack((seed_node_list, seed_neighbors_list)))\n",
    "\n",
    "        def stop_criteria(sir_obj):\n",
    "            seed_node_indices = np.array([sir_obj.node_to_idx[u] for u in seed_node_list])\n",
    "            seed_neighbors_indices = np.array([sir_obj.node_to_idx[u] for u in seed_neighbors_list])\n",
    "            return np.all(sir_obj.is_rec[seed_node_indices]) or np.all(sir_obj.is_inf[seed_neighbors_indices])\n",
    "\n",
    "        # === Run simulation \n",
    "\n",
    "        sir_obj = SimulationSIR(seed_ego_net, beta=beta, delta=delta, gamma=0.0, rho=0.0, verbose=False)\n",
    "        sir_obj.launch_epidemic(\n",
    "            init_event_list=init_event_list,\n",
    "            max_time=max_days, \n",
    "            policy='NO', \n",
    "            stop_criteria=stop_criteria\n",
    "        )\n",
    "\n",
    "        # === Compute R0\n",
    "\n",
    "        infector_count = Counter(sir_obj.infector)\n",
    "\n",
    "        country_count = defaultdict(list)\n",
    "        for u in seed_node_list:\n",
    "            u_idx = sir_obj.node_to_idx[u]\n",
    "            u_country = sir_obj.G.node[u]['country']\n",
    "            inf_count = infector_count[u_idx]\n",
    "            country_count[u_country].append(inf_count)\n",
    "\n",
    "        for country, count in country_count.items():\n",
    "            res_list.append({\n",
    "                'country': country,\n",
    "                'sim_idx': i, 'net_idx': j,\n",
    "                'p_idx': p_idx,\n",
    "                'p_out_gn': p_out_gn,\n",
    "                'p_out_lb': p_out_lb, \n",
    "                'p_out_sl': p_out_sl,\n",
    "                'count': count\n",
    "            })\n",
    "    return res_list"
   ]
  },
  {
   "cell_type": "code",
   "execution_count": 455,
   "metadata": {
    "scrolled": true
   },
   "outputs": [
    {
     "name": "stdout",
     "output_type": "stream",
     "text": [
      "Exp 1/1 - Graph 30/30 - Sim 100/100        \n"
     ]
    }
   ],
   "source": [
    "\n",
    "# Iterate over infection rates\n",
    "p_out_range_product = list(itertools.product(\n",
    "    p_out_range['Guinea'], \n",
    "    p_out_range['Liberia'], \n",
    "    p_out_range['Sierra Leone']\n",
    "))\n",
    "n_p_out = len(p_out_range_product)\n",
    "\n",
    "\n",
    "for p_idx, (p_out_gn, p_out_lb, p_out_sl) in enumerate(p_out_range_product):\n",
    "\n",
    "    p_out = {\n",
    "               'Guinea': p_out_gn, \n",
    "              'Liberia': p_out_lb, \n",
    "         'Sierra Leone': p_out_sl, \n",
    "        'inter-country': 0.0040\n",
    "    }\n",
    "\n",
    "    for j in range(n_graphs):\n",
    "\n",
    "        graph = make_ebola_network(n_nodes=n_nodes, p_in=p_in, p_out=p_out)\n",
    "\n",
    "\n",
    "print()"
   ]
  },
  {
   "cell_type": "code",
   "execution_count": 456,
   "metadata": {},
   "outputs": [
    {
     "data": {
      "text/html": [
       "<div>\n",
       "<style scoped>\n",
       "    .dataframe tbody tr th:only-of-type {\n",
       "        vertical-align: middle;\n",
       "    }\n",
       "\n",
       "    .dataframe tbody tr th {\n",
       "        vertical-align: top;\n",
       "    }\n",
       "\n",
       "    .dataframe thead th {\n",
       "        text-align: right;\n",
       "    }\n",
       "</style>\n",
       "<table border=\"1\" class=\"dataframe\">\n",
       "  <thead>\n",
       "    <tr style=\"text-align: right;\">\n",
       "      <th></th>\n",
       "      <th>mean</th>\n",
       "      <th>std</th>\n",
       "      <th>Q5</th>\n",
       "      <th>Q95</th>\n",
       "    </tr>\n",
       "    <tr>\n",
       "      <th>country</th>\n",
       "      <th></th>\n",
       "      <th></th>\n",
       "      <th></th>\n",
       "      <th></th>\n",
       "    </tr>\n",
       "  </thead>\n",
       "  <tbody>\n",
       "    <tr>\n",
       "      <th>Guinea</th>\n",
       "      <td>1.722708</td>\n",
       "      <td>0.059479</td>\n",
       "      <td>1.642437</td>\n",
       "      <td>1.824013</td>\n",
       "    </tr>\n",
       "    <tr>\n",
       "      <th>Liberia</th>\n",
       "      <td>1.812407</td>\n",
       "      <td>0.091569</td>\n",
       "      <td>1.676116</td>\n",
       "      <td>1.953550</td>\n",
       "    </tr>\n",
       "    <tr>\n",
       "      <th>Sierra Leone</th>\n",
       "      <td>1.997731</td>\n",
       "      <td>0.065988</td>\n",
       "      <td>1.909955</td>\n",
       "      <td>2.128491</td>\n",
       "    </tr>\n",
       "  </tbody>\n",
       "</table>\n",
       "</div>"
      ],
      "text/plain": [
       "                  mean       std        Q5       Q95\n",
       "country                                             \n",
       "Guinea        1.722708  0.059479  1.642437  1.824013\n",
       "Liberia       1.812407  0.091569  1.676116  1.953550\n",
       "Sierra Leone  1.997731  0.065988  1.909955  2.128491"
      ]
     },
     "execution_count": 456,
     "metadata": {},
     "output_type": "execute_result"
    }
   ],
   "source": [
    "res_df = pd.DataFrame(res_list)\n",
    "\n",
    "# Aggregate results by country and graph to get R0 estimate per country and graph\n",
    "res_df_gp = res_df.groupby(\n",
    "    ['country',\n",
    "     'net_idx',\n",
    "    ]\n",
    ").agg(\n",
    "    {'count': list}\n",
    ")['count'].apply(np.hstack).apply(np.mean).reset_index()\n",
    "\n",
    "# Aggregate results by graph to get uncertainty over R0 per country\n",
    "res_df_country_gp = pd.DataFrame(res_df_gp.groupby('country')['count'].agg(list))\n",
    "\n",
    "res_df_country_gp['mean'] = res_df_country_gp['count'].apply(np.mean)\n",
    "res_df_country_gp['std'] = res_df_country_gp['count'].apply(np.std)\n",
    "res_df_country_gp['Q5'] = res_df_country_gp['count'].apply(lambda a: np.percentile(a, q=5))\n",
    "res_df_country_gp['Q95'] = res_df_country_gp['count'].apply(lambda a: np.percentile(a, q=95))\n",
    "del res_df_country_gp['count']\n",
    "\n",
    "res_df_country_gp"
   ]
  },
  {
   "cell_type": "code",
   "execution_count": null,
   "metadata": {},
   "outputs": [],
   "source": []
  },
  {
   "cell_type": "markdown",
   "metadata": {},
   "source": [
    "---"
   ]
  },
  {
   "cell_type": "code",
   "execution_count": 220,
   "metadata": {
    "scrolled": false
   },
   "outputs": [
    {
     "name": "stdout",
     "output_type": "stream",
     "text": [
      "R0 per country:\n",
      "         Guinea  1.6856\n",
      "        Liberia  1.8530\n",
      "   Sierra Leone  2.2720\n"
     ]
    },
    {
     "data": {
      "image/png": "[encoded data removed]",
      "text/plain": [
       "<Figure size 1080x288 with 3 Axes>"
      ]
     },
     "metadata": {
      "needs_background": "light"
     },
     "output_type": "display_data"
    }
   ],
   "source": [
    "print('R0 per country:')\n",
    "for k, v in res_dict.items():\n",
    "    print(f\"{k:>15s}  {np.mean(np.hstack(v.flatten())):.4f}\")    \n",
    "    \n",
    "fig, axs = plt.subplots(1, len(res_dict), figsize=(15, 4))\n",
    "fig.suptitle('Histogram of R0 over graphs for each country')\n",
    "for i, (k, v) in enumerate(res_dict.items()):\n",
    "    rt_country_list = list()\n",
    "    for j in range(n_graphs):\n",
    "        rt_j = np.mean(np.hstack(v[:,j]))\n",
    "        rt_country_list.append(rt_j)\n",
    "    axs[i].hist(rt_country_list)\n",
    "    axs[i].set_xlabel(k)\n",
    "    axs[i].axvline(np.median(rt_country_list), c='C1', label='Median')\n",
    "    axs[i].axvline(np.mean(rt_country_list), c='C2', label='Mean')\n",
    "    axs[i].legend()"
   ]
  },
  {
   "cell_type": "markdown",
   "metadata": {},
   "source": [
    "---"
   ]
  },
  {
   "cell_type": "code",
   "execution_count": 403,
   "metadata": {},
   "outputs": [
    {
     "name": "stdout",
     "output_type": "stream",
     "text": [
      "Epidemic stopped after 40.00 days | 5703 sus., 958 inf., 930 rec., 0 tre (0.00% of inf) | I(q): 4089 R(q): 958 T(q): 0 |q|: 5047\n"
     ]
    }
   ],
   "source": [
    "n_nodes = 8000\n",
    "p_in = 0.04\n",
    "\n",
    "# Inter-district edge probability to experiment with\n",
    "p_out = {\n",
    "           'Guinea': 0.00478, \n",
    "          'Liberia': 0.00510, \n",
    "     'Sierra Leone': 0.00485,\n",
    "    'inter-country': 0.0040\n",
    "}\n",
    "\n",
    "graph = make_ebola_network(n_nodes=n_nodes, p_in=p_in, p_out=p_out)\n",
    "\n",
    "init_event_list = sample_seeds(graph, delta=delta, \n",
    "                               method='data', max_date=start_day_str,\n",
    "                               verbose=False)\n",
    "   \n",
    "sir_obj = SimulationSIR(graph, beta=beta, delta=delta, gamma=0.0, rho=0.0, verbose=True)\n",
    "sir_obj.launch_epidemic(\n",
    "    init_event_list=init_event_list,\n",
    "    max_time=40, \n",
    "    policy='NO'\n",
    ")\n"
   ]
  },
  {
   "cell_type": "code",
   "execution_count": 404,
   "metadata": {},
   "outputs": [
    {
     "data": {
      "text/plain": [
       "<BarContainer object of 39 artists>"
      ]
     },
     "execution_count": 404,
     "metadata": {},
     "output_type": "execute_result"
    },
    {
     "data": {
      "image/png": "[encoded data removed]",
      "text/plain": [
       "<Figure size 432x288 with 1 Axes>"
      ]
     },
     "metadata": {
      "needs_background": "light"
     },
     "output_type": "display_data"
    }
   ],
   "source": [
    "daily_count_arr, bins = np.histogram(\n",
    "    sir_obj.inf_occured_at[(sir_obj.inf_occured_at < np.inf) & (sir_obj.inf_occured_at > 0)], \n",
    "    bins=np.arange(0, sir_obj.max_time)\n",
    ")\n",
    "plt.bar(bins[1:], daily_count_arr)"
   ]
  },
  {
   "cell_type": "code",
   "execution_count": 405,
   "metadata": {},
   "outputs": [
    {
     "data": {
      "text/plain": [
       "array([  3,   1,   1,   2,   6,   6,   4,   6,  10,  10,  13,  10,   6,  15,  17,  16,  19,  18,  21,  33,  29,  41,  37,  43,  50,  43,  62,  58,  67,  69,  96,  95,  89, 107, 118, 136, 149, 120, 142])"
      ]
     },
     "execution_count": 405,
     "metadata": {},
     "output_type": "execute_result"
    }
   ],
   "source": [
    "daily_count_arr"
   ]
  },
  {
   "cell_type": "code",
   "execution_count": null,
   "metadata": {},
   "outputs": [],
   "source": []
  },
  {
   "cell_type": "code",
   "execution_count": 406,
   "metadata": {},
   "outputs": [],
   "source": [
    "rt_list = [metrics.estimate_reproduction_number(daily_count_arr[i:i+30], beta, T=30) for i in range(int(sir_obj.max_time) - 30)]"
   ]
  },
  {
   "cell_type": "code",
   "execution_count": 407,
   "metadata": {},
   "outputs": [
    {
     "data": {
      "text/plain": [
       "[<matplotlib.lines.Line2D at 0x13eec0710>]"
      ]
     },
     "execution_count": 407,
     "metadata": {},
     "output_type": "execute_result"
    },
    {
     "data": {
      "image/png": "[encoded data removed]",
      "text/plain": [
       "<Figure size 432x288 with 1 Axes>"
      ]
     },
     "metadata": {
      "needs_background": "light"
     },
     "output_type": "display_data"
    }
   ],
   "source": [
    "plt.plot(rt_list)"
   ]
  },
  {
   "cell_type": "code",
   "execution_count": 408,
   "metadata": {},
   "outputs": [
    {
     "data": {
      "text/plain": [
       "[2.0616796713253533,\n",
       " 2.089209503447175,\n",
       " 2.0609164517559657,\n",
       " 1.999026492258987,\n",
       " 1.9618309785805825,\n",
       " 1.9573192198692413,\n",
       " 1.9540754661370725,\n",
       " 1.937564950668573,\n",
       " 1.8725576288931935,\n",
       " 1.843808666882789]"
      ]
     },
     "execution_count": 408,
     "metadata": {},
     "output_type": "execute_result"
    }
   ],
   "source": [
    "rt_list"
   ]
  },
  {
   "cell_type": "code",
   "execution_count": null,
   "metadata": {},
   "outputs": [],
   "source": []
  }
 ],
 "metadata": {
  "kernelspec": {
   "display_name": "Python 3",
   "language": "python",
   "name": "python3"
  },
  "language_info": {
   "codemirror_mode": {
    "name": "ipython",
    "version": 3
   },
   "file_extension": ".py",
   "mimetype": "text/x-python",
   "name": "python",
   "nbconvert_exporter": "python",
   "pygments_lexer": "ipython3",
   "version": "3.6.8"
  }
 },
 "nbformat": 4,
 "nbformat_minor": 2
}
