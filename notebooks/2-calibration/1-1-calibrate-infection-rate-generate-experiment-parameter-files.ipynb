{
 "cells": [
  {
   "cell_type": "markdown",
   "metadata": {},
   "source": [
    "# Infection Rate Calibration: Generate experiment parameter files\n",
    "\n",
    "Based on a fixed network model, we sweep over the infection rate parameter $\\beta$ to find the one that minimizes a point process distance between realizations of simulated processes and the real time series."
   ]
  },
  {
   "cell_type": "code",
   "execution_count": 1,
   "metadata": {},
   "outputs": [],
   "source": [
    "from matplotlib import pyplot as plt\n",
    "%matplotlib inline\n",
    "\n",
    "import os\n",
    "import json\n",
    "import random\n",
    "import networkx as nx\n",
    "from pprint import pprint\n",
    "\n",
    "from lib.graph_generation import make_ebola_network\n",
    "from lib.dynamics import SimulationSIR, PriorityQueue\n",
    "from lib.dynamics import sample_seeds\n",
    "from lib.settings import DATA_DIR, PROJECT_DIR"
   ]
  },
  {
   "cell_type": "markdown",
   "metadata": {},
   "source": [
    "---\n",
    "\n",
    "## Set parameters for the exeperiment"
   ]
  },
  {
   "cell_type": "markdown",
   "metadata": {},
   "source": [
    "Experiment parameters"
   ]
  },
  {
   "cell_type": "code",
   "execution_count": 64,
   "metadata": {},
   "outputs": [],
   "source": [
    "# Directory where the experiment should be located\n",
    "exp_dir = os.path.join(PROJECT_DIR, 'output', 'calibration-beta-05to09-1')"
   ]
  },
  {
   "cell_type": "markdown",
   "metadata": {},
   "source": [
    "Network parameters"
   ]
  },
  {
   "cell_type": "code",
   "execution_count": 65,
   "metadata": {},
   "outputs": [],
   "source": [
    "n_nodes = 8000  # Desired number of nodes (we only keep the giant component, so actual number of nodes may be smaller)\n",
    "p_in = 0.04  # Intra-district edge probability\n",
    "p_out = p_in / 10  # Inter-district edge probability\n",
    "\n",
    "num_nets = 10  # Number of networks to generate for the experiment\n",
    "net_seed_list = [random.randint(0, 2**32) for i in range(num_nets)]  # Random seed for the generation of each network in the experiment (for reproducibility)"
   ]
  },
  {
   "cell_type": "markdown",
   "metadata": {},
   "source": [
    "Epidemic parameters"
   ]
  },
  {
   "cell_type": "code",
   "execution_count": 67,
   "metadata": {},
   "outputs": [],
   "source": [
    "# List of infection rates to experiment with\n",
    "beta_range = 1 / np.linspace(10.0, 200.0, 13)\n",
    "\n",
    "delta = 1 / 11.4  # Spontaneous recovery rate\n",
    "gamma = 0.0  # Reduction in infectivity under treatement\n",
    "rho = 0.0  # Increase of recovery under treatement\n",
    "\n",
    "start_day_str = '2014-05-01'  # Start of epidemic (used to sample seeds from real data)\n",
    "end_day_str = '2014-09-01'    # End of epidemic"
   ]
  },
  {
   "cell_type": "markdown",
   "metadata": {},
   "source": [
    "Policy parameters"
   ]
  },
  {
   "cell_type": "code",
   "execution_count": 68,
   "metadata": {},
   "outputs": [],
   "source": [
    "# Name of the treatement policy\n",
    "policy_name = 'NO'  # We do not want any treatement for this experiment\n",
    "\n",
    "# Policy parameters\n",
    "policy_params = {}"
   ]
  },
  {
   "cell_type": "markdown",
   "metadata": {},
   "source": [
    "### Set the parameter dict\n",
    "\n",
    "Se the parameter dictionary based on the parameters defined above"
   ]
  },
  {
   "cell_type": "code",
   "execution_count": 69,
   "metadata": {},
   "outputs": [],
   "source": [
    "param_dict = {\n",
    "    'network': {\n",
    "        'n_nodes': n_nodes,\n",
    "        'p_in': p_in,\n",
    "        'p_out': p_out,\n",
    "        'seed': None, # Will be set for each job\n",
    "    },\n",
    "    'simulation': {\n",
    "        'start_day_str': start_day_str,\n",
    "        'end_day_str': end_day_str,\n",
    "        'sir_params': {\n",
    "            'beta': None,  # Will be set for each job\n",
    "            'delta': delta,\n",
    "            'gamma': gamma,\n",
    "            'rho': rho,\n",
    "        },\n",
    "        'policy_name': policy_name,\n",
    "        'policy_params': policy_params\n",
    "    }\n",
    "}"
   ]
  },
  {
   "cell_type": "markdown",
   "metadata": {},
   "source": [
    "Visualize the dict (for sanity check)"
   ]
  },
  {
   "cell_type": "code",
   "execution_count": 70,
   "metadata": {
    "scrolled": false
   },
   "outputs": [
    {
     "name": "stdout",
     "output_type": "stream",
     "text": [
      "{ 'network': {'n_nodes': 8000, 'p_in': 0.04, 'p_out': 0.004, 'seed': None},\n",
      "  'simulation': { 'end_day_str': '2014-09-01',\n",
      "                  'policy_name': 'NO',\n",
      "                  'policy_params': {},\n",
      "                  'sir_params': { 'beta': None,\n",
      "                                  'delta': 0.08771929824561403,\n",
      "                                  'gamma': 0.0,\n",
      "                                  'rho': 0.0},\n",
      "                  'start_day_str': '2014-05-01'}}\n"
     ]
    }
   ],
   "source": [
    "pprint(param_dict, indent=2)"
   ]
  },
  {
   "cell_type": "markdown",
   "metadata": {},
   "source": [
    "Save all the parameter dicts for all the desired experiments"
   ]
  },
  {
   "cell_type": "code",
   "execution_count": 71,
   "metadata": {},
   "outputs": [
    {
     "name": "stdout",
     "output_type": "stream",
     "text": [
      "Creat experiment directory: /Users/trouleau/Workspace/EPFL/research/ongoing/disease-control/disease-control/lib/../output/calibration-beta-05to09-1\n"
     ]
    }
   ],
   "source": [
    "if not os.path.exists(exp_dir):\n",
    "    print(f'Creat experiment directory: {exp_dir}')\n",
    "    os.mkdir(exp_dir)\n",
    "else:\n",
    "    print('WARNING: Experiment directory already exists.\\n')\n",
    "\n",
    "# Iterate over networks\n",
    "for net_idx in range(num_nets):\n",
    "    \n",
    "    # Set network seed\n",
    "    param_dict['network']['seed'] = net_seed_list[net_idx]\n",
    "   \n",
    "    # Iterate over infection rates\n",
    "    for beta_idx, beta in enumerate(beta_range):\n",
    "\n",
    "        # Set beta\n",
    "        param_dict['simulation']['sir_params']['beta'] = beta\n",
    "\n",
    "        # Set file name\n",
    "        filename = os.path.join(exp_dir, f\"param-beta{beta_idx:0>3d}-net{net_idx:0>3d}.json\")\n",
    "        \n",
    "        if os.path.exists(filename):\n",
    "            raise Exception(f'File {filename} already exists... Abort!')\n",
    "\n",
    "        with open(filename, 'w') as f:\n",
    "            json.dump(param_dict, f)"
   ]
  },
  {
   "cell_type": "markdown",
   "metadata": {},
   "source": [
    "---\n",
    "\n",
    "### Validation of network parameters\n",
    "\n",
    "Generate a graph from the parameters and check some properties of the graph"
   ]
  },
  {
   "cell_type": "code",
   "execution_count": 55,
   "metadata": {
    "scrolled": true
   },
   "outputs": [
    {
     "name": "stdout",
     "output_type": "stream",
     "text": [
      "Graph generated\n",
      "  - 7991 nodes, 47990 edges\n"
     ]
    }
   ],
   "source": [
    "graph = make_ebola_network(**param_dict['network'])\n",
    "A = nx.adjacency_matrix(graph).toarray()\n",
    "n_nodes = graph.number_of_nodes()\n",
    "print('Graph generated')\n",
    "print(f\"  - {graph.number_of_nodes()} nodes, {graph.number_of_edges()} edges\")"
   ]
  },
  {
   "cell_type": "markdown",
   "metadata": {},
   "source": [
    "Check that the graph is connected"
   ]
  },
  {
   "cell_type": "code",
   "execution_count": 10,
   "metadata": {},
   "outputs": [
    {
     "data": {
      "text/plain": [
       "True"
      ]
     },
     "execution_count": 10,
     "metadata": {},
     "output_type": "execute_result"
    }
   ],
   "source": [
    "nx.is_connected(graph)"
   ]
  },
  {
   "cell_type": "markdown",
   "metadata": {},
   "source": [
    "Visualize the node degree distribution"
   ]
  },
  {
   "cell_type": "code",
   "execution_count": 11,
   "metadata": {},
   "outputs": [
    {
     "name": "stdout",
     "output_type": "stream",
     "text": [
      "Mean: 13.17982587811468, Median: 11.0\n"
     ]
    },
    {
     "data": {
      "image/png": "[encoded data removed]",
      "text/plain": [
       "<Figure size 432x288 with 1 Axes>"
      ]
     },
     "metadata": {
      "needs_background": "light"
     },
     "output_type": "display_data"
    }
   ],
   "source": [
    "degree_sequence = [d for n, d in graph.degree()]\n",
    "max_deg = max(degree_sequence)\n",
    "print(f'Mean: {np.mean(degree_sequence)}, Median: {np.median(degree_sequence)}')\n",
    "plt.hist(degree_sequence, bins=max_deg, rwidth=0.8, align='left')\n",
    "plt.xlabel('Node degree')\n",
    "plt.ylabel('Number of nodes')\n",
    "plt.xticks(np.arange(0, max_deg+1, 2));"
   ]
  },
  {
   "cell_type": "markdown",
   "metadata": {},
   "source": [
    "Visualize the graph diameter"
   ]
  },
  {
   "cell_type": "code",
   "execution_count": 12,
   "metadata": {},
   "outputs": [
    {
     "name": "stdout",
     "output_type": "stream",
     "text": [
      "Graph diameter is (approximately): 21\n"
     ]
    }
   ],
   "source": [
    "def find_graph_diameter(graph, sample_size):\n",
    "    \"\"\"Compute an approximation of the graph diameter by sampling the maximum distance between nodes\"\"\"\n",
    "    d = 0\n",
    "    for u in np.random.choice(graph.nodes(), replace=False, size=sample_size):\n",
    "        d_u = max(nx.shortest_path_length(graph, source=u).values())\n",
    "        if d_u > d:\n",
    "            d = d_u\n",
    "    return d\n",
    "\n",
    "diameter = find_graph_diameter(graph, sample_size=200)\n",
    "print(f\"Graph diameter is (approximately): {diameter:d}\")"
   ]
  },
  {
   "cell_type": "markdown",
   "metadata": {},
   "source": [
    "Visualize the cluster size distribution"
   ]
  },
  {
   "cell_type": "code",
   "execution_count": 13,
   "metadata": {
    "scrolled": true
   },
   "outputs": [
    {
     "name": "stdout",
     "output_type": "stream",
     "text": [
      "Minimum cluster size is: 24\n",
      "Median cluster size is: 147\n",
      "Average cluster size is: 181.69\n",
      "Max cluster size is: 828\n"
     ]
    },
    {
     "data": {
      "image/png": "[encoded data removed]",
      "text/plain": [
       "<Figure size 432x288 with 1 Axes>"
      ]
     },
     "metadata": {
      "needs_background": "light"
     },
     "output_type": "display_data"
    }
   ],
   "source": [
    "cluster_sizes = np.bincount([d['block'] for u,d in graph.nodes(data=True)])\n",
    "plt.boxplot(cluster_sizes);\n",
    "print(f\"Minimum cluster size is: {min(cluster_sizes):d}\")\n",
    "print(f\"Median cluster size is: {np.median(cluster_sizes):.0f}\")\n",
    "print(f\"Average cluster size is: {np.mean(cluster_sizes):.2f}\")\n",
    "print(f\"Max cluster size is: {np.max(cluster_sizes):d}\")"
   ]
  },
  {
   "cell_type": "code",
   "execution_count": null,
   "metadata": {},
   "outputs": [],
   "source": []
  }
 ],
 "metadata": {
  "kernelspec": {
   "display_name": "Python 3",
   "language": "python",
   "name": "python3"
  },
  "language_info": {
   "codemirror_mode": {
    "name": "ipython",
    "version": 3
   },
   "file_extension": ".py",
   "mimetype": "text/x-python",
   "name": "python",
   "nbconvert_exporter": "python",
   "pygments_lexer": "ipython3",
   "version": "3.6.8"
  }
 },
 "nbformat": 4,
 "nbformat_minor": 2
}
