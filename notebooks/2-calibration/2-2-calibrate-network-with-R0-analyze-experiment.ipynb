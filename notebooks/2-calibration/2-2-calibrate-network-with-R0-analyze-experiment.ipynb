{
 "cells": [
  {
   "cell_type": "markdown",
   "metadata": {},
   "source": [
    "# Infection Rate Calibration: Analyze experiment output\n",
    "\n",
    "Based on a fixed network model, we sweep over the infection rate parameter  𝛽  to find the one that minimizes a point process distance between realizations of simulated processes and the real time series.\n",
    "\n",
    "In this notebook, we analyze the result of an experiment"
   ]
  },
  {
   "cell_type": "markdown",
   "metadata": {},
   "source": [
    "Load libs"
   ]
  },
  {
   "cell_type": "code",
   "execution_count": 1,
   "metadata": {},
   "outputs": [],
   "source": [
    "%load_ext autoreload\n",
    "%autoreload 2"
   ]
  },
  {
   "cell_type": "code",
   "execution_count": 54,
   "metadata": {},
   "outputs": [],
   "source": [
    "from matplotlib import pyplot as plt\n",
    "%matplotlib inline\n",
    "\n",
    "plt.rcParams.update({\n",
    "    \"figure.autolayout\": False,\n",
    "    \"figure.figsize\": (12, 5),\n",
    "    \"figure.dpi\": 72,\n",
    "    \"axes.linewidth\": 0.8,\n",
    "    \"xtick.major.width\": 0.8,\n",
    "    \"xtick.minor.width\": 0.8,\n",
    "    \"ytick.major.width\": 0.8,\n",
    "    \"ytick.minor.width\": 0.8,\n",
    "    \"text.usetex\": True,\n",
    "    \"font.serif\": \"Linux Libertine O\",\n",
    "    \"font.size\": 16,\n",
    "    \"axes.titlesize\": 16,\n",
    "    \"axes.labelsize\": 16,\n",
    "    \"legend.fontsize\": 14,\n",
    "    \"legend.frameon\": True,\n",
    "    \"xtick.labelsize\": 14,\n",
    "    \"ytick.labelsize\": 14,\n",
    "    \"lines.linewidth\": 2.0,\n",
    "    \"lines.markersize\": 4,\n",
    "    \"grid.linewidth\": 0.4,\n",
    "    \"pgf.texsystem\": \"xelatex\",\n",
    "    \"pgf.preamble\": [\n",
    "        r'\\usepackage{fontspec}',\n",
    "        r'\\usepackage{unicode-math}',\n",
    "        r'\\setmainfont{Linux Libertine O}',\n",
    "        r'\\setmathfont{Linux Libertine O}',\n",
    "    ]\n",
    "})\n",
    "\n",
    "import re\n",
    "import os\n",
    "import json\n",
    "import random\n",
    "import networkx as nx\n",
    "from pprint import pprint\n",
    "from collections import Counter, defaultdict\n",
    "\n",
    "from lib.graph_generation import make_ebola_network\n",
    "from lib.dynamics import SimulationSIR, PriorityQueue\n",
    "from lib.dynamics import sample_seeds\n",
    "from lib import utils\n",
    "from lib import metrics\n",
    "from lib.settings import DATA_DIR, PROJECT_DIR"
   ]
  },
  {
   "cell_type": "markdown",
   "metadata": {},
   "source": [
    "---\n",
    "\n",
    "First set the experiment directory"
   ]
  },
  {
   "cell_type": "code",
   "execution_count": 79,
   "metadata": {},
   "outputs": [],
   "source": [
    "EXP_DIR = os.path.join(PROJECT_DIR, 'output', 'calibration-net-startJan01-1')"
   ]
  },
  {
   "cell_type": "markdown",
   "metadata": {},
   "source": [
    "Extract the time period of the experiment (assumed constant over all jobs in the experiment folder)"
   ]
  },
  {
   "cell_type": "code",
   "execution_count": 80,
   "metadata": {},
   "outputs": [
    {
     "name": "stdout",
     "output_type": "stream",
     "text": [
      "start day: 2014-01-01\n",
      "end day: 2014-05-01\n"
     ]
    }
   ],
   "source": [
    "param_filename = sorted([f for f in os.listdir(EXP_DIR) if f.startswith('param')])[0]\n",
    "with open(os.path.join(EXP_DIR, param_filename), 'r') as f:\n",
    "    param_dict = json.load(f)\n",
    "start_day_str = param_dict['simulation']['start_day_str']\n",
    "end_day_str = param_dict['simulation']['end_day_str']\n",
    "del param_filename, param_dict\n",
    "\n",
    "print(f\"start day: {start_day_str}\")\n",
    "print(f\"end day: {end_day_str}\")"
   ]
  },
  {
   "cell_type": "markdown",
   "metadata": {},
   "source": [
    "---\n",
    "\n",
    "## Estimation of basic reproduction number $R_0$ "
   ]
  },
  {
   "cell_type": "code",
   "execution_count": 95,
   "metadata": {},
   "outputs": [
    {
     "name": "stdout",
     "output_type": "stream",
     "text": [
      "Process output file 4107/4107"
     ]
    }
   ],
   "source": [
    "output_fname_re = re.compile('output-p(\\d+)-net(\\d+)-sim(\\d+)')\n",
    "\n",
    "output_file_list = [f for f in os.listdir(EXP_DIR) if f.startswith('output')]\n",
    "\n",
    "result_list = []\n",
    "\n",
    "for i, output_file in enumerate(output_file_list):\n",
    "    print(f\"\\rProcess output file {i+1}/{len(output_file_list)}\", end=\"\")\n",
    "    \n",
    "    # Load param file\n",
    "    param_filename = f\"param-{'-'.join(output_file.split('-')[1:-2])}.json\"\n",
    "    \n",
    "    with open(os.path.join(EXP_DIR, param_filename), 'r') as f:\n",
    "        param_dict = json.load(f)\n",
    "    \n",
    "    p_out_dict = param_dict['network']['p_out']\n",
    "    \n",
    "    p_idx, net_idx, sim_idx = list(map(int, output_fname_re.match(output_file).groups()))\n",
    "    \n",
    "    # Load output file\n",
    "    with open(os.path.join(EXP_DIR, output_file), 'r') as f:\n",
    "        output_data = json.load(f)\n",
    "    \n",
    "    seed_node_list = np.array(list(set([event[0] for event,_ in output_data['init_event_list']])))\n",
    "    infector_count = Counter(output_data['infector'])\n",
    "    node_to_idx = dict(output_data['node_idx_pairs'])\n",
    "    \n",
    "    country_count = defaultdict(list)\n",
    "    for u in seed_node_list:\n",
    "        u_idx = node_to_idx[u]\n",
    "        u_country = output_data['country'][u_idx]\n",
    "        inf_count = infector_count[u_idx]\n",
    "        country_count[u_country].append(inf_count)\n",
    "\n",
    "\n",
    "    for country in ['Guinea', 'Liberia', 'Sierra Leone']:\n",
    "        result_list.append({\n",
    "            'country': country,\n",
    "            'p_out': p_out_dict[country],\n",
    "            'p_idx': p_idx, \n",
    "            'net_idx': net_idx,\n",
    "            'sim_idx': sim_idx,\n",
    "            'count': country_count[country],\n",
    "        })\n",
    "        \n",
    "res_df = pd.DataFrame(result_list)\n",
    "del result_list"
   ]
  },
  {
   "cell_type": "code",
   "execution_count": 98,
   "metadata": {},
   "outputs": [
    {
     "data": {
      "text/html": [
       "<div>\n",
       "<style scoped>\n",
       "    .dataframe tbody tr th:only-of-type {\n",
       "        vertical-align: middle;\n",
       "    }\n",
       "\n",
       "    .dataframe tbody tr th {\n",
       "        vertical-align: top;\n",
       "    }\n",
       "\n",
       "    .dataframe thead th {\n",
       "        text-align: right;\n",
       "    }\n",
       "</style>\n",
       "<table border=\"1\" class=\"dataframe\">\n",
       "  <thead>\n",
       "    <tr style=\"text-align: right;\">\n",
       "      <th></th>\n",
       "      <th></th>\n",
       "      <th>count</th>\n",
       "      <th>p_out</th>\n",
       "      <th>r0</th>\n",
       "    </tr>\n",
       "    <tr>\n",
       "      <th>country</th>\n",
       "      <th>p_idx</th>\n",
       "      <th></th>\n",
       "      <th></th>\n",
       "      <th></th>\n",
       "    </tr>\n",
       "  </thead>\n",
       "  <tbody>\n",
       "    <tr>\n",
       "      <th rowspan=\"3\" valign=\"top\">Guinea</th>\n",
       "      <th>211</th>\n",
       "      <td>[[0, 13, 4, 7, 1], [7, 5, 0, 3, 4], [0, 0, 0, ...</td>\n",
       "      <td>0.0045</td>\n",
       "      <td>4.540261</td>\n",
       "    </tr>\n",
       "    <tr>\n",
       "      <th>212</th>\n",
       "      <td>[[4, 10, 1, 2, 1], [0, 4, 26, 5, 7], [3, 15, 3...</td>\n",
       "      <td>0.0045</td>\n",
       "      <td>4.546462</td>\n",
       "    </tr>\n",
       "    <tr>\n",
       "      <th>215</th>\n",
       "      <td>[[2, 4, 1, 1, 12], [0, 4, 1, 2, 3], [4, 21, 0,...</td>\n",
       "      <td>0.0045</td>\n",
       "      <td>4.439227</td>\n",
       "    </tr>\n",
       "    <tr>\n",
       "      <th rowspan=\"3\" valign=\"top\">Liberia</th>\n",
       "      <th>211</th>\n",
       "      <td>[[3, 2, 8, 1, 2], [1, 5, 1, 1, 5], [5, 7, 0, 1...</td>\n",
       "      <td>0.0055</td>\n",
       "      <td>4.132304</td>\n",
       "    </tr>\n",
       "    <tr>\n",
       "      <th>212</th>\n",
       "      <td>[[1, 0, 1, 4, 6], [0, 2, 4, 12, 9], [0, 2, 3, ...</td>\n",
       "      <td>0.0055</td>\n",
       "      <td>4.080410</td>\n",
       "    </tr>\n",
       "    <tr>\n",
       "      <th>215</th>\n",
       "      <td>[[0, 2, 2, 8, 3], [5, 6, 1, 10, 8], [0, 7, 1, ...</td>\n",
       "      <td>0.0055</td>\n",
       "      <td>3.979558</td>\n",
       "    </tr>\n",
       "    <tr>\n",
       "      <th rowspan=\"3\" valign=\"top\">Sierra Leone</th>\n",
       "      <th>211</th>\n",
       "      <td>[[], [], [], [], [], [], [], [], [], [], [], [...</td>\n",
       "      <td>0.0047</td>\n",
       "      <td>NaN</td>\n",
       "    </tr>\n",
       "    <tr>\n",
       "      <th>212</th>\n",
       "      <td>[[], [], [], [], [], [], [], [], [], [], [], [...</td>\n",
       "      <td>0.0049</td>\n",
       "      <td>NaN</td>\n",
       "    </tr>\n",
       "    <tr>\n",
       "      <th>215</th>\n",
       "      <td>[[], [], [], [], [], [], [], [], [], [], [], [...</td>\n",
       "      <td>0.0055</td>\n",
       "      <td>NaN</td>\n",
       "    </tr>\n",
       "  </tbody>\n",
       "</table>\n",
       "</div>"
      ],
      "text/plain": [
       "                                                                count   p_out        r0\n",
       "country      p_idx                                                                     \n",
       "Guinea       211    [[0, 13, 4, 7, 1], [7, 5, 0, 3, 4], [0, 0, 0, ...  0.0045  4.540261\n",
       "             212    [[4, 10, 1, 2, 1], [0, 4, 26, 5, 7], [3, 15, 3...  0.0045  4.546462\n",
       "             215    [[2, 4, 1, 1, 12], [0, 4, 1, 2, 3], [4, 21, 0,...  0.0045  4.439227\n",
       "Liberia      211    [[3, 2, 8, 1, 2], [1, 5, 1, 1, 5], [5, 7, 0, 1...  0.0055  4.132304\n",
       "             212    [[1, 0, 1, 4, 6], [0, 2, 4, 12, 9], [0, 2, 3, ...  0.0055  4.080410\n",
       "             215    [[0, 2, 2, 8, 3], [5, 6, 1, 10, 8], [0, 7, 1, ...  0.0055  3.979558\n",
       "Sierra Leone 211    [[], [], [], [], [], [], [], [], [], [], [], [...  0.0047       NaN\n",
       "             212    [[], [], [], [], [], [], [], [], [], [], [], [...  0.0049       NaN\n",
       "             215    [[], [], [], [], [], [], [], [], [], [], [], [...  0.0055       NaN"
      ]
     },
     "execution_count": 98,
     "metadata": {},
     "output_type": "execute_result"
    }
   ],
   "source": [
    "res_df_gn = res_df.groupby(['country', 'p_idx']).agg({'count': list, 'p_out': 'min'})\n",
    "res_df_gn['r0'] = res_df_gn['count'].apply(np.hstack).apply(np.mean)\n",
    "res_df_gn"
   ]
  },
  {
   "cell_type": "code",
   "execution_count": 97,
   "metadata": {},
   "outputs": [
    {
     "ename": "NameError",
     "evalue": "name 'df' is not defined",
     "output_type": "error",
     "traceback": [
      "\u001b[0;31m---------------------------------------------------------------------------\u001b[0m",
      "\u001b[0;31mNameError\u001b[0m                                 Traceback (most recent call last)",
      "\u001b[0;32m<ipython-input-97-609135e7e753>\u001b[0m in \u001b[0;36m<module>\u001b[0;34m\u001b[0m\n\u001b[1;32m      1\u001b[0m \u001b[0mplt\u001b[0m\u001b[0;34m.\u001b[0m\u001b[0mfigure\u001b[0m\u001b[0;34m(\u001b[0m\u001b[0mfigsize\u001b[0m\u001b[0;34m=\u001b[0m\u001b[0;34m(\u001b[0m\u001b[0;36m10\u001b[0m\u001b[0;34m,\u001b[0m \u001b[0;36m6\u001b[0m\u001b[0;34m)\u001b[0m\u001b[0;34m)\u001b[0m\u001b[0;34m\u001b[0m\u001b[0;34m\u001b[0m\u001b[0m\n\u001b[1;32m      2\u001b[0m \u001b[0;34m\u001b[0m\u001b[0m\n\u001b[0;32m----> 3\u001b[0;31m \u001b[0mx\u001b[0m \u001b[0;34m=\u001b[0m \u001b[0;36m1\u001b[0m \u001b[0;34m/\u001b[0m \u001b[0mdf\u001b[0m\u001b[0;34m.\u001b[0m\u001b[0mindex\u001b[0m\u001b[0;34m\u001b[0m\u001b[0;34m\u001b[0m\u001b[0m\n\u001b[0m\u001b[1;32m      4\u001b[0m \u001b[0;34m\u001b[0m\u001b[0m\n\u001b[1;32m      5\u001b[0m \u001b[0;32mfor\u001b[0m \u001b[0mi\u001b[0m\u001b[0;34m,\u001b[0m \u001b[0mcountry\u001b[0m \u001b[0;32min\u001b[0m \u001b[0menumerate\u001b[0m\u001b[0;34m(\u001b[0m\u001b[0;34m[\u001b[0m\u001b[0;34m'Guinea'\u001b[0m\u001b[0;34m,\u001b[0m \u001b[0;34m'Liberia'\u001b[0m\u001b[0;34m,\u001b[0m \u001b[0;34m'Sierra Leone'\u001b[0m\u001b[0;34m]\u001b[0m\u001b[0;34m)\u001b[0m\u001b[0;34m:\u001b[0m\u001b[0;34m\u001b[0m\u001b[0;34m\u001b[0m\u001b[0m\n",
      "\u001b[0;31mNameError\u001b[0m: name 'df' is not defined"
     ]
    },
    {
     "data": {
      "text/plain": [
       "<Figure size 720x432 with 0 Axes>"
      ]
     },
     "metadata": {},
     "output_type": "display_data"
    }
   ],
   "source": [
    "plt.figure(figsize=(10, 6))\n",
    "\n",
    "x = 1 / df.index\n",
    "\n",
    "for i, country in enumerate(['Guinea', 'Liberia', 'Sierra Leone']):\n",
    "    y_mean = df[country]['mean']\n",
    "    y_std = df[country]['std']\n",
    "    \n",
    "    plt.plot(x, y_mean, c=f'C{i}', label=country)\n",
    "    plt.fill_between(x, y_mean - y_std, y_mean + y_std, color=f'C{i}', alpha=0.3)\n",
    "\n",
    "plt.xlabel('$1/\\\\beta$')\n",
    "plt.ylabel('$R_0$')\n",
    "plt.legend()\n",
    "\n",
    "plt.title('Infection rate calibration\\nusing basic reproduction number');"
   ]
  },
  {
   "cell_type": "code",
   "execution_count": null,
   "metadata": {},
   "outputs": [],
   "source": []
  },
  {
   "cell_type": "code",
   "execution_count": null,
   "metadata": {},
   "outputs": [],
   "source": []
  },
  {
   "cell_type": "code",
   "execution_count": 37,
   "metadata": {},
   "outputs": [],
   "source": [
    "from collections import defaultdict, Counter\n",
    "\n",
    "def compute_r0_per_country(inf_time_arr, infector_arr, country_arr):\n",
    "    \"\"\"\n",
    "    Compute the basic reproduction number R0 per country for the given data.\n",
    "\n",
    "    inf_time_arr : array-like (shape: (N,))\n",
    "        Infection time of each of the N nodes\n",
    "    infector_arr : array-like (shape: (N,))\n",
    "        Index of the\n",
    "    \"\"\"\n",
    "    # Count of secondary infections: {node_idx: num of infected neighbors}\n",
    "    infector_count = Counter(infector_arr)\n",
    "    # Indices of infected nodes\n",
    "    infected_node_indices = np.where(np.array(inf_time_arr) < np.inf)[0]\n",
    "    # Initialize the list of number of secondary infections per country\n",
    "    country_count = defaultdict(list)\n",
    "    # For each infected node, add its number of secondary case to its country\n",
    "    for u_idx in infected_node_indices:\n",
    "        u_country = country_arr[u_idx]\n",
    "        inf_count = infector_count[u_idx]\n",
    "        country_count[u_country].append(inf_count)\n",
    "    country_count = dict(country_count)\n",
    "    # Compute R0 as the mean number of secondary case for each country\n",
    "    countru_r0_dict = {country: np.mean(count) for country, count in country_count.items()}\n",
    "    return countru_r0_dict"
   ]
  },
  {
   "cell_type": "code",
   "execution_count": null,
   "metadata": {},
   "outputs": [],
   "source": []
  }
 ],
 "metadata": {
  "kernelspec": {
   "display_name": "Python 3",
   "language": "python",
   "name": "python3"
  },
  "language_info": {
   "codemirror_mode": {
    "name": "ipython",
    "version": 3
   },
   "file_extension": ".py",
   "mimetype": "text/x-python",
   "name": "python",
   "nbconvert_exporter": "python",
   "pygments_lexer": "ipython3",
   "version": "3.6.8"
  }
 },
 "nbformat": 4,
 "nbformat_minor": 2
}
