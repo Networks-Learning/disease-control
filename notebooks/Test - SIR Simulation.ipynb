{
 "cells": [
  {
   "cell_type": "code",
   "execution_count": 1,
   "metadata": {},
   "outputs": [],
   "source": [
    "%load_ext autoreload\n",
    "%autoreload 2\n",
    "\n",
    "%load_ext line_profiler\n",
    "\n",
    "import sys\n",
    "if '../' not in sys.path:\n",
    "    sys.path.append('../')"
   ]
  },
  {
   "cell_type": "code",
   "execution_count": 2,
   "metadata": {
    "scrolled": true
   },
   "outputs": [],
   "source": [
    "from matplotlib import pyplot as plt\n",
    "%matplotlib inline\n",
    "\n",
    "import networkx as nx\n",
    "import numpy as np\n",
    "import argparse\n",
    "import joblib\n",
    "import os\n",
    "\n",
    "from analysis import Evaluation\n",
    "from dynamics import SIRDynamicalSystem\n",
    "import helpers"
   ]
  },
  {
   "cell_type": "code",
   "execution_count": 3,
   "metadata": {},
   "outputs": [
    {
     "name": "stdout",
     "output_type": "stream",
     "text": [
      "Network: 10 nodes, 9 edges\n",
      "\n",
      "Choose set of initial infected seeds\n",
      "\n"
     ]
    }
   ],
   "source": [
    "# Construct the adjacency  matrix A of the propagation network\n",
    "net = nx.Graph()\n",
    "net.add_edges_from([\n",
    "    (0,1), (1,2), (2,3), (3,4), (4,5), (5,6), (6,7), (7,8), (8,9)\n",
    "])\n",
    "A = nx.adjacency_matrix(net).toarray().astype(float)\n",
    "n_nodes = net.number_of_nodes()\n",
    "n_edges = net.number_of_edges()\n",
    "print(f\"Network: {n_nodes:d} nodes, {n_edges:d} edges\")\n",
    "print()\n",
    "\n",
    "# Initial infections\n",
    "print('Choose set of initial infected seeds')\n",
    "# infected = 10\n",
    "# X_init = np.hstack(((np.ones(infected), np.zeros(n_nodes - infected))))\n",
    "# X_init = np.random.permutation(X_init)\n",
    "X_init = np.zeros(n_nodes)\n",
    "X_init[0] = 1\n",
    "print()"
   ]
  },
  {
   "cell_type": "code",
   "execution_count": 7,
   "metadata": {},
   "outputs": [],
   "source": [
    "sim_dict = {\n",
    "    'total_time': 100.00,\n",
    "    'trials_per_setting': 5\n",
    "}\n",
    "param_dict = {\n",
    "    'beta':  5.0,\n",
    "    'gamma': 0.0,\n",
    "    'delta': 0.1,\n",
    "    'rho':   1.0,\n",
    "    'eta':   1.0\n",
    "}\n",
    "cost_dict = {\n",
    "    'Qlam': 1.0,\n",
    "    'Qx': 400.0\n",
    "}\n",
    "policy_list = [\n",
    "    'SOC',\n",
    "]\n",
    "baselines_dict = {\n",
    "    'TR': 0.003,\n",
    "    'MN': 0.0007,\n",
    "    'LN': 0.0008,\n",
    "    'LRSR': 22.807,\n",
    "    'MCM': 22.807,\n",
    "    'FL_info': {'N': None, 'max_u': None},\n",
    "}"
   ]
  },
  {
   "cell_type": "code",
   "execution_count": 8,
   "metadata": {},
   "outputs": [
    {
     "name": "stdout",
     "output_type": "stream",
     "text": [
      "\n",
      "------\n",
      "t=0.0000\n",
      "lamY=5.00, lamW=0.10, lamN=0.00, lamSUM=5.10\n",
      "Susceptible nodes: [1 2 3 4 5 6 7 8 9]\n",
      "Infected nodes: [0]\n",
      "Recovered nodes: []\n",
      "Treated nodes: []\n",
      "t+w=0.4236\n",
      "Process INFECTION event at node 1\n",
      "\n",
      "------\n",
      "t=0.4236\n",
      "lamY=5.00, lamW=0.20, lamN=0.00, lamSUM=5.20\n",
      "Susceptible nodes: [2 3 4 5 6 7 8 9]\n",
      "Infected nodes: [0 1]\n",
      "Recovered nodes: []\n",
      "Treated nodes: []\n",
      "t+w=0.7896\n",
      "Process INFECTION event at node 2\n",
      "\n",
      "------\n",
      "t=0.7896\n",
      "lamY=5.00, lamW=0.30, lamN=0.00, lamSUM=5.30\n",
      "Susceptible nodes: [3 4 5 6 7 8 9]\n",
      "Infected nodes: [0 1 2]\n",
      "Recovered nodes: []\n",
      "Treated nodes: []\n",
      "t+w=0.9039\n",
      "Process INFECTION event at node 3\n",
      "\n",
      "------\n",
      "t=0.9039\n",
      "lamY=5.00, lamW=0.40, lamN=0.00, lamSUM=5.40\n",
      "Susceptible nodes: [4 5 6 7 8 9]\n",
      "Infected nodes: [0 1 2 3]\n",
      "Recovered nodes: []\n",
      "Treated nodes: []\n",
      "t+w=0.9982\n",
      "Process INFECTION event at node 4\n",
      "\n",
      "------\n",
      "t=0.9982\n",
      "lamY=5.00, lamW=0.50, lamN=0.00, lamSUM=5.50\n",
      "Susceptible nodes: [5 6 7 8 9]\n",
      "Infected nodes: [0 1 2 3 4]\n",
      "Recovered nodes: []\n",
      "Treated nodes: []\n",
      "t+w=1.1348\n",
      "Process INFECTION event at node 5\n",
      "\n",
      "------\n",
      "t=1.1348\n",
      "lamY=5.00, lamW=0.60, lamN=0.00, lamSUM=5.60\n",
      "Susceptible nodes: [6 7 8 9]\n",
      "Infected nodes: [0 1 2 3 4 5]\n",
      "Recovered nodes: []\n",
      "Treated nodes: []\n",
      "t+w=1.1417\n",
      "Process RECOVERY event at node 0\n",
      "\n",
      "------\n",
      "t=1.1417\n",
      "lamY=5.00, lamW=0.50, lamN=0.00, lamSUM=5.50\n",
      "Susceptible nodes: [6 7 8 9]\n",
      "Infected nodes: [1 2 3 4 5]\n",
      "Recovered nodes: [0]\n",
      "Treated nodes: []\n",
      "t+w=1.7685\n",
      "Process INFECTION event at node 6\n",
      "\n",
      "------\n",
      "t=1.7685\n",
      "lamY=5.00, lamW=0.60, lamN=0.00, lamSUM=5.60\n",
      "Susceptible nodes: [7 8 9]\n",
      "Infected nodes: [1 2 3 4 5 6]\n",
      "Recovered nodes: [0]\n",
      "Treated nodes: []\n",
      "t+w=1.8221\n",
      "Process INFECTION event at node 7\n",
      "\n",
      "------\n",
      "t=1.8221\n",
      "lamY=5.00, lamW=0.70, lamN=0.00, lamSUM=5.70\n",
      "Susceptible nodes: [8 9]\n",
      "Infected nodes: [1 2 3 4 5 6 7]\n",
      "Recovered nodes: [0]\n",
      "Treated nodes: []\n",
      "t+w=1.8581\n",
      "Process INFECTION event at node 8\n",
      "\n",
      "------\n",
      "t=1.8581\n",
      "lamY=5.00, lamW=0.80, lamN=0.00, lamSUM=5.80\n",
      "Susceptible nodes: [9]\n",
      "Infected nodes: [1 2 3 4 5 6 7 8]\n",
      "Recovered nodes: [0]\n",
      "Treated nodes: []\n",
      "t+w=2.2930\n",
      "Process RECOVERY event at node 7\n",
      "\n",
      "------\n",
      "t=2.2930\n",
      "lamY=5.00, lamW=0.70, lamN=0.00, lamSUM=5.70\n",
      "Susceptible nodes: [9]\n",
      "Infected nodes: [1 2 3 4 5 6 8]\n",
      "Recovered nodes: [0 7]\n",
      "Treated nodes: []\n",
      "t+w=2.5390\n",
      "Process INFECTION event at node 9\n",
      "\n",
      "------\n",
      "t=2.5390\n",
      "lamY=0.00, lamW=0.80, lamN=0.00, lamSUM=0.80\n",
      "Susceptible nodes: []\n",
      "Infected nodes: [1 2 3 4 5 6 8 9]\n",
      "Recovered nodes: [0 7]\n",
      "Treated nodes: []\n",
      "t+w=2.6003\n",
      "Process RECOVERY event at node 1\n",
      "\n",
      "------\n",
      "t=2.6003\n",
      "lamY=0.00, lamW=0.70, lamN=0.00, lamSUM=0.70\n",
      "Susceptible nodes: []\n",
      "Infected nodes: [2 3 4 5 6 8 9]\n",
      "Recovered nodes: [0 1 7]\n",
      "Treated nodes: []\n",
      "t+w=4.2653\n",
      "Process RECOVERY event at node 5\n",
      "\n",
      "------\n",
      "t=4.2653\n",
      "lamY=0.00, lamW=0.60, lamN=0.00, lamSUM=0.60\n",
      "Susceptible nodes: []\n",
      "Infected nodes: [2 3 4 6 8 9]\n",
      "Recovered nodes: [0 1 5 7]\n",
      "Treated nodes: []\n",
      "t+w=7.2717\n",
      "Process RECOVERY event at node 4\n",
      "\n",
      "------\n",
      "t=7.2717\n",
      "lamY=0.00, lamW=0.50, lamN=0.00, lamSUM=0.50\n",
      "Susceptible nodes: []\n",
      "Infected nodes: [2 3 6 8 9]\n",
      "Recovered nodes: [0 1 4 5 7]\n",
      "Treated nodes: []\n",
      "t+w=7.9784\n",
      "Process RECOVERY event at node 9\n",
      "\n",
      "------\n",
      "t=7.9784\n",
      "lamY=0.00, lamW=0.40, lamN=0.00, lamSUM=0.40\n",
      "Susceptible nodes: []\n",
      "Infected nodes: [2 3 6 8]\n",
      "Recovered nodes: [0 1 4 5 7 9]\n",
      "Treated nodes: []\n",
      "t+w=8.3209\n",
      "Process RECOVERY event at node 6\n",
      "\n",
      "------\n",
      "t=8.3209\n",
      "lamY=0.00, lamW=0.30, lamN=0.00, lamSUM=0.30\n",
      "Susceptible nodes: []\n",
      "Infected nodes: [2 3 8]\n",
      "Recovered nodes: [0 1 4 5 6 7 9]\n",
      "Treated nodes: []\n",
      "t+w=10.7555\n",
      "Process RECOVERY event at node 2\n",
      "\n",
      "------\n",
      "t=10.7555\n",
      "lamY=0.00, lamW=0.20, lamN=0.00, lamSUM=0.20\n",
      "Susceptible nodes: []\n",
      "Infected nodes: [3 8]\n",
      "Recovered nodes: [0 1 2 4 5 6 7 9]\n",
      "Treated nodes: []\n",
      "t+w=11.1911\n",
      "Process RECOVERY event at node 8\n",
      "\n",
      "------\n",
      "t=11.1911\n",
      "lamY=0.00, lamW=0.10, lamN=0.00, lamSUM=0.10\n",
      "Susceptible nodes: []\n",
      "Infected nodes: [3]\n",
      "Recovered nodes: [0 1 2 4 5 6 7 8 9]\n",
      "Treated nodes: []\n",
      "t+w=20.2399\n",
      "Process RECOVERY event at node 3\n",
      "\n",
      "------\n",
      "t=20.2399\n",
      "lamY=0.00, lamW=0.00, lamN=0.00, lamSUM=0.00\n",
      "Susceptible nodes: []\n",
      "Infected nodes: []\n",
      "Recovered nodes: [0 1 2 3 4 5 6 7 8 9]\n",
      "Treated nodes: []\n"
     ]
    }
   ],
   "source": [
    "system = SIRDynamicalSystem(X_init, A, param_dict, cost_dict, debug=True, verbose=False)\n",
    "data = system.simulate_policy('NO', baselines_dict, sim_dict, plot=False)"
   ]
  },
  {
   "cell_type": "code",
   "execution_count": 6,
   "metadata": {},
   "outputs": [],
   "source": [
    "X = np.array([system.X[i].value_at(system.ttotal) for i in range(system.n_nodes)])\n",
    "Y = np.array([system.Y[i].value_at(system.ttotal) for i in range(system.n_nodes)])\n",
    "W = np.array([system.W[i].value_at(system.ttotal) for i in range(system.n_nodes)])\n",
    "H = np.array([system.H[i].value_at(system.ttotal) for i in range(system.n_nodes)])"
   ]
  },
  {
   "cell_type": "code",
   "execution_count": 189,
   "metadata": {},
   "outputs": [
    {
     "data": {
      "text/plain": [
       "array([0., 0., 0., 0., 0., 0., 0., 0., 0., 0.])"
      ]
     },
     "execution_count": 189,
     "metadata": {},
     "output_type": "execute_result"
    }
   ],
   "source": [
    "X"
   ]
  },
  {
   "cell_type": "code",
   "execution_count": 190,
   "metadata": {},
   "outputs": [
    {
     "data": {
      "text/plain": [
       "array([1., 1., 1., 1., 1., 0., 0., 0., 0., 0.])"
      ]
     },
     "execution_count": 190,
     "metadata": {},
     "output_type": "execute_result"
    }
   ],
   "source": [
    "Y"
   ]
  },
  {
   "cell_type": "code",
   "execution_count": 191,
   "metadata": {},
   "outputs": [
    {
     "data": {
      "text/plain": [
       "array([1., 1., 1., 1., 1., 0., 0., 0., 0., 0.])"
      ]
     },
     "execution_count": 191,
     "metadata": {},
     "output_type": "execute_result"
    }
   ],
   "source": [
    "W"
   ]
  },
  {
   "cell_type": "code",
   "execution_count": 192,
   "metadata": {},
   "outputs": [
    {
     "data": {
      "text/plain": [
       "array([0., 0., 0., 0., 0., 0., 0., 0., 0., 0.])"
      ]
     },
     "execution_count": 192,
     "metadata": {},
     "output_type": "execute_result"
    }
   ],
   "source": [
    "H"
   ]
  },
  {
   "cell_type": "code",
   "execution_count": 193,
   "metadata": {},
   "outputs": [],
   "source": [
    "hf = helpers.HelperFunc()\n",
    "\n",
    "tspace = np.arange(0.0, 25.0, 0.01)\n",
    "\n",
    "# Extract the values of the stochastic processes at all times\n",
    "y_values = np.zeros(len(tspace))\n",
    "w_values = np.zeros(len(tspace))\n",
    "for k, t in enumerate(tspace):\n",
    "    y_values[k] = hf.sps_values(system.Y, t, summed=True)\n",
    "    w_values[k] = hf.sps_values(system.W, t, summed=True)"
   ]
  },
  {
   "cell_type": "code",
   "execution_count": 194,
   "metadata": {},
   "outputs": [
    {
     "data": {
      "image/png": "[encoded data removed]",
      "text/plain": [
       "<Figure size 1080x432 with 1 Axes>"
      ]
     },
     "metadata": {
      "needs_background": "light"
     },
     "output_type": "display_data"
    }
   ],
   "source": [
    "plt.figure(figsize=(15,6))\n",
    "plt.grid()\n",
    "plt.plot(tspace, y_values, label='Y')\n",
    "plt.plot(tspace, w_values, label='W')\n",
    "plt.xticks(np.arange(0,tspace[-1]+1.0,1.0))\n",
    "plt.yticks(range(10))\n",
    "plt.legend();"
   ]
  },
  {
   "cell_type": "code",
   "execution_count": 195,
   "metadata": {},
   "outputs": [
    {
     "data": {
      "text/plain": [
       "array([1., 1., 1., 1., 1., 0., 0., 0., 0., 0.])"
      ]
     },
     "execution_count": 195,
     "metadata": {},
     "output_type": "execute_result"
    }
   ],
   "source": [
    "np.array([system.W[i].value_at(20) for i in range(system.n_nodes)])"
   ]
  },
  {
   "cell_type": "code",
   "execution_count": 205,
   "metadata": {},
   "outputs": [
    {
     "data": {
      "text/plain": [
       "([0.9461812139283564, 1.1968156598063129],\n",
       " [0.9461812139283564],\n",
       " [1.1968156598063129])"
      ]
     },
     "execution_count": 205,
     "metadata": {},
     "output_type": "execute_result"
    }
   ],
   "source": [
    "i = 4\n",
    "system.X[i].arrival_times, system.Y[i].arrival_times, system.W[i].arrival_times"
   ]
  },
  {
   "cell_type": "code",
   "execution_count": null,
   "metadata": {},
   "outputs": [],
   "source": []
  }
 ],
 "metadata": {
  "kernelspec": {
   "display_name": "Python 3",
   "language": "python",
   "name": "python3"
  },
  "language_info": {
   "codemirror_mode": {
    "name": "ipython",
    "version": 3
   },
   "file_extension": ".py",
   "mimetype": "text/x-python",
   "name": "python",
   "nbconvert_exporter": "python",
   "pygments_lexer": "ipython3",
   "version": "3.6.3"
  }
 },
 "nbformat": 4,
 "nbformat_minor": 2
}
