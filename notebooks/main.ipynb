{
 "cells": [
  {
   "cell_type": "markdown",
   "metadata": {},
   "source": [
    "# Generate scaled graph \n",
    "\n",
    "We scale the graph to make the size of each district proportional to its population. To do so, we use make Stochastic Block Model network, and we fit the parameters to make an SIR epidemic spreading over the network statistically look like the projected number of Ebola cases from the study [Ebola Virus Disease in West Africa — The First 9 Months of the Epidemic and Forward Projections](https://www.nejm.org/doi/full/10.1056/NEJMoa1411100) (See projections in Suppl. material 2).\n",
    "\n",
    "In particular, we match the doubling time for the initial exponential growth of the epidemic.\n",
    "\n",
    "The parameters are:\n",
    "* `n_nodes`: the size of the network\n",
    "* `p_in`: the intra-district probability \n",
    "* `p_ou`: the inter-district probability\n",
    "\n",
    "---"
   ]
  },
  {
   "cell_type": "markdown",
   "metadata": {},
   "source": [
    "Load libs."
   ]
  },
  {
   "cell_type": "code",
   "execution_count": 1,
   "metadata": {},
   "outputs": [],
   "source": [
    "%load_ext autoreload\n",
    "%autoreload 2"
   ]
  },
  {
   "cell_type": "markdown",
   "metadata": {},
   "source": [
    "Add the project base directory to the path"
   ]
  },
  {
   "cell_type": "code",
   "execution_count": 2,
   "metadata": {},
   "outputs": [],
   "source": [
    "import sys\n",
    "if '..' not in sys.path:\n",
    "    sys.path.append('..')"
   ]
  },
  {
   "cell_type": "code",
   "execution_count": 3,
   "metadata": {},
   "outputs": [],
   "source": [
    "from matplotlib import pyplot as plt\n",
    "%matplotlib inline\n",
    "\n",
    "import pandas as pd\n",
    "import numpy as np\n",
    "import networkx as nx\n",
    "\n",
    "from graph_generation import make_ebola_network\n",
    "from dynamics import SIRDynamicalSystem\n",
    "import helpers"
   ]
  },
  {
   "cell_type": "markdown",
   "metadata": {},
   "source": [
    "---"
   ]
  },
  {
   "cell_type": "markdown",
   "metadata": {},
   "source": [
    "## Define SIR epidemic parameters"
   ]
  },
  {
   "cell_type": "markdown",
   "metadata": {},
   "source": [
    "We use the values estimated from the literature"
   ]
  },
  {
   "cell_type": "code",
   "execution_count": 4,
   "metadata": {},
   "outputs": [],
   "source": [
    "beta = 1.0 / 15.3  # Serial interval time (from literature)\n",
    "delta = 1.0 / 11.4  # Course of infection (from literature)"
   ]
  },
  {
   "cell_type": "markdown",
   "metadata": {},
   "source": [
    "## Build propagation network"
   ]
  },
  {
   "cell_type": "markdown",
   "metadata": {},
   "source": [
    "Set the stochastic block model network parameters"
   ]
  },
  {
   "cell_type": "code",
   "execution_count": 5,
   "metadata": {},
   "outputs": [],
   "source": [
    "n_nodes = 10000\n",
    "p_in = 0.01\n",
    "p_out = p_in / 10"
   ]
  },
  {
   "cell_type": "markdown",
   "metadata": {},
   "source": [
    "Generate the graph"
   ]
  },
  {
   "cell_type": "code",
   "execution_count": 6,
   "metadata": {
    "scrolled": true
   },
   "outputs": [
    {
     "name": "stdout",
     "output_type": "stream",
     "text": [
      "Graph generated\n",
      "8907 18312\n"
     ]
    }
   ],
   "source": [
    "graph = make_ebola_network(n_nodes=n_nodes, p_in=p_in, p_out=p_out)\n",
    "A = nx.adjacency_matrix(graph).toarray()\n",
    "n_nodes = graph.number_of_nodes()\n",
    "print('Graph generated')\n",
    "print(graph.number_of_nodes(), graph.number_of_edges())"
   ]
  },
  {
   "cell_type": "code",
   "execution_count": 7,
   "metadata": {},
   "outputs": [
    {
     "data": {
      "image/png": "[encoded data removed]",
      "text/plain": [
       "<Figure size 432x288 with 1 Axes>"
      ]
     },
     "metadata": {
      "needs_background": "light"
     },
     "output_type": "display_data"
    }
   ],
   "source": [
    "degree_sequence = [d for n, d in graph.degree()]\n",
    "max_deg = max(degree_sequence)\n",
    "plt.hist(degree_sequence, bins=max_deg+1);"
   ]
  },
  {
   "cell_type": "code",
   "execution_count": 8,
   "metadata": {},
   "outputs": [
    {
     "data": {
      "image/png": "[encoded data removed]",
      "text/plain": [
       "<Figure size 432x288 with 1 Axes>"
      ]
     },
     "metadata": {
      "needs_background": "light"
     },
     "output_type": "display_data"
    }
   ],
   "source": [
    "cluster_sizes = np.bincount([d['block'] for u,d in graph.nodes(data=True)])\n",
    "plt.boxplot(cluster_sizes);"
   ]
  },
  {
   "cell_type": "markdown",
   "metadata": {},
   "source": [
    "---"
   ]
  },
  {
   "cell_type": "markdown",
   "metadata": {},
   "source": [
    "## Run simulation on the network to validate the parameters"
   ]
  },
  {
   "cell_type": "markdown",
   "metadata": {},
   "source": [
    "Extract initial infections in districts based on data set."
   ]
  },
  {
   "cell_type": "code",
   "execution_count": 9,
   "metadata": {
    "code_folding": []
   },
   "outputs": [],
   "source": [
    "def sample_seeds(n_seeds=None, max_date=None, verbose=True):\n",
    "    \"\"\"\n",
    "    Extract seeds from the Ebola cases datasets, by choosing either:\n",
    "    * the first `n_seeds`. \n",
    "    * the first seed until the date `max_date`.\n",
    "    We then simulate the recovery rate of the seed, and start\n",
    "    the epidemics at the infection time of the last seed.\n",
    "    Note that some seeds may have already recovered at this time. In \n",
    "    this case, they are just ignored from the simulation.\n",
    "    \"\"\"\n",
    "    assert (n_seeds is None) or (max_date is None)\n",
    "    \n",
    "    # Load real data\n",
    "    df = pd.read_csv('../data/ebola/rstb20160308_si_001_cleaned.csv')\n",
    "    if n_seeds:\n",
    "        df = df.sort_values('infection_timestamp').iloc[:n_seeds]\n",
    "    elif max_date:\n",
    "        df = df[df.infection_date < max_date].sort_values('infection_timestamp')\n",
    "        \n",
    "    # Extract the seed disctricts\n",
    "    seed_names = list(df['district'])\n",
    "    \n",
    "    # Extract district name for each node in the graph\n",
    "    node_names = np.array([u for u, d in graph.nodes(data=True)])\n",
    "    node_districts = np.array([d['district'] for u, d in graph.nodes(data=True)])\n",
    "    \n",
    "    # Get last infection time of seeds (this is time zero for the simulation)\n",
    "    last_inf_time = df.infection_timestamp.max()\n",
    "    \n",
    "    # Init list of seed events\n",
    "    init_event_list = list()\n",
    "    for _, row in df.iterrows():\n",
    "        \n",
    "        inf_time = row['infection_timestamp']\n",
    "        \n",
    "        # Sample recovery time\n",
    "        rec_time = inf_time + np.random.exponential(1./delta) - last_inf_time\n",
    "        \n",
    "        # Ignore seed if recovered before time zero\n",
    "        if rec_time > 0:\n",
    "            \n",
    "            # Randomly sample one node for each seed in the corresponding district\n",
    "            idx = np.random.choice(np.where(node_districts == row['district'])[0])\n",
    "            node = node_names[idx]\n",
    "            \n",
    "            # Add infection event \n",
    "            # node to node infection flags initial seeds in code\n",
    "            init_event_list.append([(node, 'inf', node), 0.0])  # Gets infection at the start \n",
    "            \n",
    "            # Add recovery event\n",
    "            init_event_list.append([(node, 'rec', None), rec_time])  \n",
    "            \n",
    "            if verbose:\n",
    "                print(f'Add seed {node} from district {row[\"district\"]} - inf: {0.0}, rec: {rec_time} ')\n",
    "    return init_event_list"
   ]
  },
  {
   "cell_type": "code",
   "execution_count": 10,
   "metadata": {},
   "outputs": [
    {
     "data": {
      "text/plain": [
       "[[(2032, 'inf', 2032), 0.0],\n",
       " [(2032, 'rec', None), 2.297907170190882],\n",
       " [(2147, 'inf', 2147), 0.0],\n",
       " [(2147, 'rec', None), 2.9418012109558305],\n",
       " [(2196, 'inf', 2196), 0.0],\n",
       " [(2196, 'rec', None), 17.810300181101667],\n",
       " [(1943, 'inf', 1943), 0.0],\n",
       " [(1943, 'rec', None), 2.1032236940220272],\n",
       " [(2152, 'inf', 2152), 0.0],\n",
       " [(2152, 'rec', None), 57.3526266037436],\n",
       " [(2132, 'inf', 2132), 0.0],\n",
       " [(2132, 'rec', None), 5.4120667189316976],\n",
       " [(1996, 'inf', 1996), 0.0],\n",
       " [(1996, 'rec', None), 2.0341866657393837],\n",
       " [(7069, 'inf', 7069), 0.0],\n",
       " [(7069, 'rec', None), 2.186765098634133],\n",
       " [(2016, 'inf', 2016), 0.0],\n",
       " [(2016, 'rec', None), 5.296852920887616],\n",
       " [(599, 'inf', 599), 0.0],\n",
       " [(599, 'rec', None), 12.311728791961286]]"
      ]
     },
     "execution_count": 10,
     "metadata": {},
     "output_type": "execute_result"
    }
   ],
   "source": [
    "init_event_list = sample_seeds(max_date='2014-02-26', verbose=False)\n",
    "init_event_list"
   ]
  },
  {
   "cell_type": "code",
   "execution_count": 16,
   "metadata": {},
   "outputs": [
    {
     "name": "stdout",
     "output_type": "stream",
     "text": [
      "Epidemic spreading... 53.10 days elapsed | 77.7% susceptible, 22.3% infected, 9.4% treated, 14.4% recovered"
     ]
    },
    {
     "ename": "KeyboardInterrupt",
     "evalue": "",
     "output_type": "error",
     "traceback": [
      "\u001b[0;31m---------------------------------------------------------------------------\u001b[0m",
      "\u001b[0;31mKeyboardInterrupt\u001b[0m                         Traceback (most recent call last)",
      "\u001b[0;32m<ipython-input-16-8b78bf87ba6d>\u001b[0m in \u001b[0;36m<module>\u001b[0;34m()\u001b[0m\n\u001b[1;32m     26\u001b[0m \u001b[0;34m\u001b[0m\u001b[0m\n\u001b[1;32m     27\u001b[0m \u001b[0;34m\u001b[0m\u001b[0m\n\u001b[0;32m---> 28\u001b[0;31m \u001b[0msir\u001b[0m\u001b[0;34m.\u001b[0m\u001b[0mlaunch_epidemic\u001b[0m\u001b[0;34m(\u001b[0m\u001b[0minit_event_list\u001b[0m\u001b[0;34m=\u001b[0m\u001b[0minit_event_list\u001b[0m\u001b[0;34m,\u001b[0m \u001b[0mmax_time\u001b[0m\u001b[0;34m=\u001b[0m\u001b[0;36m10\u001b[0m \u001b[0;34m*\u001b[0m \u001b[0;36m7\u001b[0m\u001b[0;34m,\u001b[0m \u001b[0mpolicy\u001b[0m\u001b[0;34m=\u001b[0m\u001b[0;34m'TR'\u001b[0m\u001b[0;34m,\u001b[0m \u001b[0mpolicy_dict\u001b[0m\u001b[0;34m=\u001b[0m\u001b[0mpolicy_dict\u001b[0m\u001b[0;34m)\u001b[0m\u001b[0;34m\u001b[0m\u001b[0;34m\u001b[0m\u001b[0m\n\u001b[0m",
      "\u001b[0;32m~/Documents/_MPI/disease control/git-online/disease-control/dynamics_ind.py\u001b[0m in \u001b[0;36mlaunch_epidemic\u001b[0;34m(self, init_event_list, max_time, policy, policy_dict)\u001b[0m\n\u001b[1;32m    422\u001b[0m \u001b[0;34m\u001b[0m\u001b[0m\n\u001b[1;32m    423\u001b[0m             \u001b[0;32mfor\u001b[0m \u001b[0mu_idx\u001b[0m \u001b[0;32min\u001b[0m \u001b[0mcontrolled_nodes\u001b[0m\u001b[0;34m:\u001b[0m\u001b[0;34m\u001b[0m\u001b[0;34m\u001b[0m\u001b[0m\n\u001b[0;32m--> 424\u001b[0;31m                 \u001b[0mself\u001b[0m\u001b[0;34m.\u001b[0m\u001b[0m_control\u001b[0m\u001b[0;34m(\u001b[0m\u001b[0mself\u001b[0m\u001b[0;34m.\u001b[0m\u001b[0midx_to_node\u001b[0m\u001b[0;34m[\u001b[0m\u001b[0mu_idx\u001b[0m\u001b[0;34m]\u001b[0m\u001b[0;34m,\u001b[0m \u001b[0mtime\u001b[0m\u001b[0;34m,\u001b[0m \u001b[0mpolicy\u001b[0m\u001b[0;34m=\u001b[0m\u001b[0mself\u001b[0m\u001b[0;34m.\u001b[0m\u001b[0mpolicy\u001b[0m\u001b[0;34m)\u001b[0m\u001b[0;34m\u001b[0m\u001b[0;34m\u001b[0m\u001b[0m\n\u001b[0m\u001b[1;32m    425\u001b[0m \u001b[0;34m\u001b[0m\u001b[0m\n\u001b[1;32m    426\u001b[0m             \u001b[0;31m# print\u001b[0m\u001b[0;34m\u001b[0m\u001b[0;34m\u001b[0m\u001b[0;34m\u001b[0m\u001b[0m\n",
      "\u001b[0;32m~/Documents/_MPI/disease control/git-online/disease-control/dynamics_ind.py\u001b[0m in \u001b[0;36m_control\u001b[0;34m(self, u, time, policy)\u001b[0m\n\u001b[1;32m    357\u001b[0m             \u001b[0;31m# Sample new/additional treatment event with the superposition principle\u001b[0m\u001b[0;34m\u001b[0m\u001b[0;34m\u001b[0m\u001b[0;34m\u001b[0m\u001b[0m\n\u001b[1;32m    358\u001b[0m             \u001b[0mnew_treatment_time_u\u001b[0m \u001b[0;34m=\u001b[0m \u001b[0mtime\u001b[0m \u001b[0;34m+\u001b[0m \u001b[0mself\u001b[0m\u001b[0;34m.\u001b[0m\u001b[0mexpo\u001b[0m\u001b[0;34m(\u001b[0m\u001b[0mdelta\u001b[0m\u001b[0;34m)\u001b[0m\u001b[0;34m\u001b[0m\u001b[0;34m\u001b[0m\u001b[0m\n\u001b[0;32m--> 359\u001b[0;31m             \u001b[0mself\u001b[0m\u001b[0;34m.\u001b[0m\u001b[0mqueue\u001b[0m\u001b[0;34m.\u001b[0m\u001b[0mpush\u001b[0m\u001b[0;34m(\u001b[0m\u001b[0;34m(\u001b[0m\u001b[0mu\u001b[0m\u001b[0;34m,\u001b[0m \u001b[0;34m'tre'\u001b[0m\u001b[0;34m,\u001b[0m \u001b[0;32mNone\u001b[0m\u001b[0;34m)\u001b[0m\u001b[0;34m,\u001b[0m \u001b[0mpriority\u001b[0m\u001b[0;34m=\u001b[0m\u001b[0mnew_treatment_time_u\u001b[0m\u001b[0;34m)\u001b[0m\u001b[0;34m\u001b[0m\u001b[0;34m\u001b[0m\u001b[0m\n\u001b[0m\u001b[1;32m    360\u001b[0m \u001b[0;34m\u001b[0m\u001b[0m\n\u001b[1;32m    361\u001b[0m     \u001b[0;32mdef\u001b[0m \u001b[0m_compute_lambda\u001b[0m\u001b[0;34m(\u001b[0m\u001b[0mself\u001b[0m\u001b[0;34m,\u001b[0m \u001b[0mu\u001b[0m\u001b[0;34m,\u001b[0m \u001b[0mtime\u001b[0m\u001b[0;34m,\u001b[0m \u001b[0mpolicy\u001b[0m\u001b[0;34m=\u001b[0m\u001b[0;34m'NO'\u001b[0m\u001b[0;34m)\u001b[0m\u001b[0;34m:\u001b[0m\u001b[0;34m\u001b[0m\u001b[0;34m\u001b[0m\u001b[0m\n",
      "\u001b[0;32m~/Documents/_MPI/disease control/git-online/disease-control/dynamics_ind.py\u001b[0m in \u001b[0;36mpush\u001b[0;34m(self, task, priority)\u001b[0m\n\u001b[1;32m     37\u001b[0m         \u001b[0mentry\u001b[0m \u001b[0;34m=\u001b[0m \u001b[0;34m[\u001b[0m\u001b[0mpriority\u001b[0m\u001b[0;34m,\u001b[0m \u001b[0mcount\u001b[0m\u001b[0;34m,\u001b[0m \u001b[0mtask\u001b[0m\u001b[0;34m]\u001b[0m\u001b[0;34m\u001b[0m\u001b[0;34m\u001b[0m\u001b[0m\n\u001b[1;32m     38\u001b[0m         \u001b[0mself\u001b[0m\u001b[0;34m.\u001b[0m\u001b[0mentry_finder\u001b[0m\u001b[0;34m[\u001b[0m\u001b[0mtask\u001b[0m\u001b[0;34m]\u001b[0m \u001b[0;34m=\u001b[0m \u001b[0mentry\u001b[0m\u001b[0;34m\u001b[0m\u001b[0;34m\u001b[0m\u001b[0m\n\u001b[0;32m---> 39\u001b[0;31m         \u001b[0mheapq\u001b[0m\u001b[0;34m.\u001b[0m\u001b[0mheappush\u001b[0m\u001b[0;34m(\u001b[0m\u001b[0mself\u001b[0m\u001b[0;34m.\u001b[0m\u001b[0mpq\u001b[0m\u001b[0;34m,\u001b[0m \u001b[0mentry\u001b[0m\u001b[0;34m)\u001b[0m\u001b[0;34m\u001b[0m\u001b[0;34m\u001b[0m\u001b[0m\n\u001b[0m\u001b[1;32m     40\u001b[0m \u001b[0;34m\u001b[0m\u001b[0m\n\u001b[1;32m     41\u001b[0m     \u001b[0;32mdef\u001b[0m \u001b[0mdelete\u001b[0m\u001b[0;34m(\u001b[0m\u001b[0mself\u001b[0m\u001b[0;34m,\u001b[0m \u001b[0mtask\u001b[0m\u001b[0;34m)\u001b[0m\u001b[0;34m:\u001b[0m\u001b[0;34m\u001b[0m\u001b[0;34m\u001b[0m\u001b[0m\n",
      "\u001b[0;31mKeyboardInterrupt\u001b[0m: "
     ]
    }
   ],
   "source": [
    "# from epidemics_helper import SimulationSIR\n",
    "from dynamics_ind import SimulationSIR, PriorityQueue\n",
    "# from dynamics_ind_v1 import SimulationSIR, PriorityQueue\n",
    "\n",
    "# param_dict = {\n",
    "#     'beta':  1.0/15.3,\n",
    "#     'gamma': 1.0/30.6,\n",
    "#     'delta': 1.0/11.4,\n",
    "#     'rho':   -1.0/22.8,\n",
    "#     'eta':   1.0\n",
    "# }\n",
    "\n",
    "param_dict = {\n",
    "    'beta':  1.0/15.3,\n",
    "    'gamma': 1.0/30.6,\n",
    "    'delta': 1.0/11.4,\n",
    "    'rho':   -1.0/22.8,\n",
    "    'eta':   1.0\n",
    "}\n",
    "\n",
    "policy_dict = {\n",
    "    'TR' : 0.1,\n",
    "}\n",
    "\n",
    "sir = SimulationSIR(graph, param_dict=param_dict, verbose=True)\n",
    "\n",
    "\n",
    "sir.launch_epidemic(init_event_list=init_event_list, max_time=10 * 7, policy='TR', policy_dict=policy_dict)\n"
   ]
  },
  {
   "cell_type": "code",
   "execution_count": null,
   "metadata": {},
   "outputs": [],
   "source": [
    "%debug\n"
   ]
  },
  {
   "cell_type": "code",
   "execution_count": null,
   "metadata": {},
   "outputs": [],
   "source": [
    "def plot_populations(sir_obj, tfreq=100):\n",
    "    \n",
    "    plt.figure()\n",
    "    tspace = np.linspace(0, sir_obj.max_time, tfreq)\n",
    "    \n",
    "    susceptible, infected, removed, treated = [], [], [], []\n",
    "    for t in tspace:\n",
    "        susceptible.append(np.sum(sir_obj.nodes_at_time('S', t)))\n",
    "        infected.append(np.sum(sir_obj.nodes_at_time('I', t)))\n",
    "        removed.append(np.sum(sir_obj.nodes_at_time('R', t)))\n",
    "        treated.append(np.sum(sir_obj.nodes_at_time('T', t)))\n",
    "        \n",
    "    # plt.plot(tspace, susceptible, label='Susceptible', color='black')\n",
    "    plt.plot(tspace, infected, label='Infected', color='red')\n",
    "    plt.plot(tspace, removed, label='Removed', color='green')\n",
    "    plt.plot(tspace, treated, label='Treatment', color='blue')\n",
    "    plt.xlabel('days')\n",
    "    plt.ylabel('population')\n",
    "    plt.yscale('log')\n",
    "    plt.legend();\n",
    "    return\n",
    "    \n",
    "    \n",
    "plot_populations(sir, tfreq=100)   "
   ]
  },
  {
   "cell_type": "code",
   "execution_count": null,
   "metadata": {},
   "outputs": [],
   "source": []
  },
  {
   "cell_type": "code",
   "execution_count": null,
   "metadata": {},
   "outputs": [],
   "source": []
  },
  {
   "cell_type": "code",
   "execution_count": null,
   "metadata": {},
   "outputs": [],
   "source": []
  },
  {
   "cell_type": "code",
   "execution_count": null,
   "metadata": {},
   "outputs": [],
   "source": []
  },
  {
   "cell_type": "code",
   "execution_count": null,
   "metadata": {},
   "outputs": [],
   "source": []
  },
  {
   "cell_type": "markdown",
   "metadata": {},
   "source": [
    "---"
   ]
  },
  {
   "cell_type": "markdown",
   "metadata": {},
   "source": [
    "### 1. Run simulations on the early epidemic to validate the network\n",
    "\n",
    "We start with seeds until Feb 26, 2014 and run the epidemic for a couple months. At this time, we expect that there was no control measures affecting the epidemic parameters.\n",
    "\n",
    "We verify that the empirical value of $R_0$ (i.e. the average number of secondary cases infected by primary infections) roughly matches the observed values of $1.5 < R_0 < 2$. "
   ]
  },
  {
   "cell_type": "code",
   "execution_count": null,
   "metadata": {
    "scrolled": true
   },
   "outputs": [],
   "source": [
    "sim_dict = {\n",
    "    'total_time': 70.0,\n",
    "    'trials_per_setting': 1\n",
    "}\n",
    "n_seeds = 30\n",
    "X_init = sample_seeds(graph, n_seeds=n_seeds)\n",
    "system = SIRDynamicalSystem(X_init, A, param_dict, cost_dict, debug=False, verbose=True, notebook=True)"
   ]
  },
  {
   "cell_type": "code",
   "execution_count": null,
   "metadata": {},
   "outputs": [],
   "source": []
  },
  {
   "cell_type": "code",
   "execution_count": null,
   "metadata": {},
   "outputs": [],
   "source": [
    "data = system.simulate_policy('NO', baselines_dict, sim_dict, plot=False)"
   ]
  },
  {
   "cell_type": "code",
   "execution_count": null,
   "metadata": {},
   "outputs": [],
   "source": [
    "def estimate_Rt():\n",
    "    # TODO\n",
    "    pass\n"
   ]
  },
  {
   "cell_type": "code",
   "execution_count": null,
   "metadata": {
    "scrolled": true
   },
   "outputs": [],
   "source": []
  },
  {
   "cell_type": "code",
   "execution_count": null,
   "metadata": {},
   "outputs": [],
   "source": [
    "# data2 = system.simulate_policy('SOC', baselines_dict, sim_dict, plot=False)"
   ]
  },
  {
   "cell_type": "code",
   "execution_count": null,
   "metadata": {},
   "outputs": [],
   "source": []
  },
  {
   "cell_type": "markdown",
   "metadata": {},
   "source": [
    "---"
   ]
  },
  {
   "cell_type": "markdown",
   "metadata": {},
   "source": [
    "### 2. Run simulations on in the latter part of the epidemic to validate the intervention parameters."
   ]
  },
  {
   "cell_type": "markdown",
   "metadata": {},
   "source": [
    "Run simulations starting in September 2014, and verify that the rate of infection roughly matches the projections estimated in the literature."
   ]
  },
  {
   "cell_type": "markdown",
   "metadata": {},
   "source": [
    "Projected number of cases each week starting on September 8, 2014. (Mean, 5% CI, 95% CI)"
   ]
  },
  {
   "cell_type": "code",
   "execution_count": null,
   "metadata": {},
   "outputs": [],
   "source": [
    "expected_projection = np.array([\n",
    "    [1215, 798, 1905],\n",
    "    [1555, 942, 2654],\n",
    "    [2042, 1145, 3792],\n",
    "    [2738, 1419, 5529],\n",
    "    [3727, 1808, 8126],\n",
    "    [5153, 2351, 12082],\n",
    "    [7202, 3081, 18043],\n",
    "    [10122, 4083, 27159],\n",
    "    [14272, 5463, 40942],\n",
    "    [20213, 7349, 61766],\n",
    "    [28752, 9896, 93011]\n",
    "])\n",
    "\n",
    "n_weeks = len(expected_projection)"
   ]
  },
  {
   "cell_type": "markdown",
   "metadata": {},
   "source": [
    "Set values for the intervation parameters"
   ]
  },
  {
   "cell_type": "code",
   "execution_count": null,
   "metadata": {},
   "outputs": [],
   "source": [
    "# gamma = 0.6 / 15.3  # Reduction in infection rate of neighbors under treatment\n",
    "# rho = -0.3 / 11.4 # Recovery rate from treatment (if negative, then treatment means longer infections, and/or die less quickly)\n",
    "\n",
    "\n",
    "gamma = 0.9 / 15.3  # Reduction in infection rate of neighbors under treatment\n",
    "rho = -0.0 / 11.4 # Recovery rate from treatment (if negative, then treatment means longer infections, and/or die less quickly)\n"
   ]
  },
  {
   "cell_type": "code",
   "execution_count": null,
   "metadata": {},
   "outputs": [],
   "source": []
  },
  {
   "cell_type": "code",
   "execution_count": null,
   "metadata": {},
   "outputs": [],
   "source": []
  },
  {
   "cell_type": "code",
   "execution_count": null,
   "metadata": {},
   "outputs": [],
   "source": []
  },
  {
   "cell_type": "code",
   "execution_count": null,
   "metadata": {},
   "outputs": [],
   "source": []
  },
  {
   "cell_type": "markdown",
   "metadata": {},
   "source": [
    "Save the network in `json` format."
   ]
  },
  {
   "cell_type": "code",
   "execution_count": null,
   "metadata": {},
   "outputs": [],
   "source": [
    "# import json\n",
    "# from networkx.readwrite import json_graph\n",
    "\n",
    "# with open('../data/ebola/ebola_scaled_graph.json', 'w') as f:\n",
    "#     graph_data = json_graph.node_link_data(graph)\n",
    "#     graph_data['graph']['partition'] = list(map(list, graph_data['graph']['partition'])) # Fix json compatibility by casting set to list\n",
    "#     json.dump(graph_data, f)"
   ]
  },
  {
   "cell_type": "code",
   "execution_count": null,
   "metadata": {},
   "outputs": [],
   "source": []
  },
  {
   "cell_type": "code",
   "execution_count": null,
   "metadata": {},
   "outputs": [],
   "source": []
  },
  {
   "cell_type": "code",
   "execution_count": null,
   "metadata": {},
   "outputs": [],
   "source": []
  },
  {
   "cell_type": "code",
   "execution_count": null,
   "metadata": {},
   "outputs": [],
   "source": []
  },
  {
   "cell_type": "code",
   "execution_count": null,
   "metadata": {},
   "outputs": [],
   "source": []
  },
  {
   "cell_type": "code",
   "execution_count": null,
   "metadata": {},
   "outputs": [],
   "source": []
  }
 ],
 "metadata": {
  "kernelspec": {
   "display_name": "Python 3",
   "language": "python",
   "name": "python3"
  },
  "language_info": {
   "codemirror_mode": {
    "name": "ipython",
    "version": 3
   },
   "file_extension": ".py",
   "mimetype": "text/x-python",
   "name": "python",
   "nbconvert_exporter": "python",
   "pygments_lexer": "ipython3",
   "version": "3.6.7"
  }
 },
 "nbformat": 4,
 "nbformat_minor": 2
}
