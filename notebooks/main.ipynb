{
 "cells": [
  {
   "cell_type": "markdown",
   "metadata": {},
   "source": [
    "# Generate scaled graph \n",
    "\n",
    "We scale the graph to make the size of each district proportional to its population. To do so, we use make Stochastic Block Model network, and we fit the parameters to make an SIR epidemic spreading over the network statistically look like the projected number of Ebola cases from the study [Ebola Virus Disease in West Africa — The First 9 Months of the Epidemic and Forward Projections](https://www.nejm.org/doi/full/10.1056/NEJMoa1411100) (See projections in Suppl. material 2).\n",
    "\n",
    "In particular, we match the doubling time for the initial exponential growth of the epidemic.\n",
    "\n",
    "The parameters are:\n",
    "* `n_nodes`: the size of the network\n",
    "* `p_in`: the intra-district probability \n",
    "* `p_ou`: the inter-district probability\n",
    "\n",
    "---"
   ]
  },
  {
   "cell_type": "markdown",
   "metadata": {},
   "source": [
    "Load libs."
   ]
  },
  {
   "cell_type": "code",
   "execution_count": 1,
   "metadata": {},
   "outputs": [],
   "source": [
    "%load_ext autoreload\n",
    "%autoreload 2"
   ]
  },
  {
   "cell_type": "markdown",
   "metadata": {},
   "source": [
    "Add the project base directory to the path"
   ]
  },
  {
   "cell_type": "code",
   "execution_count": 2,
   "metadata": {},
   "outputs": [],
   "source": [
    "import sys\n",
    "if '..' not in sys.path:\n",
    "    sys.path.append('..')"
   ]
  },
  {
   "cell_type": "code",
   "execution_count": 3,
   "metadata": {},
   "outputs": [],
   "source": [
    "from matplotlib import pyplot as plt\n",
    "%matplotlib inline\n",
    "\n",
    "import pandas as pd\n",
    "import numpy as np\n",
    "import networkx as nx\n",
    "import copy\n",
    "import scipy as sp\n",
    "import pickle\n",
    "\n",
    "from graph_generation import make_ebola_network\n",
    "import helpers"
   ]
  },
  {
   "cell_type": "markdown",
   "metadata": {},
   "source": [
    "---"
   ]
  },
  {
   "cell_type": "markdown",
   "metadata": {},
   "source": [
    "## Define SIR epidemic parameters"
   ]
  },
  {
   "cell_type": "markdown",
   "metadata": {},
   "source": [
    "We use the values estimated from the literature"
   ]
  },
  {
   "cell_type": "code",
   "execution_count": 4,
   "metadata": {},
   "outputs": [],
   "source": [
    "beta = 1.0/15.3\n",
    "delta = 1.0/11.4"
   ]
  },
  {
   "cell_type": "markdown",
   "metadata": {},
   "source": [
    "## Build propagation network"
   ]
  },
  {
   "cell_type": "markdown",
   "metadata": {},
   "source": [
    "Set the stochastic block model network parameters"
   ]
  },
  {
   "cell_type": "code",
   "execution_count": 5,
   "metadata": {},
   "outputs": [],
   "source": [
    "# n_nodes = 100000\n",
    "# p_in = 0.0008\n",
    "# p_out = p_in / 5\n",
    "\n",
    "n_nodes = 300\n",
    "p_in = 0.5\n",
    "p_out = p_in / 10\n"
   ]
  },
  {
   "cell_type": "markdown",
   "metadata": {},
   "source": [
    "Generate the graph"
   ]
  },
  {
   "cell_type": "code",
   "execution_count": 6,
   "metadata": {
    "scrolled": true
   },
   "outputs": [
    {
     "name": "stdout",
     "output_type": "stream",
     "text": [
      "Graph generated\n",
      "285 756\n"
     ]
    }
   ],
   "source": [
    "graph = make_ebola_network(n_nodes=n_nodes, p_in=p_in, p_out=p_out)\n",
    "A = nx.adjacency_matrix(graph).toarray()\n",
    "n_nodes = graph.number_of_nodes()\n",
    "print('Graph generated')\n",
    "print(graph.number_of_nodes(), graph.number_of_edges())"
   ]
  },
  {
   "cell_type": "code",
   "execution_count": 7,
   "metadata": {},
   "outputs": [
    {
     "name": "stdout",
     "output_type": "stream",
     "text": [
      "Mean: 5.3052631578947365, Median: 5.0\n"
     ]
    },
    {
     "data": {
      "image/png": "[encoded data removed]",
      "text/plain": [
       "<Figure size 432x288 with 1 Axes>"
      ]
     },
     "metadata": {
      "needs_background": "light"
     },
     "output_type": "display_data"
    }
   ],
   "source": [
    "degree_sequence = [d for n, d in graph.degree()]\n",
    "max_deg = max(degree_sequence)\n",
    "print(f'Mean: {np.mean(degree_sequence)}, Median: {np.median(degree_sequence)}')\n",
    "plt.hist(degree_sequence, bins=max_deg+1);"
   ]
  },
  {
   "cell_type": "code",
   "execution_count": 8,
   "metadata": {},
   "outputs": [
    {
     "data": {
      "image/png": "[encoded data removed]",
      "text/plain": [
       "<Figure size 432x288 with 1 Axes>"
      ]
     },
     "metadata": {
      "needs_background": "light"
     },
     "output_type": "display_data"
    }
   ],
   "source": [
    "cluster_sizes = np.bincount([d['block'] for u,d in graph.nodes(data=True)])\n",
    "plt.boxplot(cluster_sizes);"
   ]
  },
  {
   "cell_type": "markdown",
   "metadata": {},
   "source": [
    "---"
   ]
  },
  {
   "cell_type": "markdown",
   "metadata": {},
   "source": [
    "## Run simulation on the network to validate the parameters"
   ]
  },
  {
   "cell_type": "markdown",
   "metadata": {},
   "source": [
    "Extract initial infections in districts based on data set.\n",
    "\n",
    "We start with seeds until Feb 26, 2014 and run the epidemic for a couple months. At this time, we expect that there was no control measures affecting the epidemic parameters.\n",
    "\n",
    "We verify that the empirical value of $R_0$ (i.e. the average number of secondary cases infected by primary infections) roughly matches the observed values of $1.5 < R_0 < 2$. \n"
   ]
  },
  {
   "cell_type": "code",
   "execution_count": 9,
   "metadata": {
    "code_folding": [
     0
    ]
   },
   "outputs": [],
   "source": [
    "def sample_seeds(n_seeds=None, max_date=None, verbose=True):\n",
    "    \"\"\"\n",
    "    Extract seeds from the Ebola cases datasets, by choosing either:\n",
    "    * the first `n_seeds`. \n",
    "    * the first seed until the date `max_date`.\n",
    "    We then simulate the recovery rate of the seed, and start\n",
    "    the epidemics at the infection time of the last seed.\n",
    "    Note that some seeds may have already recovered at this time. In \n",
    "    this case, they are just ignored from the simulation.\n",
    "    \"\"\"\n",
    "    assert (n_seeds is None) or (max_date is None)\n",
    "    \n",
    "    # Load real data\n",
    "    df = pd.read_csv('../data/ebola/rstb20160308_si_001_cleaned.csv')\n",
    "    if n_seeds:\n",
    "        df = df.sort_values('infection_timestamp').iloc[:n_seeds]\n",
    "    elif max_date:\n",
    "        df = df[df.infection_date < max_date].sort_values('infection_timestamp')\n",
    "        \n",
    "    # Extract the seed disctricts\n",
    "    seed_names = list(df['district'])\n",
    "    \n",
    "    # Extract district name for each node in the graph\n",
    "    node_names = np.array([u for u, d in graph.nodes(data=True)])\n",
    "    node_districts = np.array([d['district'] for u, d in graph.nodes(data=True)])\n",
    "    \n",
    "    # Get last infection time of seeds (this is time zero for the simulation)\n",
    "    last_inf_time = df.infection_timestamp.max()\n",
    "    \n",
    "    # Init list of seed events\n",
    "    init_event_list = list()\n",
    "    for _, row in df.iterrows():\n",
    "        \n",
    "        inf_time = row['infection_timestamp']\n",
    "        \n",
    "        # Sample recovery time\n",
    "        rec_time = inf_time + np.random.exponential(1./delta) - last_inf_time\n",
    "        \n",
    "        # Ignore seed if recovered before time zero\n",
    "        if rec_time > 0:\n",
    "            \n",
    "            # Randomly sample one node for each seed in the corresponding district\n",
    "            idx = np.random.choice(np.where(node_districts == row['district'])[0])\n",
    "            node = node_names[idx]\n",
    "            \n",
    "            # Add infection event \n",
    "            # node to node infection flags initial seeds in code\n",
    "            init_event_list.append([(node, 'inf', node), 0.0])  # Gets infection at the start \n",
    "            \n",
    "            # Add recovery event\n",
    "            init_event_list.append([(node, 'rec', None), rec_time])  \n",
    "            \n",
    "            if verbose:\n",
    "                print(f'Add seed {node} from district {row[\"district\"]} - inf: {0.0}, rec: {rec_time} ')\n",
    "    return init_event_list"
   ]
  },
  {
   "cell_type": "code",
   "execution_count": 10,
   "metadata": {},
   "outputs": [
    {
     "data": {
      "text/plain": [
       "[[(65, 'inf', 65), 0.0],\n",
       " [(65, 'rec', None), 2.1161325653522596],\n",
       " [(57, 'inf', 57), 0.0],\n",
       " [(57, 'rec', None), 5.968175313968203],\n",
       " [(287, 'inf', 287), 0.0],\n",
       " [(287, 'rec', None), 11.012975760373635],\n",
       " [(25, 'inf', 25), 0.0],\n",
       " [(25, 'rec', None), 11.099706004569967],\n",
       " [(22, 'inf', 22), 0.0],\n",
       " [(22, 'rec', None), 54.74917658780005],\n",
       " [(67, 'inf', 67), 0.0],\n",
       " [(67, 'rec', None), 17.33913955822237],\n",
       " [(212, 'inf', 212), 0.0],\n",
       " [(212, 'rec', None), 3.9631256760014537],\n",
       " [(66, 'inf', 66), 0.0],\n",
       " [(66, 'rec', None), 6.7605278795862915],\n",
       " [(24, 'inf', 24), 0.0],\n",
       " [(24, 'rec', None), 7.6633855576746726]]"
      ]
     },
     "execution_count": 10,
     "metadata": {},
     "output_type": "execute_result"
    }
   ],
   "source": [
    "init_event_list = sample_seeds(max_date='2014-02-26', verbose=False)\n",
    "init_event_list"
   ]
  },
  {
   "cell_type": "code",
   "execution_count": 11,
   "metadata": {},
   "outputs": [],
   "source": [
    "import warnings"
   ]
  },
  {
   "cell_type": "code",
   "execution_count": 19,
   "metadata": {
    "code_folding": []
   },
   "outputs": [
    {
     "name": "stdout",
     "output_type": "stream",
     "text": [
      "NO\n",
      "Epidemic stopped after 35.00 days | 175 sus., 110 inf., 29 rec. | 0 treated (0.00% of infected)\n",
      "Saved results.\n"
     ]
    }
   ],
   "source": [
    "# from epidemics_helper import SimulationSIR\n",
    "from dynamics_ind import SimulationSIR, PriorityQueue\n",
    "\n",
    "# param_dict = {\n",
    "#     'beta':  1.0/15.3,\n",
    "#     'gamma': 1.0/30.6,\n",
    "#     'delta': 1.0/11.4,\n",
    "#     'rho':   -1.0/22.8,\n",
    "#     'eta':   1.0\n",
    "# }\n",
    "\n",
    "param_dict = {\n",
    "    'beta':  1.0/15.3,\n",
    "    'gamma': 1.0/45.9,\n",
    "    'delta': 1.0/11.4,\n",
    "    'rho':   0.0,\n",
    "    'eta':   1.0,\n",
    "    'q_x':   100.0,\n",
    "    'q_lam':   1.0,\n",
    "}\n",
    "\n",
    "policy_dict = {\n",
    "    'TR' : 0.05,\n",
    "    'MN' : 0.013,\n",
    "    'LN' : 0.005,\n",
    "    'LRSR' : 0.1,\n",
    "    'MCM' : 0.1,\n",
    "    'front-loading' : {\n",
    "        'max_interventions' : 1000,\n",
    "        'max_lambda' : 5.0\n",
    "    }\n",
    "}\n",
    "\n",
    "\n",
    "\n",
    "all_policies = ['SOC', 'NO', 'TR', 'TR-FL', 'MN', 'MN-FL', 'LN', 'LN-FL']\n",
    "all_policies = ['NO']\n",
    "#  too slow:  'LRSR', 'LRSR-FL',\n",
    "\n",
    "\n",
    "res = []\n",
    "n_runs = 1\n",
    "max_time = 35 # 4* 7\n",
    "\n",
    "STR_PICKLE = 'sim_results.dat'\n",
    "load = False\n",
    "\n",
    "if load:\n",
    "    # load\n",
    "    with open(STR_PICKLE, \"rb\") as f:\n",
    "        res = pickle.load(f)\n",
    "        print('Loaded results.')\n",
    "else:\n",
    "    warnings.simplefilter('ignore')\n",
    "    for policy in all_policies:\n",
    "        samples = []\n",
    "        print(policy)\n",
    "\n",
    "        sir = SimulationSIR(graph, param_dict=param_dict, verbose=True)\n",
    "        for r in range(n_runs):\n",
    "            sir.launch_epidemic(init_event_list=init_event_list, max_time=max_time, policy=policy, policy_dict=policy_dict)\n",
    "            samples.append(copy.deepcopy(sir))\n",
    "\n",
    "        res.append((policy, samples))\n",
    "    \n",
    "    # save\n",
    "    with open(STR_PICKLE, \"wb\") as f:\n",
    "        pickle.dump(res, f)\n",
    "        print('Saved results.')\n",
    "\n"
   ]
  },
  {
   "cell_type": "code",
   "execution_count": null,
   "metadata": {},
   "outputs": [],
   "source": [
    "\n",
    "    "
   ]
  },
  {
   "cell_type": "markdown",
   "metadata": {},
   "source": [
    "## LP Testing"
   ]
  },
  {
   "cell_type": "code",
   "execution_count": 13,
   "metadata": {
    "code_folding": [
     4
    ]
   },
   "outputs": [],
   "source": [
    "import time\n",
    "import scipy as sp\n",
    "from lpsolvers import solve_lp, available_solvers\n",
    "\n",
    "if False:\n",
    "  \n",
    "\n",
    "    # LP testing\n",
    "    sir_obj = res[0][1][0]\n",
    "    \n",
    "    x_S = np.where(sir_obj.is_sus)[0]\n",
    "    x_I = np.where(sir_obj.is_inf)[0]\n",
    "    len_S = x_S.shape[0]\n",
    "    len_I = x_I.shape[0]\n",
    "    A_IS = sir_obj.A[np.ix_(x_I, x_S)]\n",
    "\n",
    "    K3 = sir_obj.eta * (sir_obj.gamma * (sir_obj.delta + sir_obj.eta) + sir_obj.beta * (sir_obj.delta + sir_obj.rho))\n",
    "    K4 = sir_obj.beta * (sir_obj.delta + sir_obj.rho) * sir_obj.q_x\n",
    "\n",
    "    # objective: c^T x\n",
    "    c = np.hstack((np.ones(len_I), np.zeros(len_S)))\n",
    "\n",
    "    # inequality: Ax <= b\n",
    "    A_ineq = sp.sparse.hstack(\n",
    "        [sp.sparse.csr_matrix((len_I, len_I)),  - A_IS])\n",
    "    b_ineq = K4 / K3 * np.ones(len_I) - 1e-8\n",
    "\n",
    "    # equality: Bx == d\n",
    "    A_eq = sp.sparse.hstack(\n",
    "        [sp.sparse.eye(len_I),  - A_IS])\n",
    "    b_eq = K4 / K3 * np.ones(len_I)  - 1e-8 \n",
    "\n",
    "    c_dense, A_ineq_dense, b_ineq_dense, A_eq_dense, b_eq_dense = \\\n",
    "        c, A_ineq.toarray(), b_ineq, A_eq.toarray(), b_eq\n",
    "\n",
    "    bounds = tuple([(0.0, None)] * len_I + [(None, None)] * len_S)\n",
    "\n",
    "    # new\n",
    "    C_ineq = sp.sparse.vstack([A_ineq, - A_eq])\n",
    "    C_ineq_dense = C_ineq.toarray()\n",
    "    d_ineq = np.hstack([b_ineq, -b_ineq])\n",
    "\n",
    "    print(c.shape, A_ineq.shape, A_eq.shape, b_ineq.shape, b_eq.shape)\n",
    "    print(C_ineq.shape, d_ineq.shape)\n",
    "    \n",
    "    print(A_ineq.__class__, A_ineq_dense.__class__)\n",
    "\n",
    "    print('\\nTime')\n",
    "          \n",
    "    time_0 = time.time()\n",
    "          \n",
    "    result_0 = sp.optimize.linprog(c, A_ub=C_ineq, b_ub=d_ineq,\n",
    "                                    bounds=bounds,\n",
    "                                    options={'tol': 1e-8})\n",
    "\n",
    "    time_1 = time.time()\n",
    "    print(f'5 Sparse Scipy (interior point) (ineq. only): {time_1 - time_0}')\n",
    "\n",
    "\n",
    "    # lpsolvers\n",
    "    result_1 = solve_lp(c_dense, C_ineq_dense, d_ineq, None, None)\n",
    "\n",
    "    time_2 = time.time()\n",
    "    print(f'6 lpsolvers (cvxopt) (ineq. only): {time_2 - time_1}')\n",
    "\n",
    "    print('\\nNon-zero entries')\n",
    "\n",
    "    print(np.sum(np.nonzero(result_0['x'])))\n",
    "    print(np.sum(np.nonzero(result_1)))\n",
    "\n",
    "    print('\\nObjectives')\n",
    "    print(np.dot(result_0['x'], c))\n",
    "    print(np.dot(result_1, c))\n",
    "\n"
   ]
  },
  {
   "cell_type": "code",
   "execution_count": null,
   "metadata": {
    "scrolled": false
   },
   "outputs": [],
   "source": []
  },
  {
   "cell_type": "code",
   "execution_count": null,
   "metadata": {},
   "outputs": [],
   "source": []
  },
  {
   "cell_type": "code",
   "execution_count": null,
   "metadata": {},
   "outputs": [],
   "source": []
  },
  {
   "cell_type": "code",
   "execution_count": null,
   "metadata": {},
   "outputs": [],
   "source": []
  },
  {
   "cell_type": "code",
   "execution_count": 18,
   "metadata": {
    "code_folding": [
     0,
     12
    ],
    "scrolled": false
   },
   "outputs": [
    {
     "data": {
      "image/png": "[encoded data removed]",
      "text/plain": [
       "<Figure size 576x720 with 2 Axes>"
      ]
     },
     "metadata": {
      "needs_background": "light"
     },
     "output_type": "display_data"
    },
    {
     "data": {
      "image/png": "[encoded data removed]",
      "text/plain": [
       "<Figure size 576x576 with 1 Axes>"
      ]
     },
     "metadata": {
      "needs_background": "light"
     },
     "output_type": "display_data"
    }
   ],
   "source": [
    "def estimate_Rt(sir, tspace):\n",
    "    r_t = []\n",
    "    for t in tspace:\n",
    "        early_infected_node_args = (sir.inf_occured_at >= t) & (sir.inf_occured_at < t + 7)\n",
    "        early_infected_nodes_idx = np.where(early_infected_node_args)[0]\n",
    "        s = sum(early_infected_node_args)\n",
    "        if s > 0:\n",
    "            r_t.append(sir.num_child_inf[early_infected_node_args].sum() / s)\n",
    "        else:\n",
    "            r_t.append(0)\n",
    "    return r_t\n",
    "\n",
    "def plot_populations(res, tfreq=100):\n",
    "    \n",
    "    # individual \n",
    "    rows, cols = len(res), 2\n",
    "    fig, axs = plt.subplots(rows, cols, sharey='col', figsize=(4 * cols, 2 * rows + 8))\n",
    "\n",
    "    for j, (policy, samples) in enumerate(res):\n",
    "    \n",
    "        # population\n",
    "        ax = axs[j, 0] if rows > 1 else axs[0]\n",
    "        susceptible = np.zeros((tfreq, len(samples)))\n",
    "        infected = np.zeros((tfreq, len(samples)))\n",
    "        removed = np.zeros((tfreq, len(samples)))\n",
    "        treated = np.zeros((tfreq, len(samples)))\n",
    "        for k, sir_obj in enumerate(samples):\n",
    "            tspace = np.linspace(0, sir_obj.max_time, tfreq)\n",
    "            for l, t in enumerate(tspace):\n",
    "                susceptible[l, k] = np.sum(sir_obj.nodes_at_time('S', t))\n",
    "                infected[l, k] = np.sum(sir_obj.nodes_at_time('I', t))\n",
    "                removed[l, k] = np.sum(sir_obj.nodes_at_time('R', t))\n",
    "                treated[l, k] = np.sum(sir_obj.nodes_at_time('T', t))\n",
    "\n",
    "        sus_mean, sus_std = np.mean(susceptible, axis=1), np.std(susceptible, axis=1)\n",
    "        inf_mean, inf_std = np.mean(infected, axis=1), np.std(infected, axis=1)\n",
    "        tre_mean, tre_std = np.mean(treated, axis=1), np.std(treated, axis=1)\n",
    "                                              \n",
    "        ax.plot(tspace, inf_mean, label='Infected', color='red')\n",
    "        ax.fill_between(tspace, inf_mean - inf_std, inf_mean + inf_std, color='red', alpha=0.3)\n",
    "                                       \n",
    "        ax.plot(tspace, tre_mean, label='Treated', color='blue')\n",
    "        ax.fill_between(tspace, tre_mean - tre_std, tre_mean + tre_std, color='blue', alpha=0.3)\n",
    "            \n",
    "        ax.set_xlabel('days')\n",
    "        ax.set_ylabel('population')\n",
    "        ax.set_title(policy)\n",
    "        if j == 0:\n",
    "            ax.legend();\n",
    "        \n",
    "        # r_t\n",
    "        ax = axs[j, 1] if rows > 1 else axs[1]\n",
    "        r_ts =  np.zeros((int(tfreq / 10.0), len(samples)))\n",
    "        for k, sir_obj in enumerate(samples):\n",
    "            tspace = np.linspace(0, sir_obj.max_time, int(tfreq / 10.0))\n",
    "            r_ts[:, k] = estimate_Rt(sir_obj, tspace)\n",
    "\n",
    "        r_mean, r_std = np.mean(r_ts, axis=1), np.std(r_ts, axis=1)\n",
    "\n",
    "        ax.plot(tspace, r_mean, label='R_t', color='blue')\n",
    "        ax.fill_between(tspace, r_mean - r_std, r_mean + r_std, color='blue', alpha=0.3)\n",
    "\n",
    "        ax.set_xlabel('days')\n",
    "        ax.set_ylabel('R_t')\n",
    "        ax.set_title(policy)\n",
    "        \n",
    "    plt.tight_layout()\n",
    "    \n",
    "    # all infections only\n",
    "    plt.figure(figsize=(8, 8))\n",
    "    for j, (policy, samples) in enumerate(res):\n",
    "        \n",
    "        infected = np.zeros((tfreq, len(samples)))\n",
    "\n",
    "        for k, sir_obj in enumerate(samples):\n",
    "            tspace = np.linspace(0, sir_obj.max_time, tfreq)\n",
    "            for l, t in enumerate(tspace):\n",
    "                infected[l, k] = np.sum(sir_obj.nodes_at_time('I', t))\n",
    "        \n",
    "        inf_mean, inf_std = np.mean(infected, axis=1), np.std(infected, axis=1)\n",
    "\n",
    "        plt.plot(tspace, inf_mean, label=policy)\n",
    "        plt.fill_between(tspace, inf_mean - inf_std, inf_mean + inf_std, alpha=0.3)\n",
    "\n",
    "            \n",
    "    plt.xlabel('days')\n",
    "    plt.ylabel('population')\n",
    "    plt.legend();\n",
    "    \n",
    "    plt.title('Infected by policy')\n",
    "    plt.tight_layout()\n",
    "    \n",
    "plot_populations(res, tfreq=50)   "
   ]
  },
  {
   "cell_type": "code",
   "execution_count": null,
   "metadata": {},
   "outputs": [],
   "source": []
  },
  {
   "cell_type": "code",
   "execution_count": null,
   "metadata": {},
   "outputs": [],
   "source": []
  },
  {
   "cell_type": "code",
   "execution_count": null,
   "metadata": {},
   "outputs": [],
   "source": []
  },
  {
   "cell_type": "code",
   "execution_count": null,
   "metadata": {},
   "outputs": [],
   "source": []
  },
  {
   "cell_type": "code",
   "execution_count": null,
   "metadata": {},
   "outputs": [],
   "source": []
  },
  {
   "cell_type": "markdown",
   "metadata": {},
   "source": [
    "---"
   ]
  },
  {
   "cell_type": "markdown",
   "metadata": {},
   "source": [
    "## Visualize outbreak\n",
    "\n"
   ]
  },
  {
   "cell_type": "code",
   "execution_count": 15,
   "metadata": {
    "code_folding": [
     0
    ],
    "scrolled": false
   },
   "outputs": [],
   "source": [
    "def plot_epidemic(G, sir, t):\n",
    "\n",
    "    sus = np.vectorize(sir.idx_to_node.get)(np.where(sir.nodes_at_time('S', t))[0]).tolist()\n",
    "    tre = np.vectorize(sir.idx_to_node.get)(np.where(sir.nodes_at_time('T', t))[0]).tolist()\n",
    "    inf_not_treated = np.vectorize(sir.idx_to_node.get)(\n",
    "        np.where(sir.nodes_at_time('I', t) * (1 - sir.nodes_at_time('T', t)))[0]).tolist()\n",
    "    rec = np.vectorize(sir.idx_to_node.get)(np.where(sir.nodes_at_time('R', t))[0]).tolist()\n",
    "    \n",
    "    print('Plotting ...')\n",
    "    \n",
    "    pos = nx.spring_layout(G, k=0.1)\n",
    "\n",
    "    plt.figure(figsize=(15, 15))\n",
    "    nx.draw_networkx_edges(G, pos, alpha=1.0) # potentially draw infector pathways bigger\n",
    "\n",
    "    nx.draw_networkx_nodes(G, pos, nodelist=sus,\n",
    "                        node_size=50,\n",
    "                        node_color='white',\n",
    "                        linewidths=0.7,\n",
    "                        edgecolors='black',\n",
    "                        label='healthy')\n",
    "\n",
    "    \n",
    "    nx.draw_networkx_nodes(G, pos, nodelist=inf_not_treated,\n",
    "                           node_size=50,\n",
    "                           node_color='red',\n",
    "                           # cmap=plt.cm.Blues,\n",
    "                           linewidths=0.7,\n",
    "                           edgecolors='black',\n",
    "                           label='infected')\n",
    "        \n",
    "    nx.draw_networkx_nodes(G, pos, nodelist=tre,\n",
    "                        node_size=50,\n",
    "                        cmap=plt.cm.Blues,\n",
    "                        node_color='red',\n",
    "                        linewidths=1.5,\n",
    "                        edgecolors='blue',\n",
    "                        label='infected and treated')\n",
    "    \n",
    "    nx.draw_networkx_nodes(G, pos, nodelist=rec,\n",
    "                        node_size=50,\n",
    "                        node_color='grey',\n",
    "                        linewidths=0.7,\n",
    "                        edgecolors='black',\n",
    "                        label='removed')\n",
    "    plt.axis('off')\n",
    "    plt.legend(numpoints=1)\n",
    "    plt.savefig('graph.pdf')\n",
    "\n",
    "# test_sir = res[0][1][0]\n",
    "# test_t = 40.0\n",
    "# plot_epidemic(graph, test_sir, test_t)"
   ]
  },
  {
   "cell_type": "code",
   "execution_count": null,
   "metadata": {},
   "outputs": [],
   "source": []
  },
  {
   "cell_type": "code",
   "execution_count": null,
   "metadata": {},
   "outputs": [],
   "source": []
  },
  {
   "cell_type": "code",
   "execution_count": null,
   "metadata": {},
   "outputs": [],
   "source": [
    "\n"
   ]
  },
  {
   "cell_type": "code",
   "execution_count": null,
   "metadata": {
    "scrolled": true
   },
   "outputs": [],
   "source": []
  },
  {
   "cell_type": "code",
   "execution_count": null,
   "metadata": {},
   "outputs": [],
   "source": []
  },
  {
   "cell_type": "code",
   "execution_count": null,
   "metadata": {},
   "outputs": [],
   "source": []
  },
  {
   "cell_type": "code",
   "execution_count": null,
   "metadata": {},
   "outputs": [],
   "source": []
  },
  {
   "cell_type": "code",
   "execution_count": null,
   "metadata": {},
   "outputs": [],
   "source": []
  }
 ],
 "metadata": {
  "kernelspec": {
   "display_name": "Python 3",
   "language": "python",
   "name": "python3"
  },
  "language_info": {
   "codemirror_mode": {
    "name": "ipython",
    "version": 3
   },
   "file_extension": ".py",
   "mimetype": "text/x-python",
   "name": "python",
   "nbconvert_exporter": "python",
   "pygments_lexer": "ipython3",
   "version": "3.6.7"
  }
 },
 "nbformat": 4,
 "nbformat_minor": 2
}
