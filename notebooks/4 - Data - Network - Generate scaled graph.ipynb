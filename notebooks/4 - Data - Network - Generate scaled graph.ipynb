{
 "cells": [
  {
   "cell_type": "markdown",
   "metadata": {},
   "source": [
    "# Generate scaled graph \n",
    "\n",
    "We scale the graph to make the size of each district proportional to its population. To do so, we use make Stochastic Block Model network, and we fit the parameters to make an SIR epidemic spreading over the network statistically look like the projected number of Ebola cases from the study [Ebola Virus Disease in West Africa — The First 9 Months of the Epidemic and Forward Projections](https://www.nejm.org/doi/full/10.1056/NEJMoa1411100) (See projections in Suppl. material 2).\n",
    "\n",
    "In particular, we match the doubling time for the initial exponential growth of the epidemic.\n",
    "\n",
    "The parameters are:\n",
    "* `n_nodes`: the size of the network\n",
    "* `p_in`: the intra-district probability \n",
    "* `p_ou`: the inter-district probability\n",
    "\n",
    "---"
   ]
  },
  {
   "cell_type": "markdown",
   "metadata": {},
   "source": [
    "Load libs."
   ]
  },
  {
   "cell_type": "code",
   "execution_count": 153,
   "metadata": {},
   "outputs": [
    {
     "name": "stdout",
     "output_type": "stream",
     "text": [
      "The autoreload extension is already loaded. To reload it, use:\n",
      "  %reload_ext autoreload\n"
     ]
    }
   ],
   "source": [
    "%load_ext autoreload\n",
    "%autoreload 2\n",
    "\n",
    "import numpy as np"
   ]
  },
  {
   "cell_type": "markdown",
   "metadata": {},
   "source": [
    "Add the project base directory to the path"
   ]
  },
  {
   "cell_type": "code",
   "execution_count": 154,
   "metadata": {},
   "outputs": [],
   "source": [
    "import sys\n",
    "if '..' not in sys.path:\n",
    "    sys.path.append('..')"
   ]
  },
  {
   "cell_type": "code",
   "execution_count": 155,
   "metadata": {},
   "outputs": [],
   "source": [
    "from matplotlib import pyplot as plt\n",
    "%matplotlib inline\n",
    "\n",
    "import pandas as pd\n",
    "import networkx as nx\n",
    "\n",
    "from graph_generation import make_ebola_network\n",
    "from dynamics import SIRDynamicalSystem"
   ]
  },
  {
   "cell_type": "markdown",
   "metadata": {},
   "source": [
    "---"
   ]
  },
  {
   "cell_type": "markdown",
   "metadata": {},
   "source": [
    "## Define SIR epidemic parameters"
   ]
  },
  {
   "cell_type": "markdown",
   "metadata": {},
   "source": [
    "We use the values estimated from the literature"
   ]
  },
  {
   "cell_type": "code",
   "execution_count": 156,
   "metadata": {},
   "outputs": [],
   "source": [
    "beta = 1.0 / 15.3  # Serial interval time (from literature)\n",
    "delta = 1.0 / 11.4  # Course of infection (from literature)"
   ]
  },
  {
   "cell_type": "markdown",
   "metadata": {},
   "source": [
    "## Build propagation network"
   ]
  },
  {
   "cell_type": "markdown",
   "metadata": {},
   "source": [
    "Set the stochastic block model network parameters"
   ]
  },
  {
   "cell_type": "code",
   "execution_count": 275,
   "metadata": {},
   "outputs": [],
   "source": [
    "# n_nodes = 100000\n",
    "# p_in = 0.0008\n",
    "# p_out = p_in / 5\n",
    "\n",
    "n_nodes = 100000\n",
    "p_in = 0.001\n",
    "p_out = p_in / 10"
   ]
  },
  {
   "cell_type": "markdown",
   "metadata": {},
   "source": [
    "Generate the graph"
   ]
  },
  {
   "cell_type": "code",
   "execution_count": 276,
   "metadata": {
    "scrolled": true
   },
   "outputs": [
    {
     "name": "stdout",
     "output_type": "stream",
     "text": [
      "89458 184379\n"
     ]
    }
   ],
   "source": [
    "graph = make_ebola_network(n_nodes=n_nodes, p_in=p_in, p_out=p_out)\n",
    "A = nx.adjacency_matrix(graph).toarray()\n",
    "\n",
    "n_nodes = graph.number_of_nodes()\n",
    "\n",
    "print(graph.number_of_nodes(), graph.number_of_edges())"
   ]
  },
  {
   "cell_type": "code",
   "execution_count": 277,
   "metadata": {},
   "outputs": [
    {
     "data": {
      "image/png": "[encoded data removed]",
      "text/plain": [
       "<Figure size 432x288 with 1 Axes>"
      ]
     },
     "metadata": {
      "needs_background": "light"
     },
     "output_type": "display_data"
    }
   ],
   "source": [
    "degree_sequence = [d for n, d in graph.degree()]\n",
    "max_deg = max(degree_sequence)\n",
    "plt.hist(degree_sequence, bins=max_deg+1);"
   ]
  },
  {
   "cell_type": "code",
   "execution_count": 278,
   "metadata": {},
   "outputs": [
    {
     "data": {
      "image/png": "[encoded data removed]",
      "text/plain": [
       "<Figure size 432x288 with 1 Axes>"
      ]
     },
     "metadata": {
      "needs_background": "light"
     },
     "output_type": "display_data"
    }
   ],
   "source": [
    "cluster_sizes = np.bincount([d['block'] for u,d in graph.nodes(data=True)])\n",
    "plt.boxplot(cluster_sizes);"
   ]
  },
  {
   "cell_type": "markdown",
   "metadata": {},
   "source": [
    "---"
   ]
  },
  {
   "cell_type": "markdown",
   "metadata": {},
   "source": [
    "## Run simulation on the network to validate the parameters"
   ]
  },
  {
   "cell_type": "markdown",
   "metadata": {},
   "source": [
    "Extract seeds"
   ]
  },
  {
   "cell_type": "code",
   "execution_count": 279,
   "metadata": {},
   "outputs": [],
   "source": [
    "def sample_seeds(n_seeds=None, max_date=None, verbose=True):\n",
    "    \"\"\"\n",
    "    Extract seeds from the Ebola cases datasets, by choosing either:\n",
    "    * the first `n_seeds`. \n",
    "    * the first seed until the date `max_date`.\n",
    "    We then simulate the recovery rate of the seed, and start\n",
    "    the epidemics at the infection time of the last seed.\n",
    "    Note that some seeds may have already recovered at this time. In \n",
    "    this case, they are just ignored from the simulation.\n",
    "    \"\"\"\n",
    "    assert (n_seeds is None) or (max_date is None)\n",
    "    # Load real data\n",
    "    df = pd.read_csv('../data/ebola/rstb20160308_si_001_cleaned.csv')\n",
    "    if n_seeds:\n",
    "        df = df.sort_values('infection_timestamp').iloc[:n_seeds]\n",
    "    elif max_date:\n",
    "        df = df[df.infection_date < max_date].sort_values('infection_timestamp')\n",
    "    # Extract the seed disctricts\n",
    "    seed_names = list(df['district'])\n",
    "    # Extract district name for each node in the graph\n",
    "    node_names = np.array([u for u, d in graph.nodes(data=True)])\n",
    "    node_districts = np.array([d['district'] for u, d in graph.nodes(data=True)])\n",
    "    # Get last infection time of seeds (this is time zero for the simulation)\n",
    "    last_inf_time = df.infection_timestamp.max()\n",
    "    # Init list of seed events\n",
    "    init_event_list = list()\n",
    "    for _, row in df.iterrows():\n",
    "        inf_time = row['infection_timestamp']\n",
    "        # Sample recovery time\n",
    "        rec_time = inf_time + np.random.exponential(1./delta) - last_inf_time\n",
    "        # Ignore seed if recovered before time zero\n",
    "#         print(f'Seed from district {row[\"district\"]} infected on {row[\"infection_date\"]}')\n",
    "        if rec_time > 0:\n",
    "            # Randomly sample one node for each seed in the corresponding district\n",
    "            idx = np.random.choice(np.where(node_districts == row['district'])[0])\n",
    "            node = node_names[idx]\n",
    "            # Add infection event\n",
    "            init_event_list.append([(node, 'inf', False), 0.0])  # Gets infection at the start of the epidemic\n",
    "            # Add recovery event\n",
    "            init_event_list.append([(node, 'rec', False), rec_time])  # Artificial recovery\n",
    "            if verbose:\n",
    "                print(f'Add seed {node} from district {row[\"district\"]} - inf: {0.0}, rec: {rec_time} ')\n",
    "    return init_event_list"
   ]
  },
  {
   "cell_type": "code",
   "execution_count": null,
   "metadata": {},
   "outputs": [],
   "source": []
  },
  {
   "cell_type": "markdown",
   "metadata": {},
   "source": [
    "---"
   ]
  },
  {
   "cell_type": "markdown",
   "metadata": {},
   "source": [
    "### 1. Run simulations on the early epidemic to validate the network\n",
    "\n",
    "We start with seeds until Feb 26, 2014 and run the epidemic for a couple months. At this time, we expect that there was no control measures affecting the epidemic parameters.\n",
    "\n",
    "We verify that the empirical value of $R_0$ (i.e. the average number of secondary cases infected by primary infections) roughly matches the observed values of $1.5 < R_0 < 2$. "
   ]
  },
  {
   "cell_type": "code",
   "execution_count": 280,
   "metadata": {
    "scrolled": true
   },
   "outputs": [
    {
     "name": "stdout",
     "output_type": "stream",
     "text": [
      "=== 1\n",
      "Epidemic stopped after 70.00 days | 70.00 days elapsed | 85.6% susceptible, 8.0% infected, 6.4% recovered\n",
      "=== 2\n",
      "Epidemic stopped after 70.00 days | 70.00 days elapsed | 85.8% susceptible, 6.6% infected, 7.5% recovered\n",
      "=== 3\n",
      "Epidemic stopped after 70.00 days | 70.00 days elapsed | 88.0% susceptible, 6.3% infected, 5.7% recovered\n"
     ]
    }
   ],
   "source": [
    "from epidemics_helper import SimulationSIR\n",
    "\n",
    "n_trials = 3\n",
    "\n",
    "res = list()\n",
    "for i in range(n_trials):\n",
    "    print(f'=== {i+1:d}')\n",
    "    init_event_list = sample_seeds(max_date='2014-01-26', verbose=False)\n",
    "    sir = SimulationSIR(graph, beta=1.0/15.3 - 0.0/15.3, gamma=1.0/11.4 - 0.0/11.4, verbose=True)\n",
    "    sir.launch_epidemic(init_event_list=init_event_list, max_time=10 * 7)\n",
    "    res.append(sir)"
   ]
  },
  {
   "cell_type": "code",
   "execution_count": 281,
   "metadata": {},
   "outputs": [],
   "source": [
    "def estimate_Rt(sir, week_num):\n",
    "    # infections occured in current week\n",
    "    early_infected_node_args = (sir.inf_time >= 0 * week_num ) & (sir.inf_time < 7 * (week_num + 1))\n",
    "    early_infected_nodes_idx = np.where(early_infected_node_args)[0]\n",
    "    # infected children / infected parent nodes in current week\n",
    "    return sir.num_child_inf[early_infected_node_args].sum() / sum(early_infected_node_args)\n",
    "\n",
    "# TODO should already infected children be excluded?"
   ]
  },
  {
   "cell_type": "code",
   "execution_count": 282,
   "metadata": {},
   "outputs": [],
   "source": [
    "rt_list = np.array([[estimate_Rt(sir, n) for n in range(10)] for sir in res])"
   ]
  },
  {
   "cell_type": "code",
   "execution_count": 283,
   "metadata": {
    "scrolled": true
   },
   "outputs": [
    {
     "data": {
      "text/plain": [
       "(0, 3.0)"
      ]
     },
     "execution_count": 283,
     "metadata": {},
     "output_type": "execute_result"
    },
    {
     "data": {
      "image/png": "[encoded data removed]",
      "text/plain": [
       "<Figure size 432x288 with 1 Axes>"
      ]
     },
     "metadata": {
      "needs_background": "light"
     },
     "output_type": "display_data"
    }
   ],
   "source": [
    "plt.fill_between(\n",
    "    range(10), \n",
    "    rt_list.mean(axis=0) - rt_list.std(axis=0), \n",
    "    rt_list.mean(axis=0) + rt_list.std(axis=0),\n",
    "    alpha=0.3\n",
    ")\n",
    "plt.plot(range(10), rt_list.mean(axis=0))\n",
    "plt.ylim(0, 3.0)"
   ]
  },
  {
   "cell_type": "markdown",
   "metadata": {},
   "source": [
    "---"
   ]
  },
  {
   "cell_type": "markdown",
   "metadata": {},
   "source": [
    "### 2. Run simulations on in the latter part of the epidemic to validate the intervention parameters."
   ]
  },
  {
   "cell_type": "markdown",
   "metadata": {},
   "source": [
    "Run simulations starting in September 2014, and verify that the rate of infection roughly matches the projections estimated in the literature."
   ]
  },
  {
   "cell_type": "markdown",
   "metadata": {},
   "source": [
    "Projected number of cases each week starting on September 8, 2014. (Mean, 5% CI, 95% CI)"
   ]
  },
  {
   "cell_type": "code",
   "execution_count": 274,
   "metadata": {},
   "outputs": [],
   "source": [
    "expected_projection = np.array([\n",
    "    [1215, 798, 1905],\n",
    "    [1555, 942, 2654],\n",
    "    [2042, 1145, 3792],\n",
    "    [2738, 1419, 5529],\n",
    "    [3727, 1808, 8126],\n",
    "    [5153, 2351, 12082],\n",
    "    [7202, 3081, 18043],\n",
    "    [10122, 4083, 27159],\n",
    "    [14272, 5463, 40942],\n",
    "    [20213, 7349, 61766],\n",
    "    [28752, 9896, 93011]\n",
    "])\n",
    "\n",
    "n_weeks = len(expected_projection)"
   ]
  },
  {
   "cell_type": "markdown",
   "metadata": {},
   "source": [
    "Set values for the intervation parameters"
   ]
  },
  {
   "cell_type": "code",
   "execution_count": 260,
   "metadata": {},
   "outputs": [],
   "source": [
    "# gamma = 0.6 / 15.3  # Reduction in infection rate of neighbors under treatment\n",
    "# rho = -0.3 / 11.4 # Recovery rate from treatment (if negative, then treatment means longer infections, and/or die less quickly)\n",
    "\n",
    "\n",
    "gamma = 0.9 / 15.3  # Reduction in infection rate of neighbors under treatment\n",
    "rho = -0.0 / 11.4 # Recovery rate from treatment (if negative, then treatment means longer infections, and/or die less quickly)\n"
   ]
  },
  {
   "cell_type": "code",
   "execution_count": 261,
   "metadata": {},
   "outputs": [
    {
     "name": "stdout",
     "output_type": "stream",
     "text": [
      "=== 1\n",
      "Epidemic stopped after 77.00 days | 77.00 days elapsed | 52.3% susceptible, 3.8% infected, 43.9% recovered\n",
      "=== 2\n",
      "Epidemic stopped after 77.00 days | 77.00 days elapsed | 51.4% susceptible, 4.0% infected, 44.6% recovered\n",
      "=== 3\n",
      "Epidemic stopped after 77.00 days | 77.00 days elapsed | 51.7% susceptible, 3.8% infected, 44.5% recovered\n"
     ]
    }
   ],
   "source": [
    "from epidemics_helper import SimulationSIR\n",
    "\n",
    "n_trials = 3\n",
    "\n",
    "res = list()\n",
    "for i in range(n_trials):\n",
    "    print(f'=== {i+1:d}')\n",
    "    init_event_list = sample_seeds(max_date='2014-09-08', verbose=False)\n",
    "    sir = SimulationSIR(graph, beta=beta - gamma, gamma=delta + rho, verbose=True)\n",
    "    sir.launch_epidemic(init_event_list=init_event_list, max_time=n_weeks * 7)\n",
    "    res.append(sir)"
   ]
  },
  {
   "cell_type": "code",
   "execution_count": 262,
   "metadata": {},
   "outputs": [],
   "source": [
    "tspace = np.linspace(1, n_weeks * 7, n_weeks)\n",
    "y = np.zeros([n_trials, len(tspace)])\n",
    "for i, sir in enumerate(res):\n",
    "    for j, t in enumerate(tspace):\n",
    "        y[i,j] = np.sum((sir.inf_time < t))"
   ]
  },
  {
   "cell_type": "code",
   "execution_count": 263,
   "metadata": {},
   "outputs": [
    {
     "data": {
      "text/plain": [
       "<matplotlib.legend.Legend at 0x105865ef98>"
      ]
     },
     "execution_count": 263,
     "metadata": {},
     "output_type": "execute_result"
    },
    {
     "data": {
      "image/png": "[encoded data removed]",
      "text/plain": [
       "<Figure size 432x288 with 1 Axes>"
      ]
     },
     "metadata": {
      "needs_background": "light"
     },
     "output_type": "display_data"
    }
   ],
   "source": [
    "plt.figure()\n",
    "\n",
    "c0 = 'red'\n",
    "plt.fill_between(tspace, y.mean(axis=0) - y.std(axis=0), y.mean(axis=0) + y.std(axis=0), alpha=0.3, color=c0)\n",
    "plt.plot(tspace, y.mean(axis=0), color=c0, label='simulation')\n",
    "\n",
    "c1 = 'black'\n",
    "plt.fill_between(tspace, expected_projection[:,1], expected_projection[:, 2], alpha=0.3, color=c1)\n",
    "plt.plot(tspace, expected_projection[:,0], color=c1, label='lit. projections')\n",
    "\n",
    "plt.ylim(1000, 100000)\n",
    "plt.yscale('log')\n",
    "plt.ylabel('currently infected')\n",
    "plt.legend()\n"
   ]
  },
  {
   "cell_type": "code",
   "execution_count": 249,
   "metadata": {},
   "outputs": [],
   "source": [
    "\n",
    "\n",
    "\n",
    "# # BLUE these are the cumulative infections for 10 weeks after '2014-09-08' given the data\n",
    "\n",
    "# date = '2014-09-08'\n",
    "# timestamp = 256.0 # of '2014-09-08'\n",
    "# df_proj = pd.read_csv('../data/ebola/rstb20160308_si_001_cleaned.csv')\n",
    "# y_proj = np.zeros_like(tspace)\n",
    "# c2 = 'blue'\n",
    "# t_prev = 0.0\n",
    "# for i, t in enumerate(tspace):\n",
    "#     y_proj[i] = np.sum((df_proj.infection_timestamp <= t + timestamp)) - \\\n",
    "#                 np.sum((df_proj.recovery_timestamp <= t + timestamp))\n",
    "#     t_prev = t\n",
    "# plt.plot(tspace, y_proj, color=c2, label='real data')\n",
    "# print(y_proj)"
   ]
  },
  {
   "cell_type": "markdown",
   "metadata": {},
   "source": [
    "Save the network in `json` format."
   ]
  },
  {
   "cell_type": "code",
   "execution_count": null,
   "metadata": {},
   "outputs": [],
   "source": [
    "# import json\n",
    "# from networkx.readwrite import json_graph\n",
    "\n",
    "# with open('../data/ebola/ebola_scaled_graph.json', 'w') as f:\n",
    "#     graph_data = json_graph.node_link_data(graph)\n",
    "#     graph_data['graph']['partition'] = list(map(list, graph_data['graph']['partition'])) # Fix json compatibility by casting set to list\n",
    "#     json.dump(graph_data, f)"
   ]
  },
  {
   "cell_type": "code",
   "execution_count": null,
   "metadata": {},
   "outputs": [],
   "source": []
  },
  {
   "cell_type": "code",
   "execution_count": null,
   "metadata": {},
   "outputs": [],
   "source": []
  },
  {
   "cell_type": "code",
   "execution_count": null,
   "metadata": {},
   "outputs": [],
   "source": []
  },
  {
   "cell_type": "code",
   "execution_count": null,
   "metadata": {},
   "outputs": [],
   "source": []
  },
  {
   "cell_type": "code",
   "execution_count": null,
   "metadata": {},
   "outputs": [],
   "source": []
  },
  {
   "cell_type": "code",
   "execution_count": null,
   "metadata": {},
   "outputs": [],
   "source": []
  }
 ],
 "metadata": {
  "kernelspec": {
   "display_name": "Python 3",
   "language": "python",
   "name": "python3"
  },
  "language_info": {
   "codemirror_mode": {
    "name": "ipython",
    "version": 3
   },
   "file_extension": ".py",
   "mimetype": "text/x-python",
   "name": "python",
   "nbconvert_exporter": "python",
   "pygments_lexer": "ipython3",
   "version": "3.6.7"
  }
 },
 "nbformat": 4,
 "nbformat_minor": 2
}
